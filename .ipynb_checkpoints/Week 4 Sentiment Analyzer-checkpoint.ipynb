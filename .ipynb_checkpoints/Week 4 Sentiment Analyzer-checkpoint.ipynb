{
 "cells": [
  {
   "cell_type": "markdown",
   "metadata": {},
   "source": [
    "\n",
    "# Day 1: Introduction to Machine Learning for Sentiment Analysis\n",
    "Today we will learn to build a very simple sentiment predictor, which will allow us to forecast the rating of short product reviews on a scale from very positive (5 stars) to very negative (1 star), based on the content of the text only: we will pretend that we can only see the text, and try if we can predict how many stars the user gave the product based on its tone. This is a useful exercise for situations in which we don't have a \"star rating\" easily available. For example, if we are running our own business, many users will probably write tweets or Facebook posts in which they state their opinion of the business, and we want to be able to quickly sort the good from the bad reviews.\n",
    "\n",
    "For this project, we start by setting up our Python environment, and downloading a couple of example datasets (Amazon product reviews) from the Internet. These data were collected by Julian McAuley, UCSD (http://jmcauley.ucsd.edu/data/amazon/)"
   ]
  },
  {
   "cell_type": "code",
   "execution_count": 4,
   "metadata": {},
   "outputs": [
    {
     "name": "stdout",
     "output_type": "stream",
     "text": [
      "Dataset Apps_for_Android has already been downloaded to ./data/\n"
     ]
    }
   ],
   "source": [
    "%matplotlib inline\n",
    "datadir = './data/'\n",
    "\n",
    "import urllib.request, os, gzip\n",
    "\n",
    "## a function to download any amazon products review as given in the dataset collection\n",
    "## if the \"dataset\" contains spaces, replace by underscores \"_\"\n",
    "##BE REALLY AWARE OF THE SPACES, didnt let be work for so long\n",
    "\n",
    "def download_data(dataset_name, datadir):\n",
    "    filename = 'reviews_%s_5.json' % dataset_name\n",
    "    filepath = os.path.join(datadir, filename)\n",
    "    if os.path.exists(filepath):\n",
    "        print(\"Dataset %s has already been downloaded to %s\" % (dataset_name, datadir))\n",
    "    else:\n",
    "        url = 'http://snap.stanford.edu/data/amazon/productGraph/categoryFiles/%s.gz' % filename\n",
    "        urllib.request.urlretrieve(url, filepath + \".gz\")\n",
    "        with gzip.open(filepath + \".gz\", 'rb') as fin:\n",
    "            with open(filepath, 'wb') as fout:\n",
    "                fout.write(fin.read())\n",
    "        print(\"Downloaded dataset %s and saved it to %s\" % (dataset_name, datadir))\n",
    "\n",
    "#dataset = \"Beauty\"\n",
    "#download_data(dataset, datadir)\n",
    "dataset = \"Apps_for_Android\"\n",
    "download_data(dataset, datadir)"
   ]
  },
  {
   "cell_type": "markdown",
   "metadata": {},
   "source": [
    "The data we use have been stored in the JSON format, which is a standard format for exchanging data over the Internet. The \"JS\" stands for JavaScript, which we'll learn about in week 5 of the summer of code! But Python allows us to read these data using the json library:"
   ]
  },
  {
   "cell_type": "code",
   "execution_count": 5,
   "metadata": {},
   "outputs": [],
   "source": [
    "##reading the data to a variable called data[]\n",
    "import json\n",
    "\n",
    "def load_data(dataset_name,datadir):\n",
    "    filepath = os.path.join(datadir, 'reviews_%s_5.json' % dataset_name)\n",
    "    if not os.path.exists(filepath):\n",
    "        download_data(dataset_name,datadir)\n",
    "    data=[]\n",
    "    with open(filepath, 'r') as f:\n",
    "        for line in f:                   # read file line by line\n",
    "            item_hash = hash(line)       # we will use this later for partitioning our data \n",
    "            item = json.loads(line)      # convert JSON string to Python dict\n",
    "            item['hash'] = item_hash     # add hash for identification purpose\n",
    "            data.append(item)\n",
    "    print(\"Loaded %d data for datasets %s\" % (len(data), dataset_name))\n",
    "    return data"
   ]
  },
  {
   "cell_type": "code",
   "execution_count": 6,
   "metadata": {},
   "outputs": [
    {
     "name": "stdout",
     "output_type": "stream",
     "text": [
      "Loaded 752937 data for datasets Apps_for_Android\n",
      "{'reviewerID': 'A2RK3QEUEFRNAN', 'asin': 'B008S3EJSU', 'reviewerName': 'Daddy Shawn \"Writer & daddy.\"', 'helpful': [3, 3], 'reviewText': \"Totally worth the $2.99 I paid.  Lots of fun if you're a fan of fantasy RPGs.  And it's a full game, you don't have to keep buying items with real money to continue.  That's refreshing in this horrible age of micro-transactions.  Pick it up.  You do need a good amount of space available on your device, but it's not as bad as the Final Fantasy games.  For those with new Kindles you won't have any problem.  If you've got an older model you may need to clear out some old games that you don't play.\", 'overall': 5.0, 'summary': 'Awesome game & a blast from the past.', 'unixReviewTime': 1395187200, 'reviewTime': '03 19, 2014', 'hash': -782533832592250100}\n"
     ]
    }
   ],
   "source": [
    "# load the data...\n",
    "apps = load_data(dataset, datadir)\n",
    "# ... and have a look at an example item (item number 9426):\n",
    "print(apps[367668])"
   ]
  },
  {
   "cell_type": "code",
   "execution_count": 7,
   "metadata": {},
   "outputs": [
    {
     "name": "stdout",
     "output_type": "stream",
     "text": [
      "55851 ...&amp; the losers who gave one star should crawl back into their holes &amp; stay there. What kind of moron gives one star just because they don't do yoga? If I didn't play video games, but got on ign &amp; started throwing out horrible ratings to great games just because I didn't like the looks of them, that would be ridiculous. So is doing it here! Grow up! They give us these apps so we can try them out for free. If it's not for you, move on. If it is, then great. But why would you bash the people giving it to you? Probably because you're pathetic, immature morons, who obviously have no conception of the real world. Or, like the one guy, are a religious fanatic who figures he must give one star to the satanists who made an app like this. Amazon is going to stop the faotd thing if geniuses like you keep giving bad reviews for no reason, &amp; keep complaining that they aren't giving out apps that only you like. They have to give such a huge variety to try to please everyone. People from 7-87 years old have smart phones, &amp; they can't just please one demographic. So, grow up &amp; realize life is not just about you!This app is great btw. If you do yoga, or want to learn, this is a great free way to do so!\n",
      "268244 awesome game played on a friends ipod liked it and saw it was for the the kindle on amazon even though amazon is horrible at getting the good apps. I would highly recommend this game. also if a game doesn't work for ur device, don't give it a bad review!\n",
      "367668 Totally worth the $2.99 I paid.  Lots of fun if you're a fan of fantasy RPGs.  And it's a full game, you don't have to keep buying items with real money to continue.  That's refreshing in this horrible age of micro-transactions.  Pick it up.  You do need a good amount of space available on your device, but it's not as bad as the Final Fantasy games.  For those with new Kindles you won't have any problem.  If you've got an older model you may need to clear out some old games that you don't play.\n",
      "385160 I figured with a walkthrough available I may as well give it a shot.  I'm so glad I finally did!  Yes, it was difficult, but if you keep checking your inventory and really think about how you can use it- if you like this type of game you know what I mean. And, yes, I used the walkthrough.  AND I LOVED IT !!!  EVERY MINUTE OF IT!!! I did so much better than I thought I would after reading the reviews.  I'm really tired of people leaving horrible reviews for games they don't understand.  It's not the game's fault if a person won't read the product description or the reviews.  The reviews, both good and bad, can give you a lot of specifics that can help you decide if it's the right game  for you.'The Haunt'  IS A GREAT GAME! Played perfectly on my Kindle Fire 2nd gen.  I write this as 'The Haunt 2' is downloading.  Can't wait to get into it....\n",
      "479815 When I saw this game it looked dumb and had horrible graphics. I got the game cause I was bored and now I can't stop playing it! The game is really fun but it has bad graphics still. Just because it has bad graphics doesn't mean it isn't fun. The only problem I don't like is that that every month (months are about five to ten minutes on their game) the game makes you pay the stores and you almost go bankrupt sometimes. It's still a fun game to play though because it doesn't require Internet. I do recommend this to people who like to make there own village's on games.\n",
      "533167 i absolutely love the activity of this game.  enjoy word games, but love moving around with the cursor.  HOWEVER,  i do not like...in fact i hate having to 'enable cookies' to try and respond to anything on my Kindle.  AND I HATE having some kind of streaming ad or movie clip or whatever you have attached to this game.  it is horrible that i have to click 'skip' each and every time i finish a single segment of Boggle by having to skip your attached viewing of stuff.  it is bad enough if it is funny....but worse when it is violent in nature and i do not like the tag along items.  if I can get rid of the tag along items, please tell me how to get rid of them.  this game would be complete without any of these distractions.\n",
      "547298 Oftentimes, movie tie-ins like this can turn out bad if not horrible. In the quest to make a quick buck, the marketing muscle can flex out quite a bit of useless garbage. Not in this case, luckily. This is just a good story with good pictures and good voice acting telling a very good children's tale. While I wouldn't blame you if you were skeptical of things like this, I still must recommend that you get this story for your children especially while it is the free app of the day.\n",
      "578990 Okay okay so I love this game for some reason. I usually hate games like this, having to buy other animals and care for them? I hate that, but this game caught my attention. First, it has AMAZING graphics. I couldn't avoid them. No wonder why it says 3D. Most 3D games have horrible graphics. 0-O Second, I love the background music, solo pretty. Third, animal are soooo are adorable!! Couldn't avoid that. Btw solo pretty means it pretty because it is basically playing solo. Now let's get to the bad things.... .-. First, the other app, same one is just like this but it cost like 3.99 or 2'99 Second, I hate having to buy other animals like dogs, cats, birds, horses reptiles. I have ALL the animals except for the birds :/ OMG I want the birds LOL. In my opinion you should get it :) Another GREAT game is My Horse, I'm Holly OpalHeart on My Horse, please friend me if you play it or join the game. It is not multiplayer, well you can go visit a friend's stable, give them gifts and stuff, but you can't ride or anything. You can also do champs and compete I think. Well try it out!! :) friend me too :)!!!!!! =D\n",
      "588168 I wish I had this soooooo bad I only have minecraft its horrible :-(  it sounds awesome tell me what's its like plz\n",
      "647091 I got this game for my Kindle for my grandson, and he plays it almost everything he comes over to my place. The game does not penalize you for getting something wrong, but also will not forward until you get it correct, which in my grandson's case is a good thing, because if he can get a game to make a horrible noise by being wrong that is what he will do. That is not possible in this educational game. You can also choose which of the mini-games you want to access. There is a British accent to the directions but not so bad that you cannit understand what they are asking you to do.\n",
      "659470 I was a lonely, awkward Freshman in high school the first time I ever played a Virtual Villagers game. And I was hooked from the first day! I wouldn't let anyone near the computer since the second I arrived home from school. Such good memories.I was extremely disappointed when I bought a Kindle last Christmas and discovered there wasn't a single version of Virtual Villager available.But I waited and waited and then I came across Virtual Families. It isn't the same, but it sustained me until Virtual Villagers: Origins was finally released.Let me just say, I absolutely LOVE this game. I live, eat, and breathe Virtual Villagers. No other game compares. Not even Sims.There is only one tiny little problem: my golden child is sadistic. I'm not sure if this happens to anyone else, but the golden child in my game throws a party whenever someone dies. Normally, I am able to overlook it, but this time HE WENT TOO FAR.Please listen to my tale of heartbreak.My favorite Villager died today (October 10, 2013). He was a male named Liko. He was with me since the start of the game. There wasn't  anything extraordinary about him, but he was my favorite nonetheless. He was my first ever Master Scientist and when he was about 60 something, the thought struck me that he might be close to dying, so I granted him youth for 50000 science points. (Totally worth it!) Well, he ended up being in his thirties again and all was well in my world. Time passed, now he had turned 75.I exited the game to play something else while my villagers raked in science points and food, and I returned to find him decomposing. I didn't cry like I usually do when my favorite character or player dies, but I won't deny I was sad.Then something horrible happened.As his remains were being carried away by one of his fellow villagers (and possibly daughter, he was quite the ladies man, even at an old age), the golden child decides to &quot;make a party&quot;. The villager that was carrying his remains drops him halfway to the graveyard and starts dancing. I damn near cried at that. My heart BROKE! Yes, his gravestone was there, but his remains were dropped AND LOST FOREVER because that golden child (who looks suspiciously like the killer doll, Chucky) wanted to watch everyone dance.I hate the golden child at this particular moment. HATE him.Golden Child, you have ruined Liko's burial. For that you must pay.I would even go far as saying: &quot;My name is Cindy Herrera. You ruined my Villagers burial. Prepare to die.&quot;But who else will replenish my food? We live in a cruel, cruel world.R.I.P. Liko, Master Scientist, Age 75You were a great person. A not-so-good dad, but an excellent scientist.You will forever live on in my heart.The only good thing is that there is a heart engraved on his headstone. I truly did love Liko and I'm glad the heart is there. It makes me feel as if the others saw i thought fondly of him and engraved a heart to show me they felt the same way... Now every time we look at his grave we'll remember the good times we had with him and how much he meant to us.Take THAT, golden child!Other than that incident, though, this game is a slice of heaven. It isn't perfect, but i love it.I only have one suggestion. The older villagers should be able to tell the younger villagers stories. I started this game thinking that if you dropped an older villager onto a younger one, they would tell them a story like in Virtual Families. Instead, the little ones run away and we get the message &quot;the villager is still too young!&quot; Or something along those lines. I felt like a pervert the first time I read that. That poor little kid must have thought I approached him with bad intentions. I DIDN'T! I simply wanted to tell him a story. Because a life without stories would be truly boring, in my opinion.Like I mentioned before, I've been playing Virtual Villagers since I was a teenager. I've played just about every version and I have yet to be disappointed.Thanks for the great memories, Last Day of Work.May they last forever!\n"
     ]
    }
   ],
   "source": [
    "## good reviews with bad words, these break our machines!!\n",
    "for i, l in enumerate(apps):\n",
    "    if l['overall'] == 5.0 and 'horrible' in l['reviewText'] and 'bad' in l['reviewText'] and l['helpful'][0]>0:\n",
    "        print(i, l['reviewText'])"
   ]
  },
  {
   "cell_type": "markdown",
   "metadata": {},
   "source": [
    "We see that the dataset contains 160792 data items, with 9 fields called reviewTime, asin, reviewerID, reviewText, unixReviewTime, summary, helpful, reviewerName, overall. For example, this particular review was written on May 20, 2005, by the user 'Erin White \"Erin\"'. Erin summarized the product as \"Has more comforts than Medela!\" and gave it 5 stars (out of 5). 7 out of 8 other users rated this review helpful. We also added a hash, which is a single number summarizing the whole data item. For now we can view it as a random ID that is (extremely likely to be) unique for each data item, a bit like a US social security number.\n",
    "\n",
    "For this project, we will ignore all fields except reviewText and overall (i.e. the overall rating in stars out of five). The idea is to find out if we can infer the star rating (how much the user liked the product) by only looking at the text. This way we can learn how to automatically analyze even texts that come without a star rating, such as Facebook posts or tweets.\n",
    "\n",
    "Before we start building a complicated AI solution, it is good practice to first implement a very simple \"baseline predictor\" and measure its performance. This way we get a feeling how hard (or easy) the problem is, For example, we can check for the presence of certain words with strong positive or negative connotations, such as \"good\" or \"fantastic\" versus \"bad\" or \"poor\". Note that this review contains the words \"horrible\", \"hurt\", \"bad\" and \"problem\", and still received 5 stars. This gives us already a feeling for the difficulty of the sentiment analysis problem.\n",
    "\n",
    "Before we develop our first sentiment predictor, we need to partition our data into a **training set, a validation set, and a test set**. This is something we should do in all our machine learning projects. The idea is that our predictor might overgeneralize from the examples we show it if we are not careful. This is a bit like a child whom you have shown how an iPad works, and then they try to swipe everything that looks like a screen (the TV, the microwave etc.)\n",
    "\n",
    "For instance, the example review listed above might be the only review with the phrase \"6 hours\" in it, and our predictor might learn a rule that the phrase \"6 hours\" is indicative of a high star rating. Such a rule would be unlikely to generalize well to new reviews that we didn't show to the predictor while it was training. So after training our predictor (using only examples from the training set), we need to be able to measure its performance on reviews it hasn't seen yet, which is what the test set is for. We use the validation set because we may want to explore different predictor variants and get an idea how well they perform on unseen examples before committing to one.\n",
    "\n",
    "Therefore the general procedure when developing a predictor using machine learning is as follows:\n",
    "\n",
    "Train several variants of a predictor using examples from the training set only. Use the predictor performance on the validation set to select a single best predictor among all the possible variants. This step also involves debugging our implementation of the predictor, tweaking its parameters etc. Use the test set to get an idea how well our best predictor is expected to perform on unseen data. This step should only be performed once, at the very end of the experiment: if we tweak our predictor based on its performance on the test set, we simply may find a variant that \"gets lucky\" on the test set, and overestimate its accuracy on truly unseen examples. A common rule of thumb is to use 60% of our data for the training, 20% for validation, and 20% for testing. We could simply take the first 60% of our review data for training, but then we have to assume that the dataset has been \"mixed\" well in advance. We achieve a better randomization by using the hash we computed from the JSON string and checking its modulus 10:"
   ]
  },
  {
   "cell_type": "code",
   "execution_count": 8,
   "metadata": {},
   "outputs": [
    {
     "name": "stdout",
     "output_type": "stream",
     "text": [
      "Now we have 451730 training examples, 150797 validation examples, and 150410 test examples\n"
     ]
    }
   ],
   "source": [
    "def partition_train_validation_test(data):\n",
    "    # 60% : modulus is 0, 1, 2, 3, 4, or 5\n",
    "    data_train = [item for item in data if item['hash']%10<=5]  \n",
    "    # 20% : modulus is 6 or 7\n",
    "    data_valid = [item for item in data if item['hash']%10 in [6,7]] \n",
    "    # 20% : modulus is 8 or 9\n",
    "    data_test  = [item for item in data if item['hash']%10 in [8,9]] \n",
    "    return data_train, data_valid, data_test\n",
    "    \n",
    "apps_train, apps_valid, apps_test = partition_train_validation_test(apps)\n",
    "\n",
    "print(\"Now we have\", len(apps_train), \"training examples,\", len(apps_valid),\n",
    "      \"validation examples, and\", len(apps_test), \"test examples\")"
   ]
  },
  {
   "cell_type": "markdown",
   "metadata": {},
   "source": [
    "Prediction algorithms generally work with numbers instead of text. Therefore we need to preprocess our text by extracting from it numeric **\"features\"** that we can afterwards feed into our predictor. For our simple baseline predictor, we will use only two features: the frequency of positive words in the review (\"good\", \"great\", \"like\") and the frequency of negative words in the review (\"bad\", \"horrible\", \"dislike\"). Let's call these two features **fpos** and **fneg**. Our hypothesis is that reviews with many positive words (high fpos) are likely to receive 4 or 5 stars, while reviews with many negative words (high fneg) will probably receive 1 or 2 stars. Since reviews differ in their length, it makes sense to express the **frequency of positive and negative words as a fraction of the total number of words in the review. Therefore fpos and fneg will be numbers between 0 and 1**.\n",
    "\n",
    "For example, assume the review text is \"This is a good, great, fantastic, amazing, wonderful, super product!\". We count six positive words and zero negative words (out of ten words in total), so fpos == 0.6 (6/10) and fneg == 0.0 (0/10).\n",
    "\n",
    "On the other hand, the review \"This is a bad, atrocious, terrible, dreadful, awful, abysmal product!\" will have fpos == 0.0 (0/10) and fneg == 0.6 (6/10). Alternatively we could decide to discount all **\"stop words\"**: these are extremely common words such as \"this\", \"is\" or \"a\", which are required by the syntax of the English language but don't really carry semantic meaning. If we strip out these three words, we have fpos == 0.857 (6/7) in the first example, and fneg == 0.857 in the second example.\n",
    "\n",
    "Writing down all positive and negative words in the English language by hand would be a very long and tedious task. Thankfully we don't have to do this ourselves, since it was already done by Hu and Liu (https://www.cs.uic.edu/~liub/FBS/sentiment-analysis.html). The Hu-Liu lexicon of positive and negative opinion words is available as part of NLTK:"
   ]
  },
  {
   "cell_type": "code",
   "execution_count": 10,
   "metadata": {},
   "outputs": [
    {
     "name": "stdout",
     "output_type": "stream",
     "text": [
      "Some positive words: dazzled, colorful, dreamland, thinner, dawn, entrancing, benevolent, champ, hug, supporter\n",
      "Some negative words: plight, irksome, bemused, misrepresentation, discontentedly, stupify, conflicted, sloppy, stinging, reviled\n",
      "Words that appear in both sets: envious, enviousness, enviously\n"
     ]
    }
   ],
   "source": [
    "from nltk.corpus import opinion_lexicon\n",
    "positive_words = set(opinion_lexicon.positive())\n",
    "negative_words = set(opinion_lexicon.negative())\n",
    "\n",
    "import random\n",
    "random.seed(1234)\n",
    "print(\"Some positive words:\", \", \".join(random.sample(positive_words, 10))) #notice the 'explode' happening, , before each word\n",
    "print(\"Some negative words:\", \", \".join(random.sample(negative_words, 10)))\n",
    "\n",
    "intersection = positive_words & negative_words ## intersection using ONLY '&' WOAH!!\n",
    "print(\"Words that appear in both sets: \" + \", \".join(intersection))"
   ]
  },
  {
   "cell_type": "markdown",
   "metadata": {},
   "source": [
    "While sentiment labeling of individual words can be subjective, most people would agree with the classification as positive or negative for these examples. Notice that the Hu-Liu lexicon contains different word forms: for example, it contains both adjectives (\"wholesome\") and adverbs (\"harshly\"), and verbs appear both in the base form (\"blurt\") and in inflected forms (\"picketing\"). **It also contains common misspellings (\"flicering\" instead of \"flickering\")**. This is why we will take the words in the reviews as they are (apart from minor preprocessing steps such as converting from upper-case to lower-case), and won't apply more sophisticated preprocessing techniques such as stemming.\n",
    "\n",
    "We can now write a function that takes a review text and outputs the number of positive and negative words in the review as a fraction of the total number of words in the review (excluding stop words and punctuation). Note that we have to deal with the **special case when the total number of words is zero**, which happens if the review text is empty. Otherwise we'll end up dividing by zero, and you'll remember from high school that this is not allowed!"
   ]
  },
  {
   "cell_type": "code",
   "execution_count": 11,
   "metadata": {},
   "outputs": [
    {
     "name": "stdout",
     "output_type": "stream",
     "text": [
      "(0.8571428571428571, 0.0)\n",
      "(0.0, 0.8571428571428571)\n"
     ]
    }
   ],
   "source": [
    "from nltk.corpus import stopwords\n",
    "from nltk.tokenize import sent_tokenize, word_tokenize\n",
    "\n",
    "#sent_tokenize() divides a para into sentences and word_tokenize() divides a sentence into words\n",
    "\n",
    "eng_stopwords = set(stopwords.words('english'))\n",
    "\n",
    "def my_tokenize(text):\n",
    "    # split text into lower-case tokens, removing all-punctuation tokens and stopwords\n",
    "    tokens = []\n",
    "    for sentence in sent_tokenize(text):\n",
    "        tokens.extend(x for x in word_tokenize(sentence.lower()) \n",
    "                      if x not in eng_stopwords and any(i.isalpha() for i in x)) #any means the word has atleast 1 alphabet\n",
    "    return tokens\n",
    "\n",
    "def pos_neg_fraction(text):\n",
    "    tokens = my_tokenize(text)\n",
    "    count_pos, count_neg = 0, 0\n",
    "    for t in tokens:\n",
    "        if t in positive_words:\n",
    "            count_pos += 1\n",
    "        if t in negative_words:\n",
    "            count_neg += 1\n",
    "    count_all = len(tokens)\n",
    "    if count_all != 0:\n",
    "        return count_pos/count_all, count_neg/count_all ## notice returning a pair\n",
    "    else:\n",
    "        return 0., 0.\n",
    "    \n",
    "pos_example = 'This is a good, great, fantastic, amazing, wonderful, super product!!!'\n",
    "neg_example = 'This is a bad, atrocious, terrible, dreadful, awful, abysmal product!!!'\n",
    "print(pos_neg_fraction(pos_example))\n",
    "print(pos_neg_fraction(neg_example))"
   ]
  },
  {
   "cell_type": "markdown",
   "metadata": {},
   "source": [
    "\n",
    "For our two example sentences, this seems to do what we want. Obviously, real reviews usually don't have such an extreme concentration of positive or negative words. Let's find the reviews in our real-world datasets with the highest fraction of positive and negative words, respectively. When exploring the data, it is generally a good idea to restrict ourselves to the training data only, to avoid \"peeking ahead\" and designing our algorithm so that it works well for the test examples we see.\n",
    "\n",
    "For the subsequent analysis, we **convert our training data set into a matrix X_train** with two columns and as many rows as there are examples in the data set. The first column contains the fraction of positive words, while the second column contains the fraction of negative words for each example. numpy.array is the standard way to represent matrices in Python. It provides useful helper functions, such as for finding the maximum in each column.\n",
    "\n",
    "Note that the following cell may take a few minutes to run:"
   ]
  },
  {
   "cell_type": "markdown",
   "metadata": {},
   "source": [
    "## X_train"
   ]
  },
  {
   "cell_type": "code",
   "execution_count": 12,
   "metadata": {},
   "outputs": [],
   "source": [
    "##THIS BLOCK TAKES YEARS TO EXECUTE\n",
    "import numpy\n",
    "\n",
    "def dataset_to_matrix(data):\n",
    "    return numpy.array([list(pos_neg_fraction(item['reviewText'])) for item in data])\n",
    "\n",
    "X_train = dataset_to_matrix(apps_train)"
   ]
  },
  {
   "cell_type": "markdown",
   "metadata": {},
   "source": [
    "##### loking at the most positive and most negative review"
   ]
  },
  {
   "cell_type": "code",
   "execution_count": 13,
   "metadata": {},
   "outputs": [
    {
     "name": "stdout",
     "output_type": "stream",
     "text": [
      "We found a fraction of 100.000000 % positive words for example 1779\n",
      "{'reviewerID': 'A1Q19JB1PE2V5V', 'asin': 'B004DPC5Y2', 'reviewerName': 'Artemis Antoninis', 'helpful': [0, 0], 'reviewText': 'Not fun', 'overall': 1.0, 'summary': 'Bleh', 'unixReviewTime': 1405036800, 'reviewTime': '07 11, 2014', 'hash': -8469365317120483336}\n",
      "We found a fraction of 100.000000 % negative words for example 6576\n",
      "{'reviewerID': 'A1HZYCWWJ53TS5', 'asin': 'B004HE5TAG', 'helpful': [0, 0], 'reviewText': 'boring', 'overall': 2.0, 'summary': 'Two Stars', 'unixReviewTime': 1405382400, 'reviewTime': '07 15, 2014', 'hash': -5041283464654598229}\n"
     ]
    }
   ],
   "source": [
    "most_pos, most_neg = numpy.argmax(X_train, axis=0) #axis=0 means along columns, axis=1 means along rows\n",
    "# print the example with the highest fraction of positive words:\n",
    "print(\"We found a fraction of %f %% positive words for example %d\" % \n",
    "      (100.*X_train[most_pos, 0], most_pos)) ## this means taking the value of id 'most_pos' from the 0th column\n",
    "print(apps_train[most_pos])\n",
    "print(\"We found a fraction of %f %% negative words for example %d\" %\n",
    "      (100.*X_train[most_neg, 1], most_neg)) ## this means taking the value of id 'most_neg' from the 1st column\n",
    "print(apps_train[most_neg])"
   ]
  },
  {
   "cell_type": "markdown",
   "metadata": {},
   "source": [
    "We see that there actually is an example with 100% positive words (excluding stopwords), which received 5 stars, and also an example with 100% negative words, which received 1 star. Our idea of counting positive and negative words seems promising! We are now almost ready to train our first predictor. The only thing left to do is to collect the numbers we want to predict (the star ratings which are called ``overall`` in the JSON data), and put them into another NumPy array. We'll call this one Y_train.\n",
    "\n",
    "In machine learning parlance, **the matrix X_train is called the feature matrix (what we already know) and the matrix Y_train is called the target vector (what we want to predict based on the features)**. You may remember from high-school algebra that vectors are one-dimensional while matrices are two-dimensional. This is because for every example we may have multiple features, but usually a single target. In this case we have two features (fractions of positive and negative examples), so our feature matrix has two columns.\n",
    "\n",
    "Generally, most machine learning algorithms prefer dealing with numbers (matrices) - so we have to find a way to extract numerical information from non-numerical data such as text. This is exactly what we did when counting the fraction of positive and negative words."
   ]
  },
  {
   "cell_type": "markdown",
   "metadata": {},
   "source": [
    "## Y_train"
   ]
  },
  {
   "cell_type": "code",
   "execution_count": 14,
   "metadata": {},
   "outputs": [
    {
     "name": "stdout",
     "output_type": "stream",
     "text": [
      "Our feature matrix is two-dimensional and has shape (451730, 2)\n",
      "Our target vector is one-dimensional and has shape (451730,)\n"
     ]
    }
   ],
   "source": [
    "def dataset_to_targets(data):\n",
    "    return numpy.array([item['overall'] for item in data])\n",
    "\n",
    "Y_train = dataset_to_targets(apps_train)\n",
    "print(\"Our feature matrix is two-dimensional and has shape\", X_train.shape)\n",
    "print(\"Our target vector is one-dimensional and has shape\", Y_train.shape)"
   ]
  },
  {
   "cell_type": "markdown",
   "metadata": {},
   "source": [
    "In a real machine learning project, now would be a good time to spend more time exploring and visualizing the data. For example, it is a good idea to get a feeling how the features and targets are distributed, as this determines which techniques are a good fit for the problem. The Python community has created a lot of great tools and libraries for exploratory data analysis - unfortunately we don't have the time to discuss them in detail right now.\n",
    "\n",
    "However, at least we can give you some pointers if you want to study this topic for yourself. We recommend that anyone interested in becoming a data scientist should have a look at the **Pandas** library. For example, if you want to visualize how many 1-star, 2-star etc. ratings there are in the dataset, you can do it like this:"
   ]
  },
  {
   "cell_type": "code",
   "execution_count": 16,
   "metadata": {},
   "outputs": [
    {
     "data": {
      "text/plain": [
       "<matplotlib.axes._subplots.AxesSubplot at 0x2a2645638d0>"
      ]
     },
     "execution_count": 16,
     "metadata": {},
     "output_type": "execute_result"
    },
    {
     "data": {
      "image/png": "[encoded data removed]",
      "text/plain": [
       "<Figure size 432x288 with 1 Axes>"
      ]
     },
     "metadata": {},
     "output_type": "display_data"
    }
   ],
   "source": [
    "import pandas ## pip3 install pandas, this killed my day had to put the \"3\"\n",
    "pandas.Series((Y_train)).value_counts().plot.bar()"
   ]
  },
  {
   "cell_type": "code",
   "execution_count": 17,
   "metadata": {},
   "outputs": [
    {
     "data": {
      "text/plain": [
       "'C:\\\\Users\\\\Aysha Kamal\\\\AppData\\\\Local\\\\Programs\\\\Python\\\\Python36\\\\python.exe'"
      ]
     },
     "execution_count": 17,
     "metadata": {},
     "output_type": "execute_result"
    }
   ],
   "source": [
    "import sys\n",
    "sys.executable"
   ]
  },
  {
   "cell_type": "markdown",
   "metadata": {
    "collapsed": true
   },
   "source": [
    "We see that 5-star review are by far the most frequent, and very few people leave a 1-star review. We can also visualize the distribution of our features. We see that most reviews don't have negative words at all (sharp peak around 0), while reviews without any positive words are much rarer. The typical review seems to contain around 10% positive words, and around 5% negative words:"
   ]
  },
  {
   "cell_type": "code",
   "execution_count": 19,
   "metadata": {},
   "outputs": [
    {
     "data": {
      "text/plain": [
       "<matplotlib.axes._subplots.AxesSubplot at 0x2a2621a7518>"
      ]
     },
     "execution_count": 19,
     "metadata": {},
     "output_type": "execute_result"
    },
    {
     "data": {
      "image/png": "[encoded data removed]",
      "text/plain": [
       "<Figure size 432x288 with 1 Axes>"
      ]
     },
     "metadata": {},
     "output_type": "display_data"
    }
   ],
   "source": [
    "#now had to install skipy (pip3 install scipy) -__-\n",
    "df = pandas.DataFrame(data=X_train, columns = ['fpos', 'fneg'])\n",
    "df.plot.kde(xlim=(-0.05, 0.5))"
   ]
  },
  {
   "cell_type": "markdown",
   "metadata": {},
   "source": [
    "\n",
    "These two examples are just meant to whet your appetite. To find out more, have a look at the Pandas documentation (https://pandas.pydata.org/pandas-docs/stable/tutorials.html)."
   ]
  },
  {
   "cell_type": "markdown",
   "metadata": {},
   "source": [
    "# Predictor\n",
    "We are now ready to train our first predictor! Generally it's a good idea to keep it simple at the beginning, so we'll start with a method you will probably remember from high school: **linear regression** (also known as least-squares regression). If you haven't studied the mathematics before or would like to refresh your memory, there are many good materials on the Internet, e.g. on Khanacademy: https://www.khanacademy.org/math/statistics-probability/describing-relationships-quantitative-data Otherwise you can also use the Python libraries as a \"black box\" - this will be sufficient if you don't plan on working with data a lot.\n",
    "\n",
    "Later this week we'll learn how to use Google's Tensorflow library to train a linear regression model: however, that will be mostly for pedagogical purposes, and would be a bit of an overkill in practice. The **Scikit**-learn library (http://scikit-learn.org/stable/) has very good implementations of classical predictors such as linear regression:"
   ]
  },
  {
   "cell_type": "code",
   "execution_count": 21,
   "metadata": {},
   "outputs": [
    {
     "name": "stdout",
     "output_type": "stream",
     "text": [
      "The coefficient for the fpos variable is 3.7858833518386943\n",
      "The coefficient for the fneg variable is -3.961652271328679\n",
      "The intercept is 3.5480097262375017\n"
     ]
    }
   ],
   "source": [
    "#DOWNLOAD SKLEARN pip3 install sklearn\n",
    "from sklearn.linear_model import LinearRegression\n",
    "lreg = LinearRegression().fit(X_train, Y_train)\n",
    "\n",
    "print(\"The coefficient for the fpos variable is\", lreg.coef_[0])\n",
    "print(\"The coefficient for the fneg variable is\", lreg.coef_[1])\n",
    "print(\"The intercept is\", lreg.intercept_)"
   ]
  },
  {
   "cell_type": "markdown",
   "metadata": {},
   "source": [
    "Just like this, we have trained our first machine learning model! Since linear regression is a very simple predictor, we can actually understand its inner workings quite well. The intercept is the star rating we would expect for a review that contains neither positive nor negative words (fpos==0 and fneg==0): according to the model, such a review should get about 4 stars on average.\n",
    "**y=ax + bx^2 + c , if a=0,b=0, y=c ^^**\n",
    "If the review contains 20% positive words (fpos==0.2) but still no negative words (fneg==0), we would expect the following rating:"
   ]
  },
  {
   "cell_type": "code",
   "execution_count": 22,
   "metadata": {},
   "outputs": [
    {
     "name": "stdout",
     "output_type": "stream",
     "text": [
      "The expected rating is 4.305186 stars\n",
      "This is the same as 4.305186 stars\n"
     ]
    }
   ],
   "source": [
    "features = [[0.2, 0]]\n",
    "expected_rating_A = lreg.predict(features)[0]\n",
    "print(\"The expected rating is %f stars\" % expected_rating_A)\n",
    "# we can also compute this explicitly:\n",
    "expected_rating_B = lreg.intercept_ + 0.2*lreg.coef_[0] + 0*lreg.coef_[1]\n",
    "print(\"This is the same as %f stars\" % expected_rating_B)"
   ]
  },
  {
   "cell_type": "markdown",
   "metadata": {},
   "source": [
    "However, if the review contains no positive words (fpos==0) but 20% negative words (fneg==0.2), we expect the following rating:"
   ]
  },
  {
   "cell_type": "code",
   "execution_count": 23,
   "metadata": {},
   "outputs": [
    {
     "name": "stdout",
     "output_type": "stream",
     "text": [
      "The expected rating is 2.755679 stars\n",
      "This is the same as 2.755679 stars\n"
     ]
    }
   ],
   "source": [
    "features = [[0, 0.2]]\n",
    "expected_rating_A = lreg.predict(features)[0]\n",
    "print(\"The expected rating is %f stars\" % expected_rating_A)\n",
    "# we can also compute this explicitly:\n",
    "expected_rating_B = lreg.intercept_ + 0 * lreg.coef_[0] + 0.2 * lreg.coef_[1]\n",
    "print(\"This is the same as %f stars\" % expected_rating_B)"
   ]
  },
  {
   "cell_type": "markdown",
   "metadata": {},
   "source": [
    "We see that the more positive words we have in our review, the higher the expected star rating (the coefficient for the first variable is positive).\n",
    "\n",
    "The more negative words there are in the review, however, the lower is the expected star rating (the coefficient for the second variable is negative). This is what we would intuitively expect.\n",
    "\n",
    "Remember our two examples from earlier, which contained 100% positive words (\"so cute\") or 100% negative words (\"uncomfortable\"). For these two extreme examples, we get a very odd prediction"
   ]
  },
  {
   "cell_type": "markdown",
   "metadata": {},
   "source": [
    "# Intermediate homework:\n",
    "- calculate the prediction for 100% pos, and 100% neg review\n",
    "- repeat this same process for \"Apps for Android\" dataset"
   ]
  },
  {
   "cell_type": "markdown",
   "metadata": {},
   "source": [
    "### 100% positive"
   ]
  },
  {
   "cell_type": "code",
   "execution_count": 24,
   "metadata": {},
   "outputs": [
    {
     "name": "stdout",
     "output_type": "stream",
     "text": [
      "The expected rating is 7.333893 stars\n",
      "This is the same as 7.333893 stars\n"
     ]
    }
   ],
   "source": [
    "features = [[1, 0]]\n",
    "expected_rating_A = lreg.predict(features)[0]\n",
    "print(\"The expected rating is %f stars\" % expected_rating_A)\n",
    "# we can also compute this explicitly:\n",
    "expected_rating_B = lreg.intercept_ + 1*lreg.coef_[0] + 0*lreg.coef_[1]\n",
    "print(\"This is the same as %f stars\" % expected_rating_B)"
   ]
  },
  {
   "cell_type": "markdown",
   "metadata": {},
   "source": [
    "### 100% negative"
   ]
  },
  {
   "cell_type": "code",
   "execution_count": 25,
   "metadata": {},
   "outputs": [
    {
     "name": "stdout",
     "output_type": "stream",
     "text": [
      "The expected rating is -0.413643 stars\n",
      "This is the same as -0.413643 stars\n"
     ]
    }
   ],
   "source": [
    "features = [[0,1]]\n",
    "expected_rating_A = lreg.predict(features)[0]\n",
    "print(\"The expected rating is %f stars\" % expected_rating_A)\n",
    "# we can also compute this explicitly:\n",
    "expected_rating_B = lreg.intercept_ + 0*lreg.coef_[0] + 1*lreg.coef_[1]\n",
    "print(\"This is the same as %f stars\" % expected_rating_B)"
   ]
  },
  {
   "cell_type": "markdown",
   "metadata": {},
   "source": [
    "Since we haven't told our predictor that all ratings must lie between 1 and 5 stars, it became a bit overenthusiastic in its predictions for these extreme examples. We can simply \"cut off\" these unrealistic results: if the predicted star rating is above 5 stars, we set it to 5 stars, and if it is below 1 star, we set it to 1 star. Now we have a practical prediction algorithm, which we can apply to our training dataset:"
   ]
  },
  {
   "cell_type": "markdown",
   "metadata": {},
   "source": [
    "### Make modified corrected predictor"
   ]
  },
  {
   "cell_type": "code",
   "execution_count": 26,
   "metadata": {},
   "outputs": [],
   "source": [
    "def predict_lreg(features):\n",
    "    expected_rating = lreg.predict(features)\n",
    "    expected_rating[expected_rating > 5.0] = 5.0\n",
    "    expected_rating[expected_rating < 1.0] = 1.0\n",
    "    return expected_rating\n",
    "\n",
    "pred_train = predict_lreg(X_train) ##predicted the whole training set"
   ]
  },
  {
   "cell_type": "markdown",
   "metadata": {},
   "source": [
    "### Trying the extremes again: \n",
    "(max 5 star, min 1 star)"
   ]
  },
  {
   "cell_type": "code",
   "execution_count": 27,
   "metadata": {},
   "outputs": [
    {
     "data": {
      "text/plain": [
       "array([5.])"
      ]
     },
     "execution_count": 27,
     "metadata": {},
     "output_type": "execute_result"
    }
   ],
   "source": [
    "predict_lreg([[1,0]]) #100% pos"
   ]
  },
  {
   "cell_type": "code",
   "execution_count": 28,
   "metadata": {},
   "outputs": [
    {
     "data": {
      "text/plain": [
       "array([1.])"
      ]
     },
     "execution_count": 28,
     "metadata": {},
     "output_type": "execute_result"
    }
   ],
   "source": [
    "predict_lreg([[0,1]]) #100% pos"
   ]
  },
  {
   "cell_type": "markdown",
   "metadata": {},
   "source": [
    "### Manual error checking\n",
    "Let's look at some random examples first to get a feeling how well this works:"
   ]
  },
  {
   "cell_type": "code",
   "execution_count": 29,
   "metadata": {},
   "outputs": [
    {
     "name": "stdout",
     "output_type": "stream",
     "text": [
      "Training example number 0\n",
      "True rating = 5.000000 stars, expected rating = 4.056277 stars\n",
      "Features = 0.181818 / 0.045455\n",
      "Review text = Oh, how my little grandson loves this app. He's always asking for \"Monkey.\" Grandma has tired of it long before he has. Finding the items on each page that he can touch and activate is endlessly entertaining for him, at least for now. Well worth the $.99.\n",
      "Training example number 10000\n",
      "True rating = 4.000000 stars, expected rating = 4.809971 stars\n",
      "Features = 0.333333 / 0.000000\n",
      "Review text = Good game for the price.  Nice graphics, enjoyable switchable background music, and simple enough gameplay.  Plays well on my A500.\n",
      "Training example number 20000\n",
      "True rating = 5.000000 stars, expected rating = 4.305186 stars\n",
      "Features = 0.200000 / 0.000000\n",
      "Review text = I love playing this game.  Gives my brain a nice workout with words and where to put them for more points.\n",
      "Training example number 30000\n",
      "True rating = 5.000000 stars, expected rating = 4.088850 stars\n",
      "Features = 0.142857 / 0.000000\n",
      "Review text = I listen to old time radio on XM and when I found this, I really liked it. It is simple to navigate and understand. Thank you so much for providing this.\n",
      "Training example number 50000\n",
      "True rating = 5.000000 stars, expected rating = 4.564544 stars\n",
      "Features = 0.363636 / 0.090909\n",
      "Review text = I love this game!!!!!!! I love the fart noises. Don't you? happy mothers' day to all the moms. love this.\n"
     ]
    }
   ],
   "source": [
    "def analyze_training_example(i):\n",
    "    print(\"Training example number\", i)\n",
    "    print(\"True rating = %f stars, expected rating = %f stars\" % (Y_train[i], \n",
    "                                                                  pred_train[i]))\n",
    "    print(\"Features = %f / %f\" % (X_train[i,0], X_train[i,1]))\n",
    "    print(\"Review text = %s\" % apps_train[i]['reviewText'])\n",
    "\n",
    "for i in [0, 10000, 20000, 30000, 50000]: #some random numbers\n",
    "    analyze_training_example(i)"
   ]
  },
  {
   "cell_type": "code",
   "execution_count": 30,
   "metadata": {},
   "outputs": [
    {
     "name": "stdout",
     "output_type": "stream",
     "text": [
      "['miss', 'best']\n",
      "[]\n"
     ]
    }
   ],
   "source": [
    "#trying to see why the predictor predicts 3.538736 star to a 5 star, in number 30000\n",
    "str=\"Have XM radio in the car while driving. Usually miss the ending. But with this I get the whole show while I relaxing and taking a shower..This is the best appI've ever had. Use while waiting for the doc and last week me and the doc listened to Dragnet. He's putting it on his devise too\"\n",
    "\n",
    "def pos_neg_words_show(text):\n",
    "    tokens = my_tokenize(text)\n",
    "    pos=[]\n",
    "    neg=[]\n",
    "    for t in tokens:\n",
    "        if t in positive_words:\n",
    "            pos.append(t)\n",
    "        if t in negative_words:\n",
    "            pos.append(t)\n",
    "    print(pos)\n",
    "    print(neg)\n",
    "\n",
    "pos_neg_words_show(str)"
   ]
  },
  {
   "cell_type": "markdown",
   "metadata": {},
   "source": [
    "so looks like the above example simply didnt have enough \"Positive\" words. so \"no negative words\" didnt help improve the rating"
   ]
  },
  {
   "cell_type": "markdown",
   "metadata": {},
   "source": [
    "### for baby data set\n",
    "Not terrible, but far from perfect either. These few examples already show some of the limitations of our approach. For example, example 50000 is a 1-star review which contains only a single negative word (\"hangs\"), so the predictor overestimates the rating.\n",
    "\n",
    "Example 20000 likewise overestimates the rating because it counts words like \"top\" and \"fabulous\", which don't refer to the product itself in this example.\n",
    "\n",
    "Example 30000 is not too far off, but it underestimates the rating because it counts \"regret\" as a negative word and overlooks the preceding \"not\". **Sophisticated sentiment analyzers need to account for negation**: for example, \"not bad\" should be treated differently from \"bad\". **Intensifiers** should also be accounted for: in example 10000, \"very disappointed\" is stronger than \"disappointed\", but our predictor doesn't know this.\n",
    "\n",
    "### Auto Error Checking\n",
    "While looking at individual examples is important and instructive, we need a systematic way to measure the prediction quality across all examples. Scikit-learn provides different evaluation metrics. The conceptually easiest choice is the **mean absolute error**, which counts by how many stars our predictions are off on average (in either direction).\n",
    "\n",
    "For example, assume we have three examples with true star ratings of 1, 4, 5, and predicted star ratings of 5, 4, 3. Then the first example is off by 4 stars, the second example by 0 stars (predicted and true rating match exactly), and the third example is off by 2 stars. The mean absolute error is therefore (4 + 0 + 2) / 3 = 2."
   ]
  },
  {
   "cell_type": "code",
   "execution_count": 32,
   "metadata": {},
   "outputs": [
    {
     "name": "stdout",
     "output_type": "stream",
     "text": [
      "The mean absolute error on the training data is 0.989731 stars\n"
     ]
    }
   ],
   "source": [
    "from  sklearn.metrics import mean_absolute_error\n",
    "mae_train = mean_absolute_error(pred_train, Y_train)\n",
    "print(\"The mean absolute error on the training data is %f stars\" % mae_train)"
   ]
  },
  {
   "cell_type": "markdown",
   "metadata": {},
   "source": [
    "# 98.973% ERROR !!! So Useless!!!"
   ]
  },
  {
   "cell_type": "markdown",
   "metadata": {},
   "source": [
    "So it turns out that we actually aren't that far off, although the accuracy on the validation set is a bit worse than on the training set (which should be expected). Once we move to more complex algorithms, however, we'll have to be very careful not to draw premature conclusions from the training set performance: an algorithm may easily achieve perfect accuracy on the training set, and still completely fail on unseen examples! (Like a student with a photographic memory who can reproduce all the answers to all the math problems she has seen before, but hasn't understood the underlying general theory: so she cannot compute any answer if we change the numbers in the problem slightly).\n",
    "\n",
    "We don't look at the accuracy on the test set yet, because this is the very last step we should do once we are convinced we have found the best predictor we can think of and want to run one final test. For now, we have established that linear regression with the fraction of positive and negative words as features seems to be a reasonable baseline. Can we do better? Stay tuned!"
   ]
  },
  {
   "cell_type": "markdown",
   "metadata": {},
   "source": [
    "# Certification\n",
    "### Beginner - none\n",
    "### Intermediate\n",
    "calculate the prediction for 100% pos, and 100% neg review, before the cutoff\n",
    "repeat this same process for \"Apps for Android\" dataset\n",
    "### Advanced\n",
    "build a better sentiment analyzer and comment both your code and your data exploration"
   ]
  },
  {
   "cell_type": "markdown",
   "metadata": {},
   "source": [
    "# Intro to AI Day 2: Classification versus Regression\n",
    "\n",
    "On day 1, we have tried to forecast a star rating as a number on a continuous scale: star ratings range from 1 to 5, but the way we trained our linear regression model, it sometimes returned a fractional prediction such as 4.37 stars. In general, prediction algorithms that output a number on a continuous scale are called regression algorithms. Linear regression is the most famous member of this family.\n",
    "\n",
    "Sometimes all we really need to know is a **binary answer** to a question: Is a review bad or good? Is a user's comment abusive or not? Does a marketing email convert to a sale or not? Prediction algorithms that output either \"true\" or \"false\" (instead of a number) are called classification algorithms. While classification and regression are similar in many respects, there are also a couple of important differences: both regarding the algorithms we can use and how we evaluate them.\n",
    "\n",
    "For example, assume that the only reviews we are really interested in are those with 1, 2 or 3 stars. Maybe we want to flag dissatisfied customers automatically so that we can review what went wrong and reach out to them. If we don't have the star ratings available for all customers, we want to be able to classify them as either satisfied or dissatisfied based on the textual content of their review alone. Let's introduce a variable **D_train that is true if the customer is dissatisfied **(1, 2 or 3 stars), and false if the customer is satisfied (4 stars or better):"
   ]
  },
  {
   "cell_type": "code",
   "execution_count": 33,
   "metadata": {},
   "outputs": [
    {
     "name": "stdout",
     "output_type": "stream",
     "text": [
      "The training data contains 27.628008 % dissatisfied customers\n",
      "[False False False False False False  True  True False False]\n"
     ]
    }
   ],
   "source": [
    "def  discretize_targets(Y):\n",
    "    return Y<=3.0\n",
    "\n",
    "D_train = discretize_targets(Y_train)\n",
    "print(\"The training data contains %f %% dissatisfied customers\" % (100.*D_train.mean()))\n",
    "print(D_train[:10])"
   ]
  },
  {
   "cell_type": "markdown",
   "metadata": {},
   "source": [
    "A simple classifier would be an algorithm that takes a review text and produces either \"true\" or \"false\" as an output. While this is often already useful, it doesn't tell us how **confident** the classifier is about its predictions. Is the algorithm absolutely sure that the review is bad, or is it a 50-50 decision? We may want to handle these cases differently, since some of the algorithm's errors can be more dangerous than others. In general, a classification algorithm can make two different kinds of errors: **false positives** mean that we wrongly flag a satisfied review (D == false) as dissatisfied, while **false negatives** mean that we wrongly flag a dissatisfied review (D == true) as satisfied. Often we will use our classification algorithm only as a screening filter to flag candidates for manual review. A false positive means that the reviewer has to read a lot of good reviews and confirm that there isn't actually a need to take action."
   ]
  },
  {
   "cell_type": "code",
   "execution_count": 34,
   "metadata": {},
   "outputs": [
    {
     "data": {
      "text/plain": [
       "<matplotlib.axes._subplots.AxesSubplot at 0x2a261fa8f28>"
      ]
     },
     "execution_count": 34,
     "metadata": {},
     "output_type": "execute_result"
    },
    {
     "data": {
      "image/png": "[encoded data removed]",
      "text/plain": [
       "<Figure size 432x288 with 1 Axes>"
      ]
     },
     "metadata": {},
     "output_type": "display_data"
    }
   ],
   "source": [
    "points = numpy.linspace(-5.0, 5.0)\n",
    "logistic_function = pandas.Series(1/(numpy.exp(-points)+1), index=points)\n",
    "logistic_function.plot()\n",
    "##The underlying way in which logistic function works\n",
    "##Its kinda like a surety vs rating/satisfaction graph, e.g the pc is around\n",
    "##80% sure at 2, 50% sre at arounf 0 etc."
   ]
  },
  {
   "cell_type": "markdown",
   "metadata": {},
   "source": [
    "### Last time we used linear regression, now we use logistics regression."
   ]
  },
  {
   "cell_type": "code",
   "execution_count": 35,
   "metadata": {},
   "outputs": [
    {
     "name": "stdout",
     "output_type": "stream",
     "text": [
      "Training example number 6576\n",
      "True rating = 2.000000 stars\n",
      "Expected to be dissatisfied: True\n",
      "Expected probability of being dissatisfied : 0.996558\n",
      "Features = 0.000000 / 1.000000\n",
      "Review text = boring\n",
      "Training example number 1779\n",
      "True rating = 1.000000 stars\n",
      "Expected to be dissatisfied: False\n",
      "Expected probability of being dissatisfied : 0.000182\n",
      "Features = 1.000000 / 0.000000\n",
      "Review text = Not fun\n"
     ]
    }
   ],
   "source": [
    "from sklearn.linear_model import LogisticRegression\n",
    "logreg = LogisticRegression().fit(X_train, D_train)\n",
    "# The predict_proba() method produces a matrix with two columns\n",
    "# the first column contains the probability for the label being \"false\" (satisfied customer)\n",
    "# the second column contains the probability for the label being \"true\" (dissatisfied customer)\n",
    "# the sum of both columns is 1\n",
    "# we select the second column with [:,1]\n",
    "# [:,0] would select the first column\n",
    "# [1,:] would select the second row\n",
    "prob2_train = logreg.predict_proba(X_train)[:,1]\n",
    "pred2_train = prob2_train > 0.5\n",
    "max_prob2 = numpy.argmax(prob2_train)\n",
    "min_prob2 = numpy.argmin(prob2_train)\n",
    "\n",
    "def analyze_training_example_2(i):\n",
    "    print(\"Training example number\", i)\n",
    "    print(\"True rating = %f stars\" % Y_train[i])\n",
    "    print(\"Expected to be dissatisfied:\", pred2_train[i])\n",
    "    print(\"Expected probability of being dissatisfied : %f\" % prob2_train[i])\n",
    "    print(\"Features = %f / %f\" % (X_train[i,0], X_train[i,1]))\n",
    "    print(\"Review text = %s\" % apps_train[i]['reviewText'])\n",
    "    \n",
    "analyze_training_example_2(max_prob2)\n",
    "analyze_training_example_2(min_prob2)"
   ]
  },
  {
   "cell_type": "markdown",
   "metadata": {},
   "source": [
    "\n",
    "# Intermediate HW\n",
    "Change the treshold from 0.5 to 0.2, and rerun the code.\n",
    "\n",
    "Give a commentary in plain English about how that changed precision and recall. What does that mean? What is now included that wasn't before? What part of it is good? What is bad from our Task perspective. Remember: our task was to identify Dissatisfied reviews.\n",
    "\n",
    "https://en.wikipedia.org/wiki/Precision_and_recall"
   ]
  },
  {
   "cell_type": "markdown",
   "metadata": {},
   "source": [
    "# HW"
   ]
  },
  {
   "cell_type": "code",
   "execution_count": 36,
   "metadata": {},
   "outputs": [
    {
     "name": "stdout",
     "output_type": "stream",
     "text": [
      "Training example number 6576\n",
      "True rating = 2.000000 stars\n",
      "Expected to be dissatisfied: True\n",
      "Expected probability of being dissatisfied : 0.996558\n",
      "Features = 0.000000 / 1.000000\n",
      "Review text = boring\n",
      "Training example number 1779\n",
      "True rating = 1.000000 stars\n",
      "Expected to be dissatisfied: False\n",
      "Expected probability of being dissatisfied : 0.000182\n",
      "Features = 1.000000 / 0.000000\n",
      "Review text = Not fun\n"
     ]
    }
   ],
   "source": [
    "##Change the treshold from 0.5 to 0.2, and rerun the code.\n",
    "pred2A_train = prob2_train > 0.2\n",
    "\n",
    "def analyze_training_example_2A(i):\n",
    "    print(\"Training example number\", i)\n",
    "    print(\"True rating = %f stars\" % Y_train[i])\n",
    "    print(\"Expected to be dissatisfied:\", pred2A_train[i])\n",
    "    print(\"Expected probability of being dissatisfied : %f\" % prob2_train[i])\n",
    "    print(\"Features = %f / %f\" % (X_train[i,0], X_train[i,1]))\n",
    "    print(\"Review text = %s\" % apps_train[i]['reviewText'])\n",
    "    \n",
    "analyze_training_example_2A(max_prob2)\n",
    "analyze_training_example_2A(min_prob2)"
   ]
  },
  {
   "cell_type": "markdown",
   "metadata": {},
   "source": [
    "### HW text\n",
    "Precision reduced and recall increased! Whenever there is more than 20% probability that the review might be bad, we are flagging it, 20% is a small number honestly to flag a review. On the otherhand, the more we are trying to help people and manually check reviews(even with 80% good probability to be a good review), the more time consuming human work has to be done. So the power of machine learning and automation isn't used to it's potential. It might be good that we are certainly getting most bad reviews and checking them, so that there are no loopholes, but from task perspective the bad part is the reduced automation of flagging."
   ]
  },
  {
   "cell_type": "code",
   "execution_count": 37,
   "metadata": {},
   "outputs": [
    {
     "name": "stdout",
     "output_type": "stream",
     "text": [
      "For the default threshold (0.5) we get precision = 0.652288 and recall = 0.229239\n"
     ]
    }
   ],
   "source": [
    "from sklearn.metrics import precision_score, recall_score\n",
    "precision2 = precision_score(D_train, pred2_train)\n",
    "recall2 = recall_score(D_train, pred2_train)\n",
    "print(\"For the default threshold (0.5) we get precision = %f \"\n",
    "      \"and recall = %f\" % (precision2, recall2))"
   ]
  },
  {
   "cell_type": "markdown",
   "metadata": {},
   "source": [
    "<img src=\"https://upload.wikimedia.org/wikipedia/commons/thumb/2/26/Precisionrecall.svg/330px-Precisionrecall.svg.png\"/>"
   ]
  },
  {
   "cell_type": "markdown",
   "metadata": {},
   "source": [
    "#### We only found 22% of the dissatisfied customers, missed 78% of dissatisfied customers(false negatives).\n",
    "#### Out of the ones we flagged, 65% are actually dissatified, 35% are actually okay."
   ]
  },
  {
   "cell_type": "markdown",
   "metadata": {},
   "source": [
    "## HW precision recall check (verify with text)"
   ]
  },
  {
   "cell_type": "code",
   "execution_count": 38,
   "metadata": {},
   "outputs": [
    {
     "name": "stdout",
     "output_type": "stream",
     "text": [
      "For the default threshold (0.2) we get precision = 0.372425 and recall = 0.840454\n"
     ]
    }
   ],
   "source": [
    "from sklearn.metrics import precision_score, recall_score\n",
    "precision2A = precision_score(D_train, pred2A_train)\n",
    "recall2A = recall_score(D_train, pred2A_train)\n",
    "print(\"For the default threshold (0.2) we get precision = %f \"\n",
    "      \"and recall = %f\" % (precision2A, recall2A))"
   ]
  },
  {
   "cell_type": "markdown",
   "metadata": {},
   "source": [
    "## Precision REDUCED from 65% to 37% \n",
    "## Recall increased from 22% to 84%"
   ]
  },
  {
   "cell_type": "markdown",
   "metadata": {},
   "source": [
    "### Graphing"
   ]
  },
  {
   "cell_type": "code",
   "execution_count": 39,
   "metadata": {},
   "outputs": [
    {
     "name": "stdout",
     "output_type": "stream",
     "text": [
      "Precision as function of threshold:\n"
     ]
    },
    {
     "data": {
      "text/plain": [
       "<matplotlib.axes._subplots.AxesSubplot at 0x2a26210ab00>"
      ]
     },
     "execution_count": 39,
     "metadata": {},
     "output_type": "execute_result"
    },
    {
     "data": {
      "image/png": "[encoded data removed]",
      "text/plain": [
       "<Figure size 432x288 with 1 Axes>"
      ]
     },
     "metadata": {},
     "output_type": "display_data"
    }
   ],
   "source": [
    "from sklearn.metrics import precision_recall_curve\n",
    "all_precision2, all_recall2, all_thresh2 = precision_recall_curve(\n",
    "    D_train, prob2_train)\n",
    "print(\"Precision as function of threshold:\")\n",
    "pandas.Series(all_precision2[:-1], index=all_thresh2).plot()"
   ]
  },
  {
   "cell_type": "code",
   "execution_count": 40,
   "metadata": {},
   "outputs": [
    {
     "name": "stdout",
     "output_type": "stream",
     "text": [
      "Recall as function of threshold:\n"
     ]
    },
    {
     "data": {
      "text/plain": [
       "<matplotlib.axes._subplots.AxesSubplot at 0x2a262554da0>"
      ]
     },
     "execution_count": 40,
     "metadata": {},
     "output_type": "execute_result"
    },
    {
     "data": {
      "image/png": "[encoded data removed]",
      "text/plain": [
       "<Figure size 432x288 with 1 Axes>"
      ]
     },
     "metadata": {},
     "output_type": "display_data"
    }
   ],
   "source": [
    "print(\"Recall as function of threshold:\")\n",
    "pandas.Series(all_recall2[:-1], index=all_thresh2).plot()"
   ]
  },
  {
   "cell_type": "code",
   "execution_count": 41,
   "metadata": {},
   "outputs": [
    {
     "name": "stdout",
     "output_type": "stream",
     "text": [
      "Recall as function of precision:\n"
     ]
    },
    {
     "data": {
      "text/plain": [
       "<matplotlib.axes._subplots.AxesSubplot at 0x2a2626050f0>"
      ]
     },
     "execution_count": 41,
     "metadata": {},
     "output_type": "execute_result"
    },
    {
     "data": {
      "image/png": "[encoded data removed]",
      "text/plain": [
       "<Figure size 432x288 with 1 Axes>"
      ]
     },
     "metadata": {},
     "output_type": "display_data"
    }
   ],
   "source": [
    "## A trade-off graph, precision vs recall trade-off\n",
    "print(\"Recall as function of precision:\")\n",
    "pandas.Series(all_recall2[:-1], index=all_precision2[:-1]).plot()"
   ]
  },
  {
   "cell_type": "markdown",
   "metadata": {},
   "source": [
    "### Details in the book, here we use it as a Black-Box\n",
    "watch the precision-recall improvement"
   ]
  },
  {
   "cell_type": "code",
   "execution_count": 42,
   "metadata": {},
   "outputs": [
    {
     "name": "stdout",
     "output_type": "stream",
     "text": [
      "Now the precision is 0.565166 and the recall is 0.212573\n"
     ]
    },
    {
     "data": {
      "text/plain": [
       "<matplotlib.axes._subplots.AxesSubplot at 0x2a2627f9b00>"
      ]
     },
     "execution_count": 42,
     "metadata": {},
     "output_type": "execute_result"
    },
    {
     "data": {
      "image/png": "[encoded data removed]",
      "text/plain": [
       "<Figure size 432x288 with 1 Axes>"
      ]
     },
     "metadata": {},
     "output_type": "display_data"
    }
   ],
   "source": [
    "from sklearn.naive_bayes import GaussianNB, BernoulliNB\n",
    "nb = GaussianNB().fit(X_train, D_train)\n",
    "prob3_train = nb.predict_proba(X_train)[:,1]\n",
    "pred3_train = prob3_train>0.5\n",
    "precision3 = precision_score(D_train, pred3_train)\n",
    "recall3 = recall_score(D_train, pred3_train)\n",
    "print(\"Now the precision is %f and the recall is %f\" % (precision3, recall3))\n",
    "all_precision3, all_recall3, all_thresh3 = precision_recall_curve(\n",
    "    D_train, prob3_train)\n",
    "pandas.Series(all_recall3[:-1], index=all_precision3[:-1]).plot()"
   ]
  },
  {
   "cell_type": "markdown",
   "metadata": {},
   "source": [
    "Chapter 6 of NLTK describes Naive-Bayes http://www.nltk.org/book/ch06.html"
   ]
  },
  {
   "cell_type": "code",
   "execution_count": 47,
   "metadata": {},
   "outputs": [
    {
     "name": "stdout",
     "output_type": "stream",
     "text": [
      "3.6.6\n"
     ]
    }
   ],
   "source": [
    "import platform\n",
    "print(platform.python_version())"
   ]
  },
  {
   "cell_type": "markdown",
   "metadata": {},
   "source": [
    "# TensorFlow\n",
    "Linear Regression\n",
    "\n",
    "Step 1: Make sure you follow installation guide of TensorFlow and then you will be able to import it. https://www.tensorflow.org/\n",
    "<br/> `N.B: Tensor flow supports only 3.5 and 3.6 python, higher versions wont work as well.`"
   ]
  },
  {
   "cell_type": "code",
   "execution_count": 48,
   "metadata": {},
   "outputs": [],
   "source": [
    "import tensorflow as tf"
   ]
  },
  {
   "cell_type": "code",
   "execution_count": 49,
   "metadata": {},
   "outputs": [
    {
     "name": "stdout",
     "output_type": "stream",
     "text": [
      "INFO:tensorflow:Using default config.\n",
      "WARNING:tensorflow:Using temporary folder as model directory: C:\\Users\\AYSHAK~1\\AppData\\Local\\Temp\\tmpdkby2j2p\n",
      "INFO:tensorflow:Using config: {'_model_dir': 'C:\\\\Users\\\\AYSHAK~1\\\\AppData\\\\Local\\\\Temp\\\\tmpdkby2j2p', '_tf_random_seed': None, '_save_summary_steps': 100, '_save_checkpoints_steps': None, '_save_checkpoints_secs': 600, '_session_config': None, '_keep_checkpoint_max': 5, '_keep_checkpoint_every_n_hours': 10000, '_log_step_count_steps': 100, '_train_distribute': None, '_device_fn': None, '_service': None, '_cluster_spec': <tensorflow.python.training.server_lib.ClusterSpec object at 0x000002A2620BA630>, '_task_type': 'worker', '_task_id': 0, '_global_id_in_cluster': 0, '_master': '', '_evaluation_master': '', '_is_chief': True, '_num_ps_replicas': 0, '_num_worker_replicas': 1}\n",
      "INFO:tensorflow:Calling model_fn.\n",
      "INFO:tensorflow:Done calling model_fn.\n",
      "INFO:tensorflow:Create CheckpointSaverHook.\n",
      "INFO:tensorflow:Graph was finalized.\n",
      "INFO:tensorflow:Running local_init_op.\n",
      "INFO:tensorflow:Done running local_init_op.\n",
      "INFO:tensorflow:Saving checkpoints for 0 into C:\\Users\\AYSHAK~1\\AppData\\Local\\Temp\\tmpdkby2j2p\\model.ckpt.\n",
      "INFO:tensorflow:loss = 2459.0, step = 1\n",
      "INFO:tensorflow:global_step/sec: 401.736\n",
      "INFO:tensorflow:loss = 307.25983, step = 101 (0.251 sec)\n",
      "INFO:tensorflow:global_step/sec: 518.303\n",
      "INFO:tensorflow:loss = 224.19489, step = 201 (0.200 sec)\n",
      "INFO:tensorflow:global_step/sec: 558.836\n",
      "INFO:tensorflow:loss = 257.6741, step = 301 (0.173 sec)\n",
      "INFO:tensorflow:global_step/sec: 545.101\n",
      "INFO:tensorflow:loss = 249.53754, step = 401 (0.183 sec)\n",
      "INFO:tensorflow:global_step/sec: 507.777\n",
      "INFO:tensorflow:loss = 162.67355, step = 501 (0.200 sec)\n",
      "INFO:tensorflow:global_step/sec: 505.214\n",
      "INFO:tensorflow:loss = 217.49388, step = 601 (0.197 sec)\n",
      "INFO:tensorflow:global_step/sec: 502.672\n",
      "INFO:tensorflow:loss = 186.04355, step = 701 (0.198 sec)\n",
      "INFO:tensorflow:global_step/sec: 526.485\n",
      "INFO:tensorflow:loss = 278.78156, step = 801 (0.187 sec)\n",
      "INFO:tensorflow:global_step/sec: 646.127\n",
      "INFO:tensorflow:loss = 146.59091, step = 901 (0.153 sec)\n",
      "INFO:tensorflow:global_step/sec: 567.635\n",
      "INFO:tensorflow:loss = 210.84915, step = 1001 (0.178 sec)\n",
      "INFO:tensorflow:global_step/sec: 607.336\n",
      "INFO:tensorflow:loss = 183.16315, step = 1101 (0.163 sec)\n",
      "INFO:tensorflow:global_step/sec: 591.329\n",
      "INFO:tensorflow:loss = 223.67432, step = 1201 (0.171 sec)\n",
      "INFO:tensorflow:global_step/sec: 573.215\n",
      "INFO:tensorflow:loss = 254.59712, step = 1301 (0.175 sec)\n",
      "INFO:tensorflow:global_step/sec: 500.158\n",
      "INFO:tensorflow:loss = 185.19913, step = 1401 (0.203 sec)\n",
      "INFO:tensorflow:global_step/sec: 502.674\n",
      "INFO:tensorflow:loss = 194.9124, step = 1501 (0.199 sec)\n",
      "INFO:tensorflow:global_step/sec: 463.108\n",
      "INFO:tensorflow:loss = 262.15372, step = 1601 (0.218 sec)\n",
      "INFO:tensorflow:global_step/sec: 459.28\n",
      "INFO:tensorflow:loss = 143.47293, step = 1701 (0.212 sec)\n",
      "INFO:tensorflow:global_step/sec: 520.862\n",
      "INFO:tensorflow:loss = 175.17865, step = 1801 (0.192 sec)\n",
      "INFO:tensorflow:global_step/sec: 609.955\n",
      "INFO:tensorflow:loss = 272.0699, step = 1901 (0.165 sec)\n",
      "INFO:tensorflow:global_step/sec: 702.578\n",
      "INFO:tensorflow:loss = 208.36761, step = 2001 (0.139 sec)\n",
      "INFO:tensorflow:global_step/sec: 706.233\n",
      "INFO:tensorflow:loss = 189.00308, step = 2101 (0.147 sec)\n",
      "INFO:tensorflow:global_step/sec: 671.135\n",
      "INFO:tensorflow:loss = 233.43733, step = 2201 (0.148 sec)\n",
      "INFO:tensorflow:global_step/sec: 667.795\n",
      "INFO:tensorflow:loss = 139.3414, step = 2301 (0.146 sec)\n",
      "INFO:tensorflow:global_step/sec: 738.91\n",
      "INFO:tensorflow:loss = 178.89554, step = 2401 (0.140 sec)\n",
      "INFO:tensorflow:global_step/sec: 709.18\n",
      "INFO:tensorflow:loss = 163.83627, step = 2501 (0.138 sec)\n",
      "INFO:tensorflow:global_step/sec: 687.867\n",
      "INFO:tensorflow:loss = 196.78864, step = 2601 (0.145 sec)\n",
      "INFO:tensorflow:global_step/sec: 747.264\n",
      "INFO:tensorflow:loss = 277.52094, step = 2701 (0.137 sec)\n",
      "INFO:tensorflow:global_step/sec: 715.891\n",
      "INFO:tensorflow:loss = 170.13611, step = 2801 (0.135 sec)\n",
      "INFO:tensorflow:global_step/sec: 669.468\n",
      "INFO:tensorflow:loss = 230.51779, step = 2901 (0.152 sec)\n",
      "INFO:tensorflow:global_step/sec: 734.069\n",
      "INFO:tensorflow:loss = 187.28664, step = 3001 (0.136 sec)\n",
      "INFO:tensorflow:global_step/sec: 709.185\n",
      "INFO:tensorflow:loss = 175.22867, step = 3101 (0.143 sec)\n",
      "INFO:tensorflow:global_step/sec: 720.12\n",
      "INFO:tensorflow:loss = 169.82529, step = 3201 (0.139 sec)\n",
      "INFO:tensorflow:global_step/sec: 727.83\n",
      "INFO:tensorflow:loss = 217.08655, step = 3301 (0.137 sec)\n",
      "INFO:tensorflow:global_step/sec: 703.032\n",
      "INFO:tensorflow:loss = 192.68002, step = 3401 (0.140 sec)\n",
      "INFO:tensorflow:global_step/sec: 666.877\n",
      "INFO:tensorflow:loss = 224.67203, step = 3501 (0.150 sec)\n",
      "INFO:tensorflow:global_step/sec: 600.609\n",
      "INFO:tensorflow:loss = 255.65747, step = 3601 (0.165 sec)\n",
      "INFO:tensorflow:global_step/sec: 581.579\n",
      "INFO:tensorflow:loss = 177.01212, step = 3701 (0.172 sec)\n",
      "INFO:tensorflow:global_step/sec: 543.654\n",
      "INFO:tensorflow:loss = 204.85016, step = 3801 (0.185 sec)\n",
      "INFO:tensorflow:global_step/sec: 549.628\n",
      "INFO:tensorflow:loss = 199.30551, step = 3901 (0.183 sec)\n",
      "INFO:tensorflow:global_step/sec: 595.429\n",
      "INFO:tensorflow:loss = 225.63733, step = 4001 (0.167 sec)\n",
      "INFO:tensorflow:global_step/sec: 568.361\n",
      "INFO:tensorflow:loss = 197.45015, step = 4101 (0.178 sec)\n",
      "INFO:tensorflow:global_step/sec: 483.248\n",
      "INFO:tensorflow:loss = 169.69214, step = 4201 (0.207 sec)\n",
      "INFO:tensorflow:global_step/sec: 546.623\n",
      "INFO:tensorflow:loss = 229.14194, step = 4301 (0.181 sec)\n",
      "INFO:tensorflow:global_step/sec: 502.672\n",
      "INFO:tensorflow:loss = 234.20258, step = 4401 (0.200 sec)\n",
      "INFO:tensorflow:global_step/sec: 529.273\n",
      "INFO:tensorflow:loss = 228.84518, step = 4501 (0.194 sec)\n",
      "INFO:tensorflow:global_step/sec: 465.015\n",
      "INFO:tensorflow:loss = 163.46243, step = 4601 (0.210 sec)\n",
      "INFO:tensorflow:global_step/sec: 591.908\n",
      "INFO:tensorflow:loss = 188.54884, step = 4701 (0.168 sec)\n",
      "INFO:tensorflow:global_step/sec: 606.251\n",
      "INFO:tensorflow:loss = 182.9428, step = 4801 (0.164 sec)\n",
      "INFO:tensorflow:global_step/sec: 595.434\n",
      "INFO:tensorflow:loss = 203.05127, step = 4901 (0.170 sec)\n",
      "INFO:tensorflow:Saving checkpoints for 5000 into C:\\Users\\AYSHAK~1\\AppData\\Local\\Temp\\tmpdkby2j2p\\model.ckpt.\n",
      "INFO:tensorflow:Loss for final step: 130.38425.\n"
     ]
    },
    {
     "data": {
      "text/plain": [
       "<tensorflow.python.estimator.canned.linear.LinearRegressor at 0x2a264beacf8>"
      ]
     },
     "execution_count": 49,
     "metadata": {},
     "output_type": "execute_result"
    }
   ],
   "source": [
    "import tensorflow as tf\n",
    "feat_cols = [tf.feature_column.numeric_column(key=\"fpos\"),\n",
    "             tf.feature_column.numeric_column(key=\"fneg\")]\n",
    "model = tf.estimator.LinearRegressor(feature_columns=feat_cols)\n",
    "get_training_data = tf.estimator.inputs.numpy_input_fn(\n",
    "                     x={\"fpos\" : X_train[:,0], \"fneg\" : X_train[:,1]},\n",
    "                     y=Y_train, num_epochs=None, shuffle=True)\n",
    "\n",
    "model.train(input_fn=get_training_data, steps=5000)"
   ]
  },
  {
   "cell_type": "markdown",
   "metadata": {},
   "source": [
    "##### Tensor flow was given the fraction of pos and negative words, it spit out tits estimation. \n",
    "Tensor flow was refining and fitting the curve better and better at each step, to compare with the our first model(of linear regression) we find the mean absolute error(auto) / look at absolute values of the predictor(manual)"
   ]
  },
  {
   "cell_type": "code",
   "execution_count": 50,
   "metadata": {},
   "outputs": [
    {
     "name": "stdout",
     "output_type": "stream",
     "text": [
      "INFO:tensorflow:Calling model_fn.\n",
      "INFO:tensorflow:Done calling model_fn.\n",
      "INFO:tensorflow:Graph was finalized.\n",
      "INFO:tensorflow:Restoring parameters from C:\\Users\\AYSHAK~1\\AppData\\Local\\Temp\\tmpdkby2j2p\\model.ckpt-5000\n",
      "INFO:tensorflow:Running local_init_op.\n",
      "INFO:tensorflow:Done running local_init_op.\n",
      "The mean absolute error on the training data is 1.005123 stars\n"
     ]
    }
   ],
   "source": [
    "eval_training_data = tf.estimator.inputs.numpy_input_fn(\n",
    "                     x={\"fpos\":X_train[:,0], \"fneg\": X_train[:,1]},\n",
    "                     num_epochs=1, shuffle=False)\n",
    "pred_train_tf = numpy.array([item['predictions'][0] for item in \n",
    "                         model.predict(input_fn=eval_training_data)])\n",
    "mae_train_tf = mean_absolute_error(pred_train_tf, Y_train)\n",
    "print(\"The mean absolute error on the training data is %f stars\" \n",
    "      % mae_train_tf)"
   ]
  },
  {
   "cell_type": "markdown",
   "metadata": {},
   "source": [
    "### Previous absolute error: 98.93%\n",
    "## With TensorFlow: error : 100.5123%"
   ]
  },
  {
   "cell_type": "markdown",
   "metadata": {},
   "source": [
    "# NLTK Built In Sentiment Analyzer"
   ]
  },
  {
   "cell_type": "markdown",
   "metadata": {},
   "source": [
    "### Checking error of the first linear regression, with negation detection included!"
   ]
  },
  {
   "cell_type": "code",
   "execution_count": 53,
   "metadata": {},
   "outputs": [
    {
     "name": "stdout",
     "output_type": "stream",
     "text": [
      "Sentence = This product wasn't bad.\n",
      "['this', 'product', 'was', \"n't\", 'bad_NEG', '.']\n",
      "Sentence = This is not a bad product.\n",
      "['this', 'is', 'not', 'a_NEG', 'bad_NEG', 'product_NEG', '.']\n",
      "Sentence = This product was bad.\n",
      "['this', 'product', 'was', 'bad', '.']\n",
      "Sentence = This is a bad product.\n",
      "['this', 'is', 'a', 'bad', 'product', '.']\n"
     ]
    }
   ],
   "source": [
    "##Negation detector : added feature, will it give us better prediction?\n",
    "from nltk.sentiment import SentimentAnalyzer\n",
    "from nltk.sentiment.util import mark_negation\n",
    "examples_negation = [\"This product wasn't bad.\",\n",
    "                     \"This is not a bad product.\",\n",
    "                     \"This product was bad.\",\n",
    "                     \"This is a bad product.\"]\n",
    "\n",
    "for sentence in examples_negation:\n",
    "    tokens_with_negation = mark_negation(word_tokenize(sentence.lower()))\n",
    "    print(\"Sentence =\", sentence)\n",
    "    print(tokens_with_negation)"
   ]
  },
  {
   "cell_type": "code",
   "execution_count": 58,
   "metadata": {},
   "outputs": [
    {
     "name": "stdout",
     "output_type": "stream",
     "text": [
      "Starts out pretty easy, but doesn't take long before you have &#34;hung&#34; yourself.  Some of the words they are looking for are quite long. I am pretty good at word games, but this one is a challege!  On a lower challenge level, pretty easy to win.\n",
      "['starts', 'pretty', 'easy', \"n't\", 'take_NEG', 'long_NEG', 'hung_NEG', 'words', 'looking', 'quite', 'long', 'pretty', 'good', 'word', 'games', 'one', 'challege', 'lower', 'challenge', 'level', 'pretty', 'easy', 'win']\n"
     ]
    }
   ],
   "source": [
    "#all stopwords=eng_stop words + NEG_ version of all eng_stopwords\n",
    "negated_stopwords = set(x+\"_NEG\" for x in eng_stopwords)\n",
    "all_stopwords = eng_stopwords.union(negated_stopwords)        # set union\n",
    "    \n",
    "def tokenize_with_negation(text):\n",
    "    # split text into lower-case tokens, removing all-punctuation tokens and stopwords\n",
    "    tokens = []\n",
    "    for sentence in sent_tokenize(text):\n",
    "        pretokens = word_tokenize(sentence.lower())\n",
    "        pretokens = [x for x in pretokens if any(i.isalpha() for i in x)]\n",
    "        pretokens = mark_negation(pretokens)\n",
    "        tokens.extend(x for x in pretokens if x not in all_stopwords)\n",
    "    return tokens\n",
    "\n",
    "##example of tokening with negation:\n",
    "\n",
    "print(apps_train[5000]['reviewText'])\n",
    "print(tokenize_with_negation(apps_train[5000]['reviewText']))"
   ]
  },
  {
   "cell_type": "markdown",
   "metadata": {},
   "source": [
    "### Training again with negation included"
   ]
  },
  {
   "cell_type": "code",
   "execution_count": 59,
   "metadata": {},
   "outputs": [
    {
     "name": "stdout",
     "output_type": "stream",
     "text": [
      "(0.8571428571428571, 0.0)\n",
      "(0.0, 0.8571428571428571)\n"
     ]
    }
   ],
   "source": [
    "## neagtion of negative words is negative\n",
    "## neagtion of negative words is negative\n",
    "all_positive_words = positive_words.union({x+\"_NEG\" for x in negative_words})\n",
    "all_negative_words = negative_words.union({x+\"_NEG\" for x in positive_words})\n",
    "\n",
    "def pos_neg_fraction_with_negation(text):\n",
    "    tokens = tokenize_with_negation(text)\n",
    "    # count how many positive and negative words occur in the text\n",
    "    count_pos, count_neg = 0, 0\n",
    "    for t in tokens:\n",
    "        if t in all_positive_words:\n",
    "            count_pos += 1\n",
    "        if t in all_negative_words:\n",
    "            count_neg += 1\n",
    "    count_all = len(tokens)\n",
    "    if count_all != 0:\n",
    "        return count_pos/count_all, count_neg/count_all\n",
    "    else:  # avoid division by zero\n",
    "        return 0., 0.\n",
    "    \n",
    "pos_example = 'This is a good, great, fantastic, amazing, wonderful, super product!!!'\n",
    "neg_example = 'This is a bad, atrocious, terrible, dreadful, awful, abysmal product!!!'\n",
    "print(pos_neg_fraction_with_negation(pos_example))\n",
    "print(pos_neg_fraction_with_negation(neg_example))"
   ]
  },
  {
   "cell_type": "code",
   "execution_count": 61,
   "metadata": {},
   "outputs": [
    {
     "name": "stdout",
     "output_type": "stream",
     "text": [
      "(0.0, 0.8571428571428571)\n",
      "(0.8571428571428571, 0.0)\n"
     ]
    }
   ],
   "source": [
    "pos_example_neg = 'This is not a good, great, fantastic, amazing, wonderful, super product!!!'\n",
    "neg_example_neg = 'This is not a bad, atrocious, terrible, dreadful, awful, abysmal product!!!'\n",
    "print(pos_neg_fraction_with_negation(pos_example_neg))\n",
    "print(pos_neg_fraction_with_negation(neg_example_neg))"
   ]
  },
  {
   "cell_type": "markdown",
   "metadata": {},
   "source": [
    "###### as we can see above, the neagtion was picked up, and even though positive words were used, they were neagative meaning and so they went on to the 'fneg' side"
   ]
  },
  {
   "cell_type": "code",
   "execution_count": 62,
   "metadata": {},
   "outputs": [],
   "source": [
    "###ALSO TAKES YEARS TO RUN\n",
    "def dataset_to_matrix_with_neg(data):\n",
    "    return numpy.array([list(pos_neg_fraction_with_negation(item['reviewText'])) for item in data])\n",
    "\n",
    "X_train_neg = dataset_to_matrix_with_neg(apps_train)"
   ]
  },
  {
   "cell_type": "code",
   "execution_count": 63,
   "metadata": {},
   "outputs": [
    {
     "name": "stdout",
     "output_type": "stream",
     "text": [
      "Now the mean absolute error on the training data is 0.972192 stars\n"
     ]
    }
   ],
   "source": [
    "lreg_neg = LinearRegression().fit(X_train_neg, Y_train)\n",
    "pred_train_neg = lreg_neg.predict(X_train_neg)\n",
    "mae_train_with_neg = mean_absolute_error(pred_train_neg, Y_train)\n",
    "print(\"Now the mean absolute error on the training data is %f stars\" % mae_train_with_neg)"
   ]
  },
  {
   "cell_type": "markdown",
   "metadata": {},
   "source": [
    "## Error has reduced from 98.97% to 97.22% Great!! Still Worse :("
   ]
  },
  {
   "cell_type": "markdown",
   "metadata": {},
   "source": [
    "# Random Forest - NLTK blackbox\n",
    "Donno how it works, it works is all I know, its and nltk's built in predictor.\n"
   ]
  },
  {
   "cell_type": "markdown",
   "metadata": {},
   "source": [
    "### on X_traing_neg"
   ]
  },
  {
   "cell_type": "code",
   "execution_count": 64,
   "metadata": {
    "scrolled": true
   },
   "outputs": [
    {
     "name": "stdout",
     "output_type": "stream",
     "text": [
      "A nonlinear regressor achieves a MAE of 0.915068 stars\n"
     ]
    }
   ],
   "source": [
    "from sklearn.ensemble import RandomForestRegressor\n",
    "rf_neg = RandomForestRegressor().fit(X_train_neg, Y_train)\n",
    "pred_train_rf_neg = rf_neg.predict(X_train_neg)\n",
    "mae_train_rf_neg = mean_absolute_error(pred_train_rf_neg, Y_train)\n",
    "print(\"A nonlinear regressor achieves a MAE of %f stars\" % mae_train_rf_neg)"
   ]
  },
  {
   "cell_type": "markdown",
   "metadata": {},
   "source": [
    "## Error reduced from 97.22% to 91.5% ???!!! Amazing!"
   ]
  },
  {
   "cell_type": "markdown",
   "metadata": {},
   "source": [
    "### on X_train (original data, no negation)"
   ]
  },
  {
   "cell_type": "code",
   "execution_count": 65,
   "metadata": {},
   "outputs": [
    {
     "name": "stdout",
     "output_type": "stream",
     "text": [
      "A nonlinear regressor achieves a MAE of 0.946836 stars\n"
     ]
    }
   ],
   "source": [
    "rf = RandomForestRegressor().fit(X_train, Y_train)\n",
    "pred_train_rf = rf.predict(X_train)\n",
    "mae_train_rf = mean_absolute_error(pred_train_rf, Y_train)\n",
    "print(\"A nonlinear regressor achieves a MAE of %f stars\" % mae_train_rf)"
   ]
  },
  {
   "cell_type": "markdown",
   "metadata": {},
   "source": [
    "## Error reduced from 98.87% to 94.68% ???!!! Really reduced a lot !!!"
   ]
  },
  {
   "cell_type": "markdown",
   "metadata": {},
   "source": [
    "so we did a lot of linear regression and prediction, how to they compare?which has been the worst? which is the best. For sentiment analysis using ONLY POS & NEG word percentage!\n",
    "# *Best so far?* TF < original LR < Negated LR < original with RF < negated RF"
   ]
  },
  {
   "cell_type": "markdown",
   "metadata": {},
   "source": [
    "### Short-List Promising Models\n",
    "Notes:\n",
    "\n",
    "**If the data is huge, you may want to sample smaller training sets so you can train many different models in a reasonable time** (be aware that this penalizes complex models such as large neural nets or Random Forests). Once again, try to automate these steps as much as possible.\n",
    "\n",
    "1. Train many quick and dirty models from different categories (e.g., linear, naive Bayes, SVM, Random Forests, neural net, etc.) using standard parameters.\n",
    "2. Measure and compare their performance. For each model, use **N-fold cross-validation** (not taught) and compute the mean and standard deviation of the performance measure on the N folds.\n",
    "3. Analyze the most significant variables for each algorithm.\n",
    "4. Analyze the types of errors the models make. What data would a human have used to avoid these errors?\n",
    "5. Have a quick round of feature selection and engineering.\n",
    "6. Have one or two more quick iterations of the five previous steps.\n",
    "7. Short-list the top three to five most promising models, preferring models that make different types of errors.\n",
    "\n",
    "**Source: p. 646. Hands-on Machine Learning** - Application perspective.\n",
    "\n",
    "### Advanced Homework\n",
    "* Add features\n",
    "* Explain which features you chose, implement them, and write a commentary on your results\n",
    "* Feel welcome to use NLTK's built-in sentiment analyzer or any other research that you can find and understand"
   ]
  },
  {
   "cell_type": "markdown",
   "metadata": {},
   "source": [
    "# Intro to AI: Week 4 Day 3 \n",
    "### Improvement of Sentiment Analyzer"
   ]
  },
  {
   "cell_type": "code",
   "execution_count": 103,
   "metadata": {},
   "outputs": [
    {
     "name": "stdout",
     "output_type": "stream",
     "text": [
      "5209\n",
      "{'reviewerID': 'A1X1CEGHTHMBL1', 'asin': 'B004GMP53U', 'reviewerName': 'jjceo', 'helpful': [0, 0], 'reviewText': \"Posted at 8:53 AMGame Play:The game is very similar to the old Pacman game even to the point where you have a thumb joystick to move your action figure to run the maze and collect the dots. For me unfortunately the joystick is on the LH side of the game and I am right handed so the game is played with my most uncoordinated hand. There is a pause button on the top of the LH side of the screen.The controls take time to get used to and it is difficult at best in an open room to move the character to where you want it to go. You will find that for precise movements you must tap the joystick on the side of the direction you want to move in and it will move in one space increments. It is difficult to try to move precisely while trying to clear the maze and have multiple enemies fluidly coming after you while you struggle to get one colored dot. You have slid your thumb off of the area of the control you want to use and you move in the wrong direction. On my Kindle Fire a calibration screen said it was going to pop up but it never did. I could never find the calibrations screen again.There are dialogs that pop up on the screen while you are playing and the stop the game while you have to read the messages either from the yellow box or the leader of the characters chasing you. I find this to be distracting and not needed and you can turn them off in the options menu.When you get to a certain point in some levels you are playing you will unlock the red squares that chase you. In some rooms there are yellow boxes that you can push in front of the doors so that they cannot enter the room to get you. In other levels you are immediately trapped and you can get stung by one or two of the squares before you can even move. There are open square boxes in the wall of the maze and you can go into one of them and hide and they cannot see you. You can also push the yellow boxes and crush the red squares chasing you. In some levels later in the game there are so many red squares after you that you have virtually nowhere to run.Home Screen:* Start* Scores - takes you to their leaderboard* Options - adjust music, sounds, dialogs off/on and vibrations off/on* About - links to the web and social networkso Visit us - didn't work, it could not find their website.o Follow us on Twittero Become our fan on Facebook.What I like:A remake of the old Pacman games brings back old memories of a fun game. Unfortunately the controls are difficult to use and can be frustrating to find the right touch. I got to be OK at the game after a while but the main limiting factor with the game is the awkwardness of the controls. You may be better at it that I am.What I dislike:The controls of the game on my Kindle Fire are nothing but frustrating to try to use. You are trying to use a joystick to move through a maze while being chased by multiple red squares that are moving with fluid motion while you are struggling to change directions or to pick up a colored dot. It is difficult to make fine adjustments in your position until you get a better feel for the controls. The dot that is the joystick does allow you to make single block steps but while you are trying to get it to work you are being pursued by multiple red squares trying to kill you. It is just awkward.I turned off the popup messages that occur in the middle of the game as I found them distracting and not of value to the game play.I don't like the access to Facebook, Twitter and to the internet to their website. Connections to Facebook allow you to sign in via Facebook so you can challenge and compete against your friends without ever leaving the game. You can invite your friends by posting a link to your Facebook wall. View a list of your Facebook friends who play EVAC HD. Compare your high scores with those of friends on your leaderboard. You can even share your in-game achievements on your wall.The access permissions to the internet are for social networks and for access to the developer's web site. It could have been easily left out as it is unnecessary for those options to be in the app for me.The original Pacman had better graphics and was a lot more fun to play than this game. To compare this game to a classic is an insult to Pacman. This is a cheap knock off with poor graphics and extremely bad controls. This is another example of a developer trying to make money by copying someone else's game concept.Summary:I didn't enjoy this game at all. The poor controls take away from any possibility of enjoying the game play. You are not able to move your character fast enough to evade the many enemies you are facing and you get overwhelmed. The maze also contains a lot of hallways with one box and with one dot in it that forces you to stop, change direction, get the dot, reverse, stop, and change direction, all while being pursued by killer squares.With the present control concept and performance this game is not worth $1.99 and it should be free all the time.Size: 13.54MB uncompressed on my Kindle Fire.Permissions:* Network communication - full internet access* Storage - modify/delete internal storage contents* Network control - view network state, view WIFI state* Hardware controls - control vibrator\", 'overall': 1.0, 'summary': 'Poor controls make this game play not enjoyable, an insult to the Pacman game!', 'unixReviewTime': 1348444800, 'reviewTime': '09 24, 2012', 'hash': -2065613227773481915}\n"
     ]
    }
   ],
   "source": [
    "## checking presence of data\n",
    "##lets find the longest review in training set\n",
    "def find_longest_review(data_given):\n",
    "    mx=0\n",
    "    ret=0;\n",
    "    for i in apps_train:\n",
    "        length=len(i['reviewText'])\n",
    "        if length>5000:\n",
    "            mx=length\n",
    "            ret=i\n",
    "            break\n",
    "    print(mx)\n",
    "    return ret\n",
    "            \n",
    "review_long=find_longest_review(apps_train)\n",
    "print(review_long)"
   ]
  },
  {
   "cell_type": "code",
   "execution_count": 107,
   "metadata": {},
   "outputs": [
    {
     "name": "stdout",
     "output_type": "stream",
     "text": [
      "Starts out pretty easy, but doesn't take long before you have &#34;hung&#34; yourself.  Some of the words they are looking for are quite long. I am pretty good at word games, but this one is a challege!  On a lower challenge level, pretty easy to win.\n"
     ]
    }
   ],
   "source": [
    "## random data\n",
    "print(apps_train[5000]['reviewText'])"
   ]
  },
  {
   "cell_type": "markdown",
   "metadata": {},
   "source": [
    "# NLTK built in sentiment analyzer\n",
    "\n",
    "google nltk vader, \n",
    "http://www.nltk.org/howto/sentiment.html\n",
    "analyzes MANY aspect and tells us , foe each sentence, how positivw, negtive anf neutral it is!"
   ]
  },
  {
   "cell_type": "code",
   "execution_count": 108,
   "metadata": {},
   "outputs": [
    {
     "name": "stdout",
     "output_type": "stream",
     "text": [
      "Posted at 8:53 AMGame Play:The game is very similar to the old Pacman game even to the point where you have a thumb joystick to move your action figure to run the maze and collect the dots.\n",
      "{'neg': 0.0, 'neu': 0.954, 'pos': 0.046, 'compound': 0.1779}\n",
      "For me unfortunately the joystick is on the LH side of the game and I am right handed so the game is played with my most uncoordinated hand.\n",
      "{'neg': 0.073, 'neu': 0.697, 'pos': 0.23, 'compound': 0.6344}\n",
      "There is a pause button on the top of the LH side of the screen.The controls take time to get used to and it is difficult at best in an open room to move the character to where you want it to go.\n",
      "{'neg': 0.052, 'neu': 0.795, 'pos': 0.153, 'compound': 0.5859}\n",
      "You will find that for precise movements you must tap the joystick on the side of the direction you want to move in and it will move in one space increments.\n",
      "{'neg': 0.0, 'neu': 0.906, 'pos': 0.094, 'compound': 0.25}\n",
      "It is difficult to try to move precisely while trying to clear the maze and have multiple enemies fluidly coming after you while you struggle to get one colored dot.\n",
      "{'neg': 0.219, 'neu': 0.71, 'pos': 0.071, 'compound': -0.6597}\n",
      "You have slid your thumb off of the area of the control you want to use and you move in the wrong direction.\n",
      "{'neg': 0.122, 'neu': 0.827, 'pos': 0.051, 'compound': -0.4215}\n",
      "On my Kindle Fire a calibration screen said it was going to pop up but it never did.\n",
      "{'neg': 0.096, 'neu': 0.904, 'pos': 0.0, 'compound': -0.1779}\n",
      "I could never find the calibrations screen again.There are dialogs that pop up on the screen while you are playing and the stop the game while you have to read the messages either from the yellow box or the leader of the characters chasing you.\n",
      "{'neg': 0.048, 'neu': 0.913, 'pos': 0.039, 'compound': -0.1027}\n",
      "I find this to be distracting and not needed and you can turn them off in the options menu.When you get to a certain point in some levels you are playing you will unlock the red squares that chase you.\n",
      "{'neg': 0.054, 'neu': 0.852, 'pos': 0.095, 'compound': 0.1779}\n",
      "In some rooms there are yellow boxes that you can push in front of the doors so that they cannot enter the room to get you.\n",
      "{'neg': 0.0, 'neu': 1.0, 'pos': 0.0, 'compound': 0.0}\n",
      "In other levels you are immediately trapped and you can get stung by one or two of the squares before you can even move.\n",
      "{'neg': 0.129, 'neu': 0.871, 'pos': 0.0, 'compound': -0.5267}\n",
      "There are open square boxes in the wall of the maze and you can go into one of them and hide and they cannot see you.\n",
      "{'neg': 0.064, 'neu': 0.936, 'pos': 0.0, 'compound': -0.1779}\n",
      "You can also push the yellow boxes and crush the red squares chasing you.\n",
      "{'neg': 0.11, 'neu': 0.89, 'pos': 0.0, 'compound': -0.1531}\n",
      "In some levels later in the game there are so many red squares after you that you have virtually nowhere to run.Home Screen:* Start* Scores - takes you to their leaderboard* Options - adjust music, sounds, dialogs off/on and vibrations off/on* About - links to the web and social networkso Visit us - didn't work, it could not find their website.o Follow us on Twittero Become our fan on Facebook.What I like:A remake of the old Pacman games brings back old memories of a fun game.\n",
      "{'neg': 0.0, 'neu': 0.933, 'pos': 0.067, 'compound': 0.6808}\n",
      "Unfortunately the controls are difficult to use and can be frustrating to find the right touch.\n",
      "{'neg': 0.375, 'neu': 0.625, 'pos': 0.0, 'compound': -0.7783}\n",
      "I got to be OK at the game after a while but the main limiting factor with the game is the awkwardness of the controls.\n",
      "{'neg': 0.082, 'neu': 0.839, 'pos': 0.079, 'compound': -0.0216}\n",
      "You may be better at it that I am.What I dislike:The controls of the game on my Kindle Fire are nothing but frustrating to try to use.\n",
      "{'neg': 0.059, 'neu': 0.765, 'pos': 0.176, 'compound': 0.5202}\n",
      "You are trying to use a joystick to move through a maze while being chased by multiple red squares that are moving with fluid motion while you are struggling to change directions or to pick up a colored dot.\n",
      "{'neg': 0.073, 'neu': 0.883, 'pos': 0.044, 'compound': -0.2732}\n",
      "It is difficult to make fine adjustments in your position until you get a better feel for the controls.\n",
      "{'neg': 0.113, 'neu': 0.676, 'pos': 0.212, 'compound': 0.296}\n",
      "The dot that is the joystick does allow you to make single block steps but while you are trying to get it to work you are being pursued by multiple red squares trying to kill you.\n",
      "{'neg': 0.196, 'neu': 0.739, 'pos': 0.065, 'compound': -0.8271}\n",
      "It is just awkward.I turned off the popup messages that occur in the middle of the game as I found them distracting and not of value to the game play.I don't like the access to Facebook, Twitter and to the internet to their website.\n",
      "{'neg': 0.137, 'neu': 0.863, 'pos': 0.0, 'compound': -0.6537}\n",
      "Connections to Facebook allow you to sign in via Facebook so you can challenge and compete against your friends without ever leaving the game.\n",
      "{'neg': 0.0, 'neu': 0.762, 'pos': 0.238, 'compound': 0.6771}\n",
      "You can invite your friends by posting a link to your Facebook wall.\n",
      "{'neg': 0.0, 'neu': 0.68, 'pos': 0.32, 'compound': 0.5719}\n",
      "View a list of your Facebook friends who play EVAC HD.\n",
      "{'neg': 0.0, 'neu': 0.593, 'pos': 0.407, 'compound': 0.6705}\n",
      "Compare your high scores with those of friends on your leaderboard.\n",
      "{'neg': 0.0, 'neu': 0.763, 'pos': 0.237, 'compound': 0.4767}\n",
      "You can even share your in-game achievements on your wall.The access permissions to the internet are for social networks and for access to the developer's web site.\n",
      "{'neg': 0.0, 'neu': 0.922, 'pos': 0.078, 'compound': 0.296}\n",
      "It could have been easily left out as it is unnecessary for those options to be in the app for me.The original Pacman had better graphics and was a lot more fun to play than this game.\n",
      "{'neg': 0.0, 'neu': 0.691, 'pos': 0.309, 'compound': 0.9162}\n",
      "To compare this game to a classic is an insult to Pacman.\n",
      "{'neg': 0.248, 'neu': 0.752, 'pos': 0.0, 'compound': -0.5106}\n",
      "This is a cheap knock off with poor graphics and extremely bad controls.\n",
      "{'neg': 0.408, 'neu': 0.592, 'pos': 0.0, 'compound': -0.7841}\n",
      "This is another example of a developer trying to make money by copying someone else's game concept.Summary:I didn't enjoy this game at all.\n",
      "{'neg': 0.111, 'neu': 0.889, 'pos': 0.0, 'compound': -0.3875}\n",
      "The poor controls take away from any possibility of enjoying the game play.\n",
      "{'neg': 0.164, 'neu': 0.529, 'pos': 0.307, 'compound': 0.4019}\n",
      "You are not able to move your character fast enough to evade the many enemies you are facing and you get overwhelmed.\n",
      "{'neg': 0.131, 'neu': 0.82, 'pos': 0.049, 'compound': -0.4588}\n",
      "The maze also contains a lot of hallways with one box and with one dot in it that forces you to stop, change direction, get the dot, reverse, stop, and change direction, all while being pursued by killer squares.With the present control concept and performance this game is not worth $1.99 and it should be free all the time.Size: 13.54MB uncompressed on my Kindle Fire.Permissions:* Network communication - full internet access* Storage - modify/delete internal storage contents* Network control - view network state, view WIFI state* Hardware controls - control vibrator\n",
      "{'neg': 0.11, 'neu': 0.856, 'pos': 0.035, 'compound': -0.7241}\n"
     ]
    }
   ],
   "source": [
    "from nltk.sentiment.vader import SentimentIntensityAnalyzer\n",
    "sia = SentimentIntensityAnalyzer()\n",
    "text = review_long['reviewText']  #a review longer than 5000 words, we picked up\n",
    "for s in sent_tokenize(text):\n",
    "    print(s)\n",
    "    print(sia.polarity_scores(s))"
   ]
  },
  {
   "cell_type": "markdown",
   "metadata": {},
   "source": [
    "`So vader did quite a good job really, of picking up the tone of each of the sentences`\n",
    "\n",
    "Now we will extract information from here and perform prdiction;\n",
    "6 features from here, also we will keep the previous fpos and fneg features and a length feature, making a total of 9 features. Also added the percent of exclamation sign, so 10 features!"
   ]
  },
  {
   "cell_type": "code",
   "execution_count": 116,
   "metadata": {},
   "outputs": [],
   "source": [
    "## ALSO WILL TAKE YEARS TO RUN\n",
    "def sia_features(dataset):\n",
    "    \"\"\"For each review text in the dataset, extract:\n",
    "       (1) the mean positive sentiment over all sentences\n",
    "       (2) the mean neutral sentiment over all sentences\n",
    "       (3) the mean negative sentiment over all sentences\n",
    "       (4) the maximum positive sentiment over all sentences\n",
    "       (5) the maximum neutral sentiment over all sentences\n",
    "       (6) the maximum negative sentiment over all sentences\"\"\"\n",
    "    feat_matrix = numpy.empty((len(dataset), 6)) #row,col\n",
    "    for i in range(len(dataset)):\n",
    "        sentences = sent_tokenize(dataset[i]['reviewText'])\n",
    "        nsent = len(sentences)\n",
    "        if nsent:\n",
    "            sentence_polarities = numpy.empty((nsent, 3))\n",
    "            for j in range(nsent):\n",
    "                polarity = sia.polarity_scores(sentences[j])\n",
    "                sentence_polarities[j, 0] = polarity['pos']\n",
    "                sentence_polarities[j, 1] = polarity['neu']\n",
    "                sentence_polarities[j, 2] = polarity['neg']\n",
    "            feat_matrix[i, 0:3] = numpy.mean(sentence_polarities, axis=0) # mean over the columns\n",
    "            feat_matrix[i, 3:6] = numpy.max(sentence_polarities, axis=0) # maximum over the columns\n",
    "        else:\n",
    "            feat_matrix[i, 0:6] = 0.0\n",
    "    return feat_matrix\n",
    "\n",
    "sia_tr = sia_features(apps_train)"
   ]
  },
  {
   "cell_type": "code",
   "execution_count": 117,
   "metadata": {},
   "outputs": [
    {
     "name": "stdout",
     "output_type": "stream",
     "text": [
      "[[0.2244     0.7224     0.0532     0.667      1.         0.266     ]\n",
      " [0.27375    0.72625    0.         0.444      1.         0.        ]\n",
      " [0.11785714 0.878      0.00414286 0.804      1.         0.029     ]\n",
      " [0.38566667 0.61433333 0.         0.478      0.746      0.        ]\n",
      " [0.49133333 0.481      0.02766667 0.818      0.868      0.083     ]\n",
      " [0.266      0.734      0.         0.292      0.76       0.        ]\n",
      " [0.14755556 0.83111111 0.02133333 0.385      1.         0.119     ]\n",
      " [0.122      0.878      0.         0.244      1.         0.        ]\n",
      " [0.3155     0.6845     0.         0.5        0.869      0.        ]\n",
      " [0.26033333 0.73966667 0.         0.468      1.         0.        ]]\n"
     ]
    }
   ],
   "source": [
    "print(sia_tr[:10])"
   ]
  },
  {
   "cell_type": "code",
   "execution_count": 114,
   "metadata": {},
   "outputs": [
    {
     "name": "stdout",
     "output_type": "stream",
     "text": [
      "[[ 0.  1.  2.  3.]\n",
      " [ 4.  5.  6.  7.]\n",
      " [ 8.  9. 10. 11.]]\n",
      "[ 8.  9. 10. 11.]\n",
      "[1.5 5.5 9.5]\n"
     ]
    }
   ],
   "source": [
    "### Just some numpy practice in the mean time!\n",
    "testmat = numpy.arange(12.).reshape((3, 4))\n",
    "print(testmat)\n",
    "print(numpy.max(testmat, axis=0))\n",
    "print(numpy.mean(testmat, axis=1))"
   ]
  },
  {
   "cell_type": "markdown",
   "metadata": {},
   "source": [
    "#### *Adding the length feature* : if someone writes a REALLY long review, either they are REALLY satisfied or REALLY unhappy, but someone might also just want to write details of their experience"
   ]
  },
  {
   "cell_type": "code",
   "execution_count": 120,
   "metadata": {},
   "outputs": [],
   "source": [
    "def len_features(dataset):\n",
    "    \"\"\"Add two features:\n",
    "       (1) length of review (in thousands of characters) - truncate at 2,500\n",
    "           (cuz very long is very long anyways)\n",
    "       (2) percentage of exclamation marks (in %)\"\"\"\n",
    "    feat_matrix = numpy.empty((len(dataset), 2))\n",
    "    for i in range(len(dataset)):\n",
    "        text = dataset[i]['reviewText']\n",
    "        feat_matrix[i, 0] = len(text) / 1000.\n",
    "        if text:\n",
    "            feat_matrix[i, 1] = 100. * text.count('!') / len(text)\n",
    "        else:\n",
    "            feat_matrix[i, 1] = 0.0\n",
    "    feat_matrix[feat_matrix>2.5] = 2.5\n",
    "    return feat_matrix\n",
    "\n",
    "len_tr = len_features(apps_train)"
   ]
  },
  {
   "cell_type": "code",
   "execution_count": 121,
   "metadata": {},
   "outputs": [
    {
     "name": "stdout",
     "output_type": "stream",
     "text": [
      "(451730, 2) (451730, 6) (451730, 2)\n"
     ]
    }
   ],
   "source": [
    "## previous and new features\n",
    "print(X_train_neg.shape, sia_tr.shape, len_tr.shape)"
   ]
  },
  {
   "cell_type": "markdown",
   "metadata": {},
   "source": [
    "### Then predict with the original Linear regression (with negated data)"
   ]
  },
  {
   "cell_type": "code",
   "execution_count": 122,
   "metadata": {
    "scrolled": true
   },
   "outputs": [
    {
     "name": "stdout",
     "output_type": "stream",
     "text": [
      "Now the mean absolute error on the training data is 0.886206 stars\n"
     ]
    }
   ],
   "source": [
    "#stack horizontally(meaning combining all the features matrices - 1 old, and 2 new)\n",
    "X_train_augmented = numpy.concatenate((X_train_neg, sia_tr, len_tr), axis=1)\n",
    "# ^ this line is common for all, just making the X-train here\n",
    "lreg_augmented = LinearRegression().fit(X_train_augmented, Y_train)\n",
    "pred_train_augmented = lreg_augmented.predict(X_train_augmented)\n",
    "mae_train_augmented = mean_absolute_error(pred_train_augmented, Y_train)\n",
    "print(\"Now the mean absolute error on the training data is %f stars\" % mae_train_augmented)"
   ]
  },
  {
   "cell_type": "markdown",
   "metadata": {},
   "source": [
    "# :0 :0 :0 Error is now *88.62%* (2 features error was 97% and now is 10 features)\n",
    "original linear regression with neagation (with only fpos and fneg)"
   ]
  },
  {
   "cell_type": "markdown",
   "metadata": {},
   "source": [
    "### Now Predict with 10 features (negated included) in Random forest"
   ]
  },
  {
   "cell_type": "code",
   "execution_count": 124,
   "metadata": {},
   "outputs": [
    {
     "name": "stdout",
     "output_type": "stream",
     "text": [
      "For the RF, it is 0.341048 stars\n"
     ]
    }
   ],
   "source": [
    "#random forest\n",
    "rf_augmented = RandomForestRegressor().fit(X_train_augmented, Y_train)\n",
    "rfpred_train_augmented = rf_augmented.predict(X_train_augmented)\n",
    "mae_train_rf_augmented = mean_absolute_error(rfpred_train_augmented, Y_train)\n",
    "print(\"For the RF, it is %f stars\" % mae_train_rf_augmented)"
   ]
  },
  {
   "cell_type": "markdown",
   "metadata": {},
   "source": [
    "# NOWAY!! Error: 34% ??!! WOAH! how come? Random forest is Awesome! (from previous RF 94%)\n",
    "### It was nltk sentiment analyzer + negation + 10 features + random forest"
   ]
  },
  {
   "cell_type": "markdown",
   "metadata": {},
   "source": [
    "# Validation\n",
    "#### Now finally we will run the best ML algo we found on our 'validation' set, to see if the algo really is a good predictor, or did the algo simply overfit the test set and therefore was showing really less error\n",
    "\n",
    "we will validate on the negation+the sia+the len feature set=10 features, like above."
   ]
  },
  {
   "cell_type": "code",
   "execution_count": 128,
   "metadata": {},
   "outputs": [],
   "source": [
    "X_valid_neg = dataset_to_matrix_with_neg(apps_valid) #2 features\n",
    "sia_valid = sia_features(apps_valid) # 6 features\n",
    "len_valid = len_features(apps_valid) # 2 features\n",
    "\n",
    "X_valid_augmented = numpy.concatenate((X_valid_neg, sia_valid, len_valid), axis=1)"
   ]
  },
  {
   "cell_type": "code",
   "execution_count": 129,
   "metadata": {},
   "outputs": [],
   "source": [
    "## Linear regression and random forest fitting\n",
    "pred_valid_augmented = lreg_augmented.predict(X_valid_augmented)\n",
    "pred_valid_rf_augmented = rf_augmented.predict(X_valid_augmented)"
   ]
  },
  {
   "cell_type": "code",
   "execution_count": 130,
   "metadata": {},
   "outputs": [],
   "source": [
    "Y_valid = dataset_to_targets(apps_valid)"
   ]
  },
  {
   "cell_type": "code",
   "execution_count": 131,
   "metadata": {},
   "outputs": [
    {
     "name": "stdout",
     "output_type": "stream",
     "text": [
      "On the validation set, we get 0.892178 error for the linear regression\n",
      "And 0.872144 for the random forest regression\n"
     ]
    }
   ],
   "source": [
    "mae_valid_augmented = mean_absolute_error(pred_valid_augmented, Y_valid)\n",
    "print(\"On the validation set, we get %f error for the linear regression\" % mae_valid_augmented)\n",
    "mae_valid_rf_augmented = mean_absolute_error(pred_valid_rf_augmented, Y_valid)\n",
    "print(\"And %f for the random forest regression\" % mae_valid_rf_augmented)"
   ]
  },
  {
   "cell_type": "markdown",
   "metadata": {},
   "source": [
    "## Oh Damn! Linear Regression : TestSet=88.62% and ValidationSet=89.21%    RandomForest TestSet=34%, ValidationSet=87.21%\n",
    "Clearly Random forest overestimated :/ But Linear Regression actually *predicted* . Overall picture, random forest is still good, it **did** pick something up.\n"
   ]
  },
  {
   "cell_type": "markdown",
   "metadata": {},
   "source": [
    "# Homework for certification\n",
    "\n",
    "Refactor the code above:\n",
    "\n",
    "\"*Be lazy. Not just lazy but proactively, agressively lazy.*\" Remove duplication. Create a single function that takes in data and spits out all success metrics across all of your algos.\n",
    "\n",
    "Where to go from here?\n",
    "- unigrams (NLTK)\n",
    "- word vector (gensim, glove, word2vec)\n",
    "- recurrent neural net\n",
    "- convolutional neural net\n",
    "<br>\n",
    "\n",
    "https://www.oreilly.com/learning/perform-sentiment-analysis-with-lstms-using-tensorflow\n",
    "\n",
    "http://www.wildml.com/2015/11/understanding-convolutional-neural-networks-for-nlp/\n",
    "\n",
    "https://machinelearningmastery.com/develop-n-gram-multichannel-convolutional-neural-network-sentiment-analysis/"
   ]
  }
 ],
 "metadata": {
  "kernelspec": {
   "display_name": "Python 3",
   "language": "python",
   "name": "python3"
  },
  "language_info": {
   "codemirror_mode": {
    "name": "ipython",
    "version": 3
   },
   "file_extension": ".py",
   "mimetype": "text/x-python",
   "name": "python",
   "nbconvert_exporter": "python",
   "pygments_lexer": "ipython3",
   "version": "3.6.6"
  }
 },
 "nbformat": 4,
 "nbformat_minor": 1
}
