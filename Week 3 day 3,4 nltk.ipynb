{
 "cells": [
  {
   "cell_type": "code",
   "execution_count": 8,
   "metadata": {
    "collapsed": false,
    "scrolled": false
   },
   "outputs": [],
   "source": [
    "import nltk\n",
    "import numpy\n",
    "import matplotlib\n",
    "import re\n",
    "from nltk.corpus import wordnet as wn\n",
    "%matplotlib inline\n",
    "from urllib import request\n",
    "import pprint\n",
    "from nltk import word_tokenize"
   ]
  },
  {
   "cell_type": "code",
   "execution_count": 8,
   "metadata": {
    "collapsed": false
   },
   "outputs": [
    {
     "name": "stdout",
     "output_type": "stream",
     "text": [
      "*** Introductory Examples for the NLTK Book ***\n",
      "Loading text1, ..., text9 and sent1, ..., sent9\n",
      "Type the name of the text or sentence to view it.\n",
      "Type: 'texts()' or 'sents()' to list the materials.\n",
      "text1: Moby Dick by Herman Melville 1851\n",
      "text2: Sense and Sensibility by Jane Austen 1811\n",
      "text3: The Book of Genesis\n",
      "text4: Inaugural Address Corpus\n",
      "text5: Chat Corpus\n",
      "text6: Monty Python and the Holy Grail\n",
      "text7: Wall Street Journal\n",
      "text8: Personals Corpus\n",
      "text9: The Man Who Was Thursday by G . K . Chesterton 1908\n",
      "Pretty printing has been turned OFF\n"
     ]
    }
   ],
   "source": [
    "from nltk.book import *\n",
    "from nltk.corpus import gutenberg\n",
    "%pprint\n",
    "import matplotlib.pyplot as plt\n",
    "from nltk.corpus import webtext\n",
    "from nltk.corpus import brown\n",
    "from nltk.corpus import nps_chat\n",
    "from nltk.corpus import inaugural\n",
    "from nltk.corpus import udhr\n",
    "from nltk.corpus import stopwords"
   ]
  },
  {
   "cell_type": "markdown",
   "metadata": {},
   "source": [
    "# Day 3 last part"
   ]
  },
  {
   "cell_type": "markdown",
   "metadata": {},
   "source": [
    "### synset and lemma"
   ]
  },
  {
   "cell_type": "code",
   "execution_count": 22,
   "metadata": {
    "collapsed": false
   },
   "outputs": [
    {
     "data": {
      "text/plain": [
       "[Synset('woman.n.01'), Synset('woman.n.02'), Synset('charwoman.n.01'), Synset('womanhood.n.02')]"
      ]
     },
     "execution_count": 22,
     "metadata": {},
     "output_type": "execute_result"
    }
   ],
   "source": [
    "wn.synsets('woman')"
   ]
  },
  {
   "cell_type": "code",
   "execution_count": 23,
   "metadata": {
    "collapsed": false
   },
   "outputs": [
    {
     "data": {
      "text/plain": [
       "['woman', 'adult_female']"
      ]
     },
     "execution_count": 23,
     "metadata": {},
     "output_type": "execute_result"
    }
   ],
   "source": [
    "wn.synset('woman.n.01').lemma_names()"
   ]
  },
  {
   "cell_type": "code",
   "execution_count": 25,
   "metadata": {
    "collapsed": false
   },
   "outputs": [
    {
     "data": {
      "text/plain": [
       "'an adult female person (as opposed to a man)'"
      ]
     },
     "execution_count": 25,
     "metadata": {},
     "output_type": "execute_result"
    }
   ],
   "source": [
    "wn.synset('woman.n.01').definition()"
   ]
  },
  {
   "cell_type": "code",
   "execution_count": 28,
   "metadata": {
    "collapsed": false
   },
   "outputs": [
    {
     "data": {
      "text/plain": [
       "['the woman kept house while the man hunted']"
      ]
     },
     "execution_count": 28,
     "metadata": {},
     "output_type": "execute_result"
    }
   ],
   "source": [
    "wn.synset('woman.n.01').examples()"
   ]
  },
  {
   "cell_type": "code",
   "execution_count": 30,
   "metadata": {
    "collapsed": false
   },
   "outputs": [
    {
     "data": {
      "text/plain": [
       "Synset('woman.n.01')"
      ]
     },
     "execution_count": 30,
     "metadata": {},
     "output_type": "execute_result"
    }
   ],
   "source": [
    "wn.lemma('woman.n.01.adult_female').synset()"
   ]
  },
  {
   "cell_type": "code",
   "execution_count": 31,
   "metadata": {
    "collapsed": false
   },
   "outputs": [
    {
     "data": {
      "text/plain": [
       "'adult_female'"
      ]
     },
     "execution_count": 31,
     "metadata": {},
     "output_type": "execute_result"
    }
   ],
   "source": [
    "wn.lemma('woman.n.01.adult_female').name()"
   ]
  },
  {
   "cell_type": "code",
   "execution_count": 36,
   "metadata": {
    "collapsed": false
   },
   "outputs": [
    {
     "name": "stdout",
     "output_type": "stream",
     "text": [
      "['woman', 'adult_female']\n",
      "['woman']\n",
      "['charwoman', 'char', 'cleaning_woman', 'cleaning_lady', 'woman']\n",
      "['womanhood', 'woman', 'fair_sex']\n"
     ]
    }
   ],
   "source": [
    "for synset in wn.synsets('woman'):\n",
    "    print(synset.lemma_names())"
   ]
  },
  {
   "cell_type": "code",
   "execution_count": 37,
   "metadata": {
    "collapsed": false
   },
   "outputs": [
    {
     "data": {
      "text/plain": [
       "[Lemma('charwoman.n.01.cleaning_woman')]"
      ]
     },
     "execution_count": 37,
     "metadata": {},
     "output_type": "execute_result"
    }
   ],
   "source": [
    "wn.lemmas('cleaning_woman')"
   ]
  },
  {
   "cell_type": "markdown",
   "metadata": {},
   "source": [
    "### hyponyms and hypernyms\n",
    "down and up the path respectively"
   ]
  },
  {
   "cell_type": "code",
   "execution_count": 44,
   "metadata": {
    "collapsed": false
   },
   "outputs": [
    {
     "data": {
      "text/plain": [
       "Synset('cinderella.n.01')"
      ]
     },
     "execution_count": 44,
     "metadata": {},
     "output_type": "execute_result"
    }
   ],
   "source": [
    "#down the path\n",
    "lady = wn.synset('woman.n.01')\n",
    "types_of_lady = lady.hyponyms()\n",
    "types_of_lady[10] #:v"
   ]
  },
  {
   "cell_type": "code",
   "execution_count": 45,
   "metadata": {
    "collapsed": false
   },
   "outputs": [
    {
     "data": {
      "text/plain": [
       "[Synset('adult.n.01'), Synset('female.n.02')]"
      ]
     },
     "execution_count": 45,
     "metadata": {},
     "output_type": "execute_result"
    }
   ],
   "source": [
    "#up the path\n",
    "lady.hypernyms()"
   ]
  },
  {
   "cell_type": "code",
   "execution_count": 46,
   "metadata": {
    "collapsed": false
   },
   "outputs": [
    {
     "data": {
      "text/plain": [
       "[[Synset('entity.n.01'), Synset('physical_entity.n.01'), Synset('causal_agent.n.01'), Synset('person.n.01'), Synset('adult.n.01'), Synset('woman.n.01')], [Synset('entity.n.01'), Synset('physical_entity.n.01'), Synset('object.n.01'), Synset('whole.n.02'), Synset('living_thing.n.01'), Synset('organism.n.01'), Synset('person.n.01'), Synset('adult.n.01'), Synset('woman.n.01')], [Synset('entity.n.01'), Synset('physical_entity.n.01'), Synset('causal_agent.n.01'), Synset('person.n.01'), Synset('female.n.02'), Synset('woman.n.01')], [Synset('entity.n.01'), Synset('physical_entity.n.01'), Synset('object.n.01'), Synset('whole.n.02'), Synset('living_thing.n.01'), Synset('organism.n.01'), Synset('person.n.01'), Synset('female.n.02'), Synset('woman.n.01')]]"
      ]
     },
     "execution_count": 46,
     "metadata": {},
     "output_type": "execute_result"
    }
   ],
   "source": [
    "lady.hypernym_paths() ## all paths from root to 'woman'"
   ]
  },
  {
   "cell_type": "code",
   "execution_count": 48,
   "metadata": {
    "collapsed": false
   },
   "outputs": [
    {
     "data": {
      "text/plain": [
       "[Synset('entity.n.01')]"
      ]
     },
     "execution_count": 48,
     "metadata": {},
     "output_type": "execute_result"
    }
   ],
   "source": [
    "#getting the most common root\n",
    "lady.root_hypernyms()"
   ]
  },
  {
   "cell_type": "code",
   "execution_count": 51,
   "metadata": {
    "collapsed": false
   },
   "outputs": [
    {
     "data": {
      "text/plain": [
       "[Synset('adult.n.01')]"
      ]
     },
     "execution_count": 51,
     "metadata": {},
     "output_type": "execute_result"
    }
   ],
   "source": [
    "#LCA traversal? hehe\n",
    "woman=wn.synsets('woman')[0]\n",
    "man=wn.synsets('man')[0]\n",
    "woman.lowest_common_hypernyms(man) #Yo"
   ]
  },
  {
   "cell_type": "code",
   "execution_count": 55,
   "metadata": {
    "collapsed": false
   },
   "outputs": [
    {
     "data": {
      "text/plain": [
       "4"
      ]
     },
     "execution_count": 55,
     "metadata": {},
     "output_type": "execute_result"
    }
   ],
   "source": [
    "wn.synset('adult.n.01').min_depth()"
   ]
  },
  {
   "cell_type": "code",
   "execution_count": 54,
   "metadata": {
    "collapsed": false
   },
   "outputs": [
    {
     "data": {
      "text/plain": [
       "5"
      ]
     },
     "execution_count": 54,
     "metadata": {},
     "output_type": "execute_result"
    }
   ],
   "source": [
    "woman.min_depth()"
   ]
  },
  {
   "cell_type": "code",
   "execution_count": 57,
   "metadata": {
    "collapsed": false
   },
   "outputs": [
    {
     "data": {
      "text/plain": [
       "0.3333333333333333"
      ]
     },
     "execution_count": 57,
     "metadata": {},
     "output_type": "execute_result"
    }
   ],
   "source": [
    "woman.path_similarity(man)"
   ]
  },
  {
   "cell_type": "code",
   "execution_count": 58,
   "metadata": {
    "collapsed": false
   },
   "outputs": [
    {
     "data": {
      "text/plain": [
       "0.07692307692307693"
      ]
     },
     "execution_count": 58,
     "metadata": {},
     "output_type": "execute_result"
    }
   ],
   "source": [
    "woman.path_similarity(wn.synsets('car')[0])"
   ]
  },
  {
   "cell_type": "markdown",
   "metadata": {},
   "source": [
    "similarity of path from root is less for 'car' than with 'man', obvo, some more?"
   ]
  },
  {
   "cell_type": "code",
   "execution_count": 62,
   "metadata": {
    "collapsed": false
   },
   "outputs": [
    {
     "data": {
      "text/plain": [
       "0.5"
      ]
     },
     "execution_count": 62,
     "metadata": {},
     "output_type": "execute_result"
    }
   ],
   "source": [
    "woman.path_similarity(wn.synsets('lady')[0])"
   ]
  },
  {
   "cell_type": "code",
   "execution_count": 66,
   "metadata": {
    "collapsed": false
   },
   "outputs": [
    {
     "data": {
      "text/plain": [
       "0.1"
      ]
     },
     "execution_count": 66,
     "metadata": {},
     "output_type": "execute_result"
    }
   ],
   "source": [
    "woman.path_similarity(wn.synsets('dust')[0]) \n",
    "##this is kinda weird, lets see its path, shall we?"
   ]
  },
  {
   "cell_type": "code",
   "execution_count": 72,
   "metadata": {
    "collapsed": false
   },
   "outputs": [
    {
     "data": {
      "text/plain": [
       "[Synset('entity.n.01'), Synset('physical_entity.n.01'), Synset('object.n.01'), Synset('whole.n.02'), Synset('living_thing.n.01'), Synset('organism.n.01'), Synset('person.n.01'), Synset('female.n.02'), Synset('woman.n.01')]"
      ]
     },
     "execution_count": 72,
     "metadata": {},
     "output_type": "execute_result"
    }
   ],
   "source": [
    "woman.hypernym_paths()[3]"
   ]
  },
  {
   "cell_type": "code",
   "execution_count": 69,
   "metadata": {
    "collapsed": false
   },
   "outputs": [
    {
     "data": {
      "text/plain": [
       "[Synset('entity.n.01'), Synset('physical_entity.n.01'), Synset('matter.n.03'), Synset('substance.n.01'), Synset('material.n.01'), Synset('particulate.n.01'), Synset('dust.n.01')]"
      ]
     },
     "execution_count": 69,
     "metadata": {},
     "output_type": "execute_result"
    }
   ],
   "source": [
    "wn.synsets('dust')[0].hypernym_paths()[0]"
   ]
  },
  {
   "cell_type": "code",
   "execution_count": 73,
   "metadata": {
    "collapsed": false
   },
   "outputs": [
    {
     "data": {
      "text/plain": [
       "[Synset('physical_entity.n.01')]"
      ]
     },
     "execution_count": 73,
     "metadata": {},
     "output_type": "execute_result"
    }
   ],
   "source": [
    "woman.lowest_common_hypernyms(wn.synsets('dust')[0])"
   ]
  },
  {
   "cell_type": "markdown",
   "metadata": {},
   "source": [
    "### meronyms and holonyms\n",
    "to components and to containers respectively\n",
    "\n",
    "For example, the parts of a tree are its trunk, crown, and so on; the  part_meronyms(). The substance a tree is made of includes heartwood and sapwood; the  substance_meronyms(). A collection of trees forms a forest; the member_holonyms()"
   ]
  },
  {
   "cell_type": "code",
   "execution_count": 90,
   "metadata": {
    "collapsed": false
   },
   "outputs": [
    {
     "data": {
      "text/plain": [
       "[Synset('burl.n.02'), Synset('crown.n.07'), Synset('limb.n.02'), Synset('stump.n.01'), Synset('trunk.n.01')]"
      ]
     },
     "execution_count": 90,
     "metadata": {},
     "output_type": "execute_result"
    }
   ],
   "source": [
    "wn.synset('tree.n.01').part_meronyms()"
   ]
  },
  {
   "cell_type": "code",
   "execution_count": 99,
   "metadata": {
    "collapsed": false
   },
   "outputs": [
    {
     "data": {
      "text/plain": [
       "[Synset('heartwood.n.01'), Synset('sapwood.n.01')]"
      ]
     },
     "execution_count": 99,
     "metadata": {},
     "output_type": "execute_result"
    }
   ],
   "source": [
    "wn.synset('tree.n.01').substance_meronyms()"
   ]
  },
  {
   "cell_type": "code",
   "execution_count": 100,
   "metadata": {
    "collapsed": false
   },
   "outputs": [
    {
     "data": {
      "text/plain": [
       "[Synset('genus_homo.n.01')]"
      ]
     },
     "execution_count": 100,
     "metadata": {},
     "output_type": "execute_result"
    }
   ],
   "source": [
    "wn.synset('human.n.01').member_holonyms()"
   ]
  },
  {
   "cell_type": "code",
   "execution_count": 107,
   "metadata": {
    "collapsed": false,
    "scrolled": true
   },
   "outputs": [
    {
     "data": {
      "text/plain": [
       "'the leaves of a mint plant used fresh or candied'"
      ]
     },
     "execution_count": 107,
     "metadata": {},
     "output_type": "execute_result"
    }
   ],
   "source": [
    "wn.synset('mint.n.04').definition()"
   ]
  },
  {
   "cell_type": "code",
   "execution_count": 108,
   "metadata": {
    "collapsed": false
   },
   "outputs": [
    {
     "data": {
      "text/plain": [
       "'any north temperate plant of the genus Mentha with aromatic leaves and small mauve flowers'"
      ]
     },
     "execution_count": 108,
     "metadata": {},
     "output_type": "execute_result"
    }
   ],
   "source": [
    "wn.synset('mint.n.02').definition()"
   ]
  },
  {
   "cell_type": "code",
   "execution_count": 109,
   "metadata": {
    "collapsed": false
   },
   "outputs": [
    {
     "data": {
      "text/plain": [
       "'a candy that is flavored with a mint oil'"
      ]
     },
     "execution_count": 109,
     "metadata": {},
     "output_type": "execute_result"
    }
   ],
   "source": [
    "wn.synset('mint.n.05').definition()"
   ]
  },
  {
   "cell_type": "code",
   "execution_count": 103,
   "metadata": {
    "collapsed": false
   },
   "outputs": [
    {
     "data": {
      "text/plain": [
       "[Synset('mint.n.02')]"
      ]
     },
     "execution_count": 103,
     "metadata": {},
     "output_type": "execute_result"
    }
   ],
   "source": [
    "wn.synset('mint.n.04').part_holonyms()"
   ]
  },
  {
   "cell_type": "code",
   "execution_count": 104,
   "metadata": {
    "collapsed": false
   },
   "outputs": [
    {
     "data": {
      "text/plain": [
       "[Synset('mint.n.05')]"
      ]
     },
     "execution_count": 104,
     "metadata": {},
     "output_type": "execute_result"
    }
   ],
   "source": [
    "wn.synset('mint.n.04').substance_holonyms()"
   ]
  },
  {
   "cell_type": "markdown",
   "metadata": {},
   "source": [
    "mint04(mint leaves) is a part of mint02(mint plant), and mint5(mintoil flavored candy) is a substance of mint04(mintleaves)"
   ]
  },
  {
   "cell_type": "markdown",
   "metadata": {},
   "source": [
    "### entailments"
   ]
  },
  {
   "cell_type": "code",
   "execution_count": 110,
   "metadata": {
    "collapsed": false
   },
   "outputs": [
    {
     "data": {
      "text/plain": [
       "[Synset('step.v.01')]"
      ]
     },
     "execution_count": 110,
     "metadata": {},
     "output_type": "execute_result"
    }
   ],
   "source": [
    "#There are also relationships between verbs.\n",
    "#For example, the act of walking involves the act of stepping,\n",
    "#so walking entails stepping. Some verbs have multiple entailments:\n",
    "\n",
    "wn.synset('walk.v.01').entailments()"
   ]
  },
  {
   "cell_type": "code",
   "execution_count": 111,
   "metadata": {
    "collapsed": false
   },
   "outputs": [
    {
     "data": {
      "text/plain": [
       "[Synset('chew.v.01'), Synset('swallow.v.01')]"
      ]
     },
     "execution_count": 111,
     "metadata": {},
     "output_type": "execute_result"
    }
   ],
   "source": [
    "wn.synset('eat.v.01').entailments()"
   ]
  },
  {
   "cell_type": "code",
   "execution_count": 112,
   "metadata": {
    "collapsed": false
   },
   "outputs": [
    {
     "data": {
      "text/plain": [
       "[Synset('arouse.v.07'), Synset('disappoint.v.01')]"
      ]
     },
     "execution_count": 112,
     "metadata": {},
     "output_type": "execute_result"
    }
   ],
   "source": [
    "wn.synset('tease.v.03').entailments()"
   ]
  },
  {
   "cell_type": "markdown",
   "metadata": {},
   "source": [
    "### antonyms"
   ]
  },
  {
   "cell_type": "code",
   "execution_count": 113,
   "metadata": {
    "collapsed": false
   },
   "outputs": [
    {
     "data": {
      "text/plain": [
       "[Lemma('vertical.a.01.vertical'), Lemma('inclined.a.02.inclined')]"
      ]
     },
     "execution_count": 113,
     "metadata": {},
     "output_type": "execute_result"
    }
   ],
   "source": [
    "wn.lemma('horizontal.a.01.horizontal').antonyms()"
   ]
  },
  {
   "cell_type": "markdown",
   "metadata": {},
   "source": [
    "# Day 4\n",
    "# Chapter 3"
   ]
  },
  {
   "cell_type": "code",
   "execution_count": 115,
   "metadata": {
    "collapsed": false
   },
   "outputs": [],
   "source": [
    "import nltk,re,pprint\n",
    "from nltk import word_tokenize"
   ]
  },
  {
   "cell_type": "markdown",
   "metadata": {},
   "source": [
    "### reading online text"
   ]
  },
  {
   "cell_type": "code",
   "execution_count": 124,
   "metadata": {
    "collapsed": false
   },
   "outputs": [
    {
     "data": {
      "text/plain": [
       "<class 'str'>"
      ]
     },
     "execution_count": 124,
     "metadata": {},
     "output_type": "execute_result"
    }
   ],
   "source": [
    "from urllib import request\n",
    "url=\"http://www.gutenberg.org/files/2554/2554-0.txt\"\n",
    "response=request.urlopen(url)\n",
    "raw=response.read().decode('utf8')\n",
    "type(raw)"
   ]
  },
  {
   "cell_type": "code",
   "execution_count": 125,
   "metadata": {
    "collapsed": false
   },
   "outputs": [
    {
     "data": {
      "text/plain": [
       "1176965"
      ]
     },
     "execution_count": 125,
     "metadata": {},
     "output_type": "execute_result"
    }
   ],
   "source": [
    "len(raw)"
   ]
  },
  {
   "cell_type": "code",
   "execution_count": 127,
   "metadata": {
    "collapsed": false,
    "scrolled": true
   },
   "outputs": [
    {
     "name": "stdout",
     "output_type": "stream",
     "text": [
      "﻿The Project Gutenberg EBook of Crime and Punishment, by Fyodor Dostoevsky\r\n",
      "\r\n",
      "This eBook is for the \n"
     ]
    }
   ],
   "source": [
    "print(raw[:100])"
   ]
  },
  {
   "cell_type": "markdown",
   "metadata": {},
   "source": [
    "### Tokenize (separate words) and casting"
   ]
  },
  {
   "cell_type": "code",
   "execution_count": 130,
   "metadata": {
    "collapsed": false
   },
   "outputs": [
    {
     "name": "stdout",
     "output_type": "stream",
     "text": [
      "['\\ufeffThe', 'Project', 'Gutenberg', 'EBook', 'of', 'Crime', 'and', 'Punishment', ',', 'by', 'Fyodor', 'Dostoevsky', 'This', 'eBook', 'is', 'for', 'the', 'use', 'of', 'anyone', 'anywhere', 'at', 'no', 'cost', 'and', 'with', 'almost', 'no', 'restrictions', 'whatsoever', '.', 'You', 'may', 'copy', 'it', ',', 'give', 'it', 'away', 'or', 're-use', 'it', 'under', 'the', 'terms', 'of', 'the', 'Project', 'Gutenberg', 'License', 'included', 'with', 'this', 'eBook', 'or']\n"
     ]
    }
   ],
   "source": [
    "tokens = word_tokenize(raw) \n",
    "#string to 'list' of words\n",
    "print(tokens[:55])"
   ]
  },
  {
   "cell_type": "code",
   "execution_count": 134,
   "metadata": {
    "collapsed": false
   },
   "outputs": [
    {
     "data": {
      "text/plain": [
       "['surprise', '.', 'But', 'there', 'was', 'such', 'accumulated', 'bitterness', 'and', 'contempt', 'in', 'the', 'young', 'man', '’', 's', 'heart', ',', 'that', ',', 'in', 'spite', 'of', 'all', 'the', 'fastidiousness', 'of', 'youth', ',', 'he', 'minded', 'his', 'rags', 'least', 'of', 'all', 'in', 'the', 'street', '.', 'It', 'was', 'a', 'different', 'matter', 'when', 'he', 'met', 'with', 'acquaintances', 'or', 'with', 'former', 'fellow', 'students', ',', 'whom', ',', 'indeed', ',', 'he', 'disliked', 'meeting', 'at', 'any', 'time', '.', 'And', 'yet', 'when', 'a', 'drunken', 'man', 'who', ',', 'for', 'some', 'unknown', 'reason', ',', 'was', 'being', 'taken', 'somewhere', 'in', 'a', 'huge', 'waggon', 'dragged', 'by', 'a', 'heavy', 'dray', 'horse', ',', 'suddenly', 'shouted', 'at', 'him', 'as']"
      ]
     },
     "execution_count": 134,
     "metadata": {},
     "output_type": "execute_result"
    }
   ],
   "source": [
    "text = nltk.Text(tokens) \n",
    "# we `cast` the previous list into a new format\n",
    "#the `text` type in nltk.\n",
    "text[1900:2000]"
   ]
  },
  {
   "cell_type": "code",
   "execution_count": 136,
   "metadata": {
    "collapsed": false
   },
   "outputs": [
    {
     "name": "stdout",
     "output_type": "stream",
     "text": [
      "Katerina Ivanovna; Pyotr Petrovitch; Pulcheria Alexandrovna; Avdotya\n",
      "Romanovna; Rodion Romanovitch; Marfa Petrovna; Sofya Semyonovna; old\n",
      "woman; Project Gutenberg-tm; Porfiry Petrovitch; Amalia Ivanovna;\n",
      "great deal; young man; Nikodim Fomitch; Ilya Petrovitch; Project\n",
      "Gutenberg; Andrey Semyonovitch; Hay Market; Dmitri Prokofitch; Good\n",
      "heavens\n"
     ]
    }
   ],
   "source": [
    "text.collocations()\n",
    "#word pairs that have a high frequency of occuring together"
   ]
  },
  {
   "cell_type": "markdown",
   "metadata": {},
   "source": [
    "## Dealing with HTML (beautiful soup)"
   ]
  },
  {
   "cell_type": "code",
   "execution_count": 11,
   "metadata": {
    "collapsed": false
   },
   "outputs": [
    {
     "name": "stdout",
     "output_type": "stream",
     "text": [
      "\n",
      "\n",
      "<!DOCTYPE html>\n",
      "<html lang=\"en-GB\" id=\"responsive-news\">\n",
      "<head  prefix=\"og: http://ogp.me/ns#\">\n",
      "    <meta charset=\"utf-8\">\n",
      "    <meta http-equiv=\"X-UA-Compatible\" content=\"IE=edge,chrome=1\">\n",
      "    <title>Bangladesh students attacked during Dhaka protest - BBC News</title>\n",
      "    <meta name=\"description\" content=\"About 25 students were injured as a protest over road safety ended in violence, reports say.\">\n",
      "    <link rel=\"preload\" as=\"style\" href=\"https://static.bbc.co.uk/news/1.250.02825/stylesheets/services/news/compact.css\" media=\"(max-width: 599px)\">\n",
      "    <link rel=\"preload\" as=\"style\" href=\"https://static.bbc.co.uk/news/1.250.02825/stylesheets/services/news/tablet.css\" media=\"(min-width: 600px) and (max-width: 1007px)\">\n",
      "    <link rel=\"preload\" as=\"style\" href=\"https://static.bbc.co.uk/news/1.250.02825/stylesheets/services/news/wide.css\" media=\"(min-width: 1008px)\">\n",
      "\n",
      "            <script> window.orb_fig_blocking = true; </script>\n",
      "    \n",
      "            <link rel=\"preload\" as=\"script\" href=\"//fig.bbc.co.uk/frameworks/fig/2/fig.js?callback=orb.orb_fig\">\n",
      "    \n",
      "    <link href=\"//static.bbci.co.uk\" rel=\"preconnect\" crossorigin>\n",
      "    <link href=\"//static.bbc.co.uk\" rel=\"preconnect\" crossorigin>\n",
      "    <link href=\"//nav.files.bbci.co.uk\" rel=\"preconnect\" crossorigin>\n",
      "    <link href=\"//ichef.bbci.co.uk\" rel=\"preconnect\" crossorigin>\n",
      "\n",
      "    <link rel=\"dns-prefetch\" href=\"//ssl.bbc.co.uk/\">\n",
      "    <link rel=\"dns-prefetch\" href=\"//sa.bbc.co.uk/\">\n",
      "    <link rel=\"dns-prefetch\" href=\"//ichef.bbci.co.uk/\">\n",
      "\n",
      "\n",
      "    <link rel=\"dns-prefetch\" href=\"//edigitalsurvey.com\">\n",
      "\n",
      "    <meta name=\"x-country\" content=\"bd\">\n",
      "    <meta name=\"x-audience\" content=\"Domestic\">\n",
      "    <meta name=\"CPS_AUDIENCE\" content=\"Domestic\">\n",
      "    <meta name=\"CPS_CHANGEQUEUEID\" content=\"125349755\">\n",
      "    <link rel=\"canonical\" href=\"https://www.bbc.co.uk/news/world-asia-45069935\">\n",
      "    <link rel=\"amphtml\" href=\"https://www.bbc.co.uk/news/amp/world-asia-45069935\">\n",
      "\n",
      "                        <link rel=\"alternate\" hreflang=\"en-gb\" href=\"https://www.b\n"
     ]
    }
   ],
   "source": [
    "html=request.urlopen('https://www.bbc.co.uk/news/world-asia-45069935').read().decode('utf8')\n",
    "print(html[:2000])"
   ]
  },
  {
   "cell_type": "code",
   "execution_count": 6,
   "metadata": {
    "collapsed": false
   },
   "outputs": [],
   "source": [
    "from bs4 import BeautifulSoup\n",
    "#download and install beautifulsoup\n",
    "#unzip, go to its location and from cmd run 'setup.py install'"
   ]
  },
  {
   "cell_type": "code",
   "execution_count": 145,
   "metadata": {
    "collapsed": false
   },
   "outputs": [
    {
     "data": {
      "text/plain": [
       "'c:\\\\users\\\\aysha kamal\\\\appdata\\\\local\\\\programs\\\\python\\\\python37-32'"
      ]
     },
     "execution_count": 145,
     "metadata": {},
     "output_type": "execute_result"
    }
   ],
   "source": [
    "import os\n",
    "import sys\n",
    "os.path.dirname(sys.executable)\n",
    "## python path"
   ]
  },
  {
   "cell_type": "code",
   "execution_count": 9,
   "metadata": {
    "collapsed": false
   },
   "outputs": [
    {
     "name": "stdout",
     "output_type": "stream",
     "text": [
      "['Bangladesh', 'students', 'attacked', 'during', 'Dhaka', 'protest', '-', 'BBC', 'News', 'window.orb_fig_blocking', '=', 'true', ';', '{', '``', '@', 'context', \"''\", ':', \"''\", 'http', ':', '\\\\/\\\\/schema.org', \"''\", ',', \"''\", '@', 'type', \"''\", ':', \"''\", 'ReportageNewsArticle', \"''\", ',', \"''\", 'url', \"''\", ':', \"''\", 'https', ':', '\\\\/\\\\/www.bbc.co.uk\\\\/news\\\\/world-asia-45069935', \"''\", ',', \"''\", 'publisher', \"''\", ':', '{', '``', '@', 'type', \"''\", ':', \"''\", 'NewsMediaOrganization', \"''\", ',', \"''\", 'name', \"''\", ':', \"''\", 'BBC', 'News', \"''\", ',', \"''\", 'publishingPrinciples', \"''\", ':', \"''\", 'http', ':', '\\\\/\\\\/www.bbc.co.uk\\\\/news\\\\/help-41670342', \"''\", ',', \"''\", 'logo', \"''\", ':', '{', '``', '@', 'type', \"''\", ':', \"''\", 'ImageObject', \"''\", ',', \"''\", 'url', \"''\", ':', \"''\", 'https', ':', '\\\\/\\\\/www.bbc.co.uk\\\\/news\\\\/special\\\\/2015\\\\/newsspec_10857\\\\/bbc_news_logo.png', '?', 'cb=1', \"''\", '}', '}', ',', \"''\", 'datePublished', \"''\", ':', \"''\", '2018-08-04T19:14:08+01:00', \"''\", ',', \"''\", 'dateModified', \"''\", ':', \"''\", '2018-08-04T19:14:08+01:00', \"''\", ',', \"''\", 'headline', \"''\", ':', \"''\", 'Bangladesh', 'teens', 'attacked', 'during', 'protest', \"''\", ',', \"''\", 'image', \"''\", ':', '{', '``', '@', 'type', \"''\", ':', \"''\", 'ImageObject', \"''\", ',', \"''\", 'width', \"''\", ':720', ',', \"''\", 'height', \"''\", ':405', ',', \"''\", 'url', \"''\", ':', \"''\", 'https', ':', '\\\\/\\\\/ichef.bbci.co.uk\\\\/news\\\\/720\\\\/cpsprodpb\\\\/13B7A\\\\/production\\\\/_102826708_mediaitem102826707.jpg', \"''\", '}', ',', \"''\", 'thumbnailUrl', \"''\", ':', \"''\", 'https', ':', '\\\\/\\\\/ichef.bbci.co.uk\\\\/news\\\\/208\\\\/cpsprodpb\\\\/13B7A\\\\/production\\\\/_102826708_mediaitem102826707.jpg', \"''\", ',', \"''\", 'author', \"''\", ':', '{', '``', '@', 'type', \"''\", ':', \"''\", 'NewsMediaOrganization', \"''\", ',', \"''\", 'name', \"''\", ':', \"''\", 'BBC', 'News', \"''\", ',', \"''\", 'logo', \"''\", ':', '{', '``', '@', 'type', \"''\", ':', \"''\", 'ImageObject', \"''\", ',', \"''\", 'url', \"''\", ':', \"''\", 'https', ':', '\\\\/\\\\/www.bbc.co.uk\\\\/news\\\\/special\\\\/2015\\\\/newsspec_10857\\\\/bbc_news_logo.png', '?', 'cb=1', \"''\", '}', ',', \"''\", 'noBylinesPolicy', \"''\", ':', \"''\", 'http', ':', '\\\\/\\\\/www.bbc.co.uk\\\\/news\\\\/help-41670342', '#', 'authorexpertise', \"''\", '}', ',', \"''\", 'mainEntityOfPage', \"''\", ':', \"''\", 'https', ':', '\\\\/\\\\/www.bbc.co.uk\\\\/news\\\\/world-asia-45069935', \"''\", '}', 'var', '_sf_startpt=', '(', 'new', 'Date', '(', ')', ')', '.getTime', '(', ')', '(', 'function', '(', ')', '{', 'if', '(', 'navigator.userAgent.match', '(', '/IEMobile\\\\/10\\\\.0/', ')', ')', '{', 'var', 'msViewportStyle', '=', 'document.createElement', '(', '``', 'style', \"''\", ')', ';', 'msViewportStyle.appendChild', '(', 'document.createTextNode', '(', '``', '@', '-ms-viewport', '{', 'width', ':', 'auto', '!', 'important', '}', \"''\", ')', ')', ';', 'document.getElementsByTagName', '(', '``', 'head', \"''\", ')', '[', '0', ']', '.appendChild', '(', 'msViewportStyle', ')', ';', '}', '}', ')', '(', ')', ';', 'window.fig', '=', 'window.fig', '||', '{', '}', ';', 'window.fig.async', '=', 'true', ';', '/*', '<', '!', '[', 'CDATA', '[', '*/', 'window.orb', '=', '{', 'lang', ':', \"'en\", \"'\", ',', 'bbcBaseUrl', ':', \"'http\", ':', '//www.bbc.co.uk', \"'\", ',', 'bbcUrlPrefix', ':', \"'http\", ':', '//www', '.', \"'\", ',', 'staticHost', ':', \"'https\", ':', '//nav.files.bbci.co.uk/orbit/2.0.0-261.ad737ae', \"'\", ',', 'figUrl', ':', \"'https\", ':', '//fig.bbc.co.uk/frameworks/fig/2/fig.js', \"'\", ',', 'partialCookieOvenUrl', ':', \"'https\", ':', \"//cookie-oven.api.bbc'\", '}', ';', 'document.documentElement.className', '+=', '(', 'document.documentElement.className', '?', \"'\", \"'\", ':', '``', ')', '+', \"'orb-js\", \"'\", ';', 'window.orb.worldwideNavlinks', '=', \"'\", '<', 'li', 'class=', \"''\", 'orb-nav-home', \"''\", '>', '<', 'a', 'href=', \"''\", 'http', ':', '//www.bbc.com/', \"''\", '>', 'Home', '<', '/a', '>', '<', '/li', '>', '<', 'li', 'class=', \"''\", 'orb-nav-newsdotcom', \"''\", '>', '<', 'a', 'href=', \"''\", 'https', ':', '//www.bbc.com/news', \"''\", '>', 'News', '<', '/a', '>', '<', '/li', '>', '<', 'li', 'class=', \"''\", 'orb-nav-sport', \"''\", '>', '<', 'a', 'href=', \"''\", 'https', ':', '//www.bbc.com/sport', \"''\", '>', 'Sport', '<', '/a', '>', '<', '/li', '>', '<', 'li', 'class=', \"''\", 'orb-nav-weather', \"''\", '>', '<', 'a', 'href=', \"''\", 'https', ':', '//www.bbc.com/weather', \"''\", '>', 'Weather', '<', '/a', '>', '<', '/li', '>', '<', 'li', 'class=', \"''\", 'orb-nav-shop', \"''\", '>', '<', 'a', 'href=', \"''\", 'http', ':', '//shop.bbc.com/', \"''\", '>', 'Shop', '<', '/a', '>', '<', '/li', '>', '<', 'li', 'class=', \"''\", 'orb-nav-earthdotcom', \"''\", '>', '<', 'a', 'href=', \"''\", 'http', ':', '//www.bbc.com/earth/', \"''\", '>', 'Earth', '<', '/a', '>', '<', '/li', '>', '<', 'li', 'class=', \"''\", 'orb-nav-travel-dotcom', \"''\", '>', '<', 'a', 'href=', \"''\", 'http', ':', '//www.bbc.com/travel/', \"''\", '>', 'Travel', '<', '/a', '>', '<', '/li', '>', '<', 'li', 'class=', \"''\", 'orb-nav-capital', \"''\", '>', '<', 'a', 'href=', \"''\", 'http', ':', '//www.bbc.com/capital/', \"''\", '>', 'Capital', '<', '/a', '>', '<', '/li', '>', '<', 'li', 'class=', \"''\", 'orb-nav-culture', \"''\", '>', '<', 'a', 'href=', \"''\", 'http', ':', '//www.bbc.com/culture/', \"''\", '>', 'Culture', '<', '/a', '>', '<', '/li', '>', '<', 'li', 'class=', \"''\", 'orb-nav-future', \"''\", '>', '<', 'a', 'href=', \"''\", 'http', ':', '//www.bbc.com/future/', \"''\", '>', 'Future', '<', '/a', '>', '<', '/li', '>', '<', 'li', 'class=', \"''\", 'orb-nav-tv', \"''\", '>', '<', 'a', 'href=', \"''\", 'http', ':', '//www.bbc.co.uk/tv/', \"''\", '>', 'TV', '<', '/a', '>', '<', '/li', '>', '<', 'li', 'class=', \"''\", 'orb-nav-radio', \"''\", '>', '<', 'a', 'href=', \"''\", 'http', ':', '//www.bbc.co.uk/radio/', \"''\", '>', 'Radio', '<', '/a', '>', '<', '/li', '>', '<', 'li', 'class=', \"''\", 'orb-nav-cbbc', \"''\", '>', '<', 'a', 'href=', \"''\", 'https', ':', '//www.bbc.co.uk/cbbc', \"''\", '>', 'CBBC', '<', '/a', '>', '<', '/li', '>', '<', 'li', 'class=', \"''\", 'orb-nav-cbeebies', \"''\", '>', '<', 'a', 'href=', \"''\", 'https', ':', '//www.bbc.co.uk/cbeebies', \"''\", '>', 'CBeebies', '<', '/a', '>', '<', '/li', '>', '<', 'li', 'class=', \"''\", 'orb-nav-food', \"''\", '>', '<', 'a', 'href=', \"''\", 'https', ':', '//www.bbc.com/food/', \"''\", '>', 'Food', '<', '/a', '>', '<', '/li', '>', '<', 'li', 'class=', \"''\", 'orb-nav-bitesize', \"''\", '>', '<', 'a', 'href=', \"''\", 'https', ':', '//www.bbc.co.uk/education', \"''\", '>', 'Bitesize', '<', '/a', '>', '<', '/li', '>', '<', 'li', 'class=', \"''\", 'orb-nav-music', \"''\", '>', '<', 'a', 'href=', \"''\", 'http', ':', '//www.bbc.co.uk/music/', \"''\", '>', 'Music', '<', '/a', '>', '<', '/li', '>', '<', 'li', 'class=', \"''\", 'orb-nav-arts', \"''\", '>', '<', 'a', 'href=', \"''\", 'http', ':', '//www.bbc.co.uk/arts/', \"''\", '>', 'Arts', '<', '/a', '>', '<', '/li', '>', '<', 'li', 'class=', \"''\", 'orb-nav-makeitdigital', \"''\", '>', '<', 'a', 'href=', \"''\", 'http', ':', '//www.bbc.co.uk/makeitdigital', \"''\", '>', 'Make', 'It', 'Digital', '<', '/a', '>', '<', '/li', '>', '<', 'li', 'class=', \"''\", 'orb-nav-taster', \"''\", '>', '<', 'a', 'href=', \"''\", 'http', ':', '//www.bbc.co.uk/taster', \"''\", '>', 'Taster', '<', '/a', '>', '<', '/li', '>', '<', 'li', 'class=', \"''\", 'orb-nav-nature', \"''\", '>', '<', 'a', 'href=', \"''\", 'http', ':', '//www.bbc.com/nature/', \"''\", '>', 'Nature', '<', '/a', '>', '<', '/li', '>', '<', 'li', 'class=', \"''\", 'orb-nav-local', \"''\", '>', '<', 'a', 'href=', \"''\", 'https', ':', '//www.bbc.co.uk/news/localnews', \"''\", '>', 'Local', '<', '/a', '>', '<', '/li', '>', \"'\", ';', '/*', ']', ']', '>', '*///', 'Promise', 'polyfill', 'from', 'https', ':', '//github.com/bramstein/promis', '(', 'function', '(', ')', '{', \"'use\", 'strict', \"'\", ';', 'var', 'f', ',', 'g=', '[', ']', ';', 'function', 'l', '(', 'a', ')', '{', 'g.push', '(', 'a', ')', ';', '1==g.length', '&', '&', 'f', '(', ')', '}', 'function', 'm', '(', ')', '{', 'for', '(', ';', 'g.length', ';', ')', 'g', '[', '0', ']', '(', ')', ',', 'g.shift', '(', ')', '}', 'f=function', '(', ')', '{', 'setTimeout', '(', 'm', ')', '}', ';', 'function', 'n', '(', 'a', ')', '{', 'this.a=p', ';', 'this.b=void', '0', ';', 'this.f=', '[', ']', ';', 'var', 'b=this', ';', 'try', '{', 'a', '(', 'function', '(', 'a', ')', '{', 'q', '(', 'b', ',', 'a', ')', '}', ',', 'function', '(', 'a', ')', '{', 'r', '(', 'b', ',', 'a', ')', '}', ')', '}', 'catch', '(', 'c', ')', '{', 'r', '(', 'b', ',', 'c', ')', '}', '}', 'var', 'p=2', ';', 'function', 't', '(', 'a', ')', '{', 'return', 'new', 'n', '(', 'function', '(', 'b', ',', 'c', ')', '{', 'c', '(', 'a', ')', '}', ')', '}', 'function', 'u', '(', 'a', ')', '{', 'return', 'new', 'n', '(', 'function', '(', 'b', ')', '{', 'b', '(', 'a', ')', '}', ')', '}', 'function', 'q', '(', 'a', ',', 'b', ')', '{', 'if', '(', 'a.a==p', ')', '{', 'if', '(', 'b==a', ')', 'throw', 'new', 'TypeError', ';', 'var', 'c=', '!', '1', ';', 'try', '{', 'var', 'd=b', '&', '&', 'b.then', ';', 'if', '(', 'null', '!', '=b', '&', '&', \"''\", 'object', \"''\", '==typeof', 'b', '&', '&', \"''\", 'function', \"''\", '==typeof', 'd', ')', '{', 'd.call', '(', 'b', ',', 'function', '(', 'b', ')', '{', 'c||q', '(', 'a', ',', 'b', ')', ';', 'c=', '!', '0', '}', ',', 'function', '(', 'b', ')', '{', 'c||r', '(', 'a', ',', 'b', ')', ';', 'c=', '!', '0', '}', ')', ';', 'return', '}', '}', 'catch', '(', 'e', ')', '{', 'c||r', '(', 'a', ',', 'e', ')', ';', 'return', '}', 'a.a=0', ';', 'a.b=b', ';', 'v', '(', 'a', ')', '}', '}', 'function', 'r', '(', 'a', ',', 'b', ')', '{', 'if', '(', 'a.a==p', ')', '{', 'if', '(', 'b==a', ')', 'throw', 'new', 'TypeError', ';', 'a.a=1', ';', 'a.b=b', ';', 'v', '(', 'a', ')', '}', '}', 'function', 'v', '(', 'a', ')', '{', 'l', '(', 'function', '(', ')', '{', 'if', '(', 'a.a', '!', '=p', ')', 'for', '(', ';', 'a.f.length', ';', ')', '{', 'var', 'b=a.f.shift', '(', ')', ',', 'c=b', '[', '0', ']', ',', 'd=b', '[', '1', ']', ',', 'e=b', '[', '2', ']', ',', 'b=b', '[', '3', ']', ';', 'try', '{', '0==a.a', '?', '``', 'function', \"''\", '==typeof', 'c', '?', 'e', '(', 'c.call', '(', 'void', '0', ',', 'a.b', ')', ')', ':', 'e', '(', 'a.b', ')', ':1==a.a', '&', '&', '(', '``', 'function', \"''\", '==typeof', 'd', '?', 'e', '(', 'd.call', '(', 'void', '0', ',', 'a.b', ')', ')', ':', 'b', '(', 'a.b', ')', ')', '}', 'catch', '(', 'h', ')', '{', 'b', '(', 'h', ')', '}', '}', '}', ')', '}', 'n.prototype.g=function', '(', 'a', ')', '{', 'return', 'this.c', '(', 'void', '0', ',', 'a', ')', '}', ';', 'n.prototype.c=function', '(', 'a', ',', 'b', ')', '{', 'var', 'c=this', ';', 'return', 'new', 'n', '(', 'function', '(', 'd', ',', 'e', ')', '{', 'c.f.push', '(', '[', 'a', ',', 'b', ',', 'd', ',', 'e', ']', ')', ';', 'v', '(', 'c', ')', '}', ')', '}', ';', 'function', 'w', '(', 'a', ')', '{', 'return', 'new', 'n', '(', 'function', '(', 'b', ',', 'c', ')', '{', 'function', 'd', '(', 'c', ')', '{', 'return', 'function', '(', 'd', ')', '{', 'h', '[', 'c', ']', '=d', ';', 'e+=1', ';', 'e==a.length', '&', '&', 'b', '(', 'h', ')', '}', '}', 'var', 'e=0', ',', 'h=', '[', ']', ';', '0==a.length', '&', '&', 'b', '(', 'h', ')', ';', 'for', '(', 'var', 'k=0', ';', 'k', '<', 'a.length', ';', 'k+=1', ')', 'u', '(', 'a', '[', 'k', ']', ')', '.c', '(', 'd', '(', 'k', ')', ',', 'c', ')', '}', ')', '}', 'function', 'x', '(', 'a', ')', '{', 'return', 'new', 'n', '(', 'function', '(', 'b', ',', 'c', ')', '{', 'for', '(', 'var', 'd=0', ';', 'd', '<', 'a.length', ';', 'd+=1', ')', 'u', '(', 'a', '[', 'd', ']', ')', '.c', '(', 'b', ',', 'c', ')', '}', ')', '}', ';', 'window.Promise||', '(', 'window.Promise=n', ',', 'window.Promise.resolve=u', ',', 'window.Promise.reject=t', ',', 'window.Promise.race=x', ',', 'window.Promise.all=w', ',', 'window.Promise.prototype.then=n.prototype.c', ',', 'window.Promise.prototype', '[', '``', 'catch', \"''\", ']', '=n.prototype.g', ')', ';', '}', '(', ')', ')', ';', '(', 'function', '(', ')', '{', 'var', 'language', '=', \"'en\", \"'\", ';', 'language', '=', \"'en\", \"'\", ';', 'window.bbcpage', '=', '{', 'loadModule', ':', 'function', '(', 'deps', ')', '{', 'return', 'new', 'Promise', '(', 'function', '(', 'resolve', ',', 'reject', ')', '{', 'window.require', '(', 'deps', ',', 'function', '(', ')', '{', 'resolve.apply', '(', 'this', ',', 'arguments', ')', ';', '}', ',', 'function', '(', 'error', ')', '{', 'reject', '(', 'error', ')', ';', '}', ')', ';', '}', ')', '}', ',', 'loadCSS', ':', 'function', '(', 'url', ',', 'timeout', ')', '{', 'return', 'window.bbcpage.loadModule', '(', '[', \"'orb/lib/_\", '$', \"'\", ']', ')', '.then', '(', 'function', '(', '$', ')', '{', 'return', 'new', 'Promise', '(', 'function', '(', 'resolve', ',', 'reject', ')', '{', 'var', 'stylesheet', '=', 'loadCSS', '(', 'url', ')', ';', '$', '.onloadCSS', '(', 'stylesheet', ',', 'function', '(', ')', '{', 'resolve', '(', ')', ';', '}', ')', ';', 'if', '(', 'timeout', ')', '{', 'setTimeout', '(', 'function', '(', ')', '{', 'reject', '(', ')', ';', '}', ',', 'timeout', ')', ';', '}', '}', ')', ';', '}', ')', ';', '}', ',', 'getLanguage', ':', 'function', '(', ')', '{', 'return', 'new', 'Promise', '(', 'function', '(', 'resolve', ',', 'reject', ')', '{', 'resolve', '(', 'language', ')', ';', '}', ')', ';', '}', ',', 'trackRegion', ':', 'function', '(', 'region', ',', 'labels', ')', '{', 'return', 'window.bbcpage.loadModule', '(', '[', \"'istats-1\", \"'\", ']', ')', '.then', '(', 'function', '(', 'istats', ')', '{', 'var', 'trackLabels', '=', '{', 'region', ':', 'region', '}', ';', 'for', '(', 'var', 'label', 'in', 'labels', ')', '{', 'trackLabels', '[', 'label', ']', '=', 'labels', '[', 'label', ']', ';', '}', 'var', 'linkType', '=', 'labels.linkType', '||', \"'internal\", \"'\", ';', 'istats.track', '(', 'linkType', ',', 'trackLabels', ')', ';', '}', ')', ';', '}', '}', ';', 'var', 'country', ';', 'var', 'sanitiseCountry', '=', 'function', '(', 'country', ')', '{', 'return', 'country', '?', 'country.replace', '(', '/', '/g', ',', '``', ')', ':', 'undefined', ';', '}', 'window.bbcuser', '=', '{', 'getCountry', ':', 'function', '(', ')', '{', 'if', '(', 'country', ')', '{', 'return', 'new', 'Promise', '(', 'function', '(', 'resolve', ',', 'reject', ')', '{', 'resolve', '(', 'sanitiseCountry', '(', 'country', ')', ')', ';', '}', ')', '}', 'else', '{', 'return', 'window.bbcpage.loadModule', '(', '[', \"'orb/fig\", \"'\", ']', ')', '.then', '(', 'function', '(', 'orbFig', ')', '{', 'return', 'new', 'Promise', '(', 'function', '(', 'resolve', ',', 'reject', ')', '{', 'orbFig.load', '(', 'function', '(', 'fig', ')', '{', 'if', '(', 'fig.geo.isUK', '(', ')', ')', '{', 'resolve', '(', \"'gb\", \"'\", ')', ';', '}', 'else', 'if', '(', 'fig.geo.isEU', '(', ')', ')', '{', 'resolve', '(', \"'eu\", \"'\", ')', ';', '}', 'else', '{', 'resolve', '(', 'undefined', ')', ';', '}', '}', ',', 'function', '(', ')', '{', 'reject', '(', \"'Error\", 'determining', 'country', '.', 'Timeout', '?', \"'\", ')', ';', '}', ')', ';', '}', ')', ';', '}', ')', ';', '}', '}', ',', 'isUKCombined', ':', 'function', '(', 'inputCountry', ')', '{', 'return', 'window.bbcpage.loadModule', '(', '[', \"'orb/bbcuser\", \"'\", ']', ')', '.then', '(', 'function', '(', 'service', ')', '{', 'return', 'new', 'Promise', '(', 'function', '(', 'resolve', ',', 'reject', ')', '{', 'if', '(', 'inputCountry', ')', '{', 'resolve', '(', 'service.isUKCombined', '(', 'sanitiseCountry', '(', 'inputCountry', ')', ')', ')', ';', '}', 'else', '{', 'window.bbcuser.getCountry', '(', ')', '.then', '(', 'function', '(', 'fetchedCountry', ')', '{', 'resolve', '(', 'service.isUKCombined', '(', 'fetchedCountry', ')', ')', ';', '}', ')', '}', '}', ')', ';', '}', ')', ';', '}', ',', 'isEU', ':', 'function', '(', 'inputCountry', ')', '{', 'return', 'window.bbcpage.loadModule', '(', '[', \"'orb/bbcuser\", \"'\", ']', ')', '.then', '(', 'function', '(', 'service', ')', '{', 'return', 'new', 'Promise', '(', 'function', '(', 'resolve', ',', 'reject', ')', '{', 'if', '(', 'inputCountry', ')', '{', 'resolve', '(', 'service.isEU', '(', 'sanitiseCountry', '(', 'inputCountry', ')', ')', ')', ';', '}', 'else', '{', 'window.bbcuser.getCountry', '(', ')', '.then', '(', 'function', '(', 'fetchedCountry', ')', '{', 'resolve', '(', 'service.isEU', '(', 'fetchedCountry', ')', ')', ';', '}', ')', '}', '}', ')', ';', '}', ')', ';', '}', ',', 'allowsPerformanceCookies', ':', 'function', '(', ')', '{', 'return', 'window.bbcpage.loadModule', '(', '[', \"'orb/cookies\", \"'\", ']', ')', '.then', '(', 'function', '(', 'bbccookies', ')', '{', 'return', '!', '!', 'bbccookies.cookiesEnabled', '(', ')', '&', '&', '!', '!', 'bbccookies.readPolicy', '(', \"'performance\", \"'\", ')', ';', '}', ')', ';', '}', ',', 'allowsFunctionalCookies', ':', 'function', '(', ')', '{', 'return', 'window.bbcpage.loadModule', '(', '[', \"'orb/cookies\", \"'\", ']', ')', '.then', '(', 'function', '(', 'bbccookies', ')', '{', 'return', '!', '!', 'bbccookies.cookiesEnabled', '(', ')', '&', '&', '!', '!', 'bbccookies.readPolicy', '(', \"'personalisation\", \"'\", ')', ';', '}', ')', ';', '}', ',', 'getCookieValue', ':', 'function', '(', 'cookieName', ')', '{', 'return', 'window.bbcpage.loadModule', '(', '[', \"'orb/cookies\", \"'\", ']', ')', '.then', '(', 'function', '(', 'bbccookies', ')', '{', 'return', 'bbccookies.get', '(', 'cookieName', ')', ';', '}', ')', ';', '}', ',', 'resetCookiesPreferences', ':', 'function', '(', ')', '{', 'return', 'window.bbcpage.loadModule', '(', '[', \"'orb/cookies\", \"'\", ']', ')', '.then', '(', 'function', '(', 'bbccookies', ')', '{', 'bbccookies.setDefaultCookiesSingleDomain', '(', ')', ';', '}', ')', ';', '}', ',', 'hasCookiesEnabled', ':', 'function', '(', ')', '{', 'return', 'window.bbcpage.loadModule', '(', '[', \"'orb/cookies\", \"'\", ']', ')', '.then', '(', 'function', '(', 'bbccookies', ')', '{', 'return', '!', '!', 'bbccookies.cookiesEnabled', '(', ')', ';', '}', ')', ';', '}', ',', 'hasSeenCookieBanner', ':', 'function', '(', ')', '{', 'return', 'window.bbcpage.loadModule', '(', '[', \"'orb/cookies\", \"'\", ']', ')', '.then', '(', 'function', '(', 'bbccookies', ')', '{', 'return', '!', '!', 'bbccookies.isCookiePolicySet', '(', ')', ';', '}', ')', ';', '}', ',', 'logEvent', ':', 'function', '(', 'verb', ',', 'noun', ',', 'extraLabels', ')', '{', 'return', 'window.bbcuser.allowsPerformanceCookies', '(', ')', '.then', '(', 'function', '(', 'allowsCookies', ')', '{', 'if', '(', 'allowsCookies', ')', '{', 'return', 'window.bbcpage.loadModule', '(', '[', \"'istats-1\", \"'\", ']', ')', '.then', '(', 'function', '(', 'istats', ')', '{', 'istats.log', '(', 'verb', ',', 'noun', ',', 'extraLabels', ')', ';', '}', ')', ';', '}', 'else', '{', 'throw', 'new', 'Error', '(', \"'User\", 'can', 'not', 'be', 'tracked', 'due', 'to', 'cookies', 'preferences', '.', \"'\", ')', ';', '}', '}', ')', ';', '}', ',', '}', ';', '}', '(', ')', ')', ';', 'define', '(', \"'orb/cookies\", \"'\", ',', 'function', '(', ')', '{', 'return', 'window.bbccookies', ';', '}', ')', ';', 'window.bbcFlagpoles_istats=', \"''\", 'ON', \"''\", ',', 'require.config', '(', '{', 'paths', ':', '{', '``', 'istats-1', \"''\", ':', \"''\", 'https', ':', '//nav.files.bbci.co.uk/orbit-webmodules/0.0.1-110.d64757f/istats/istats-1', \"''\", '}', '}', ')', ',', 'require', '(', '[', '``', 'istats-1', \"''\", ',', \"''\", 'orb/cookies', \"''\", ']', ',', 'function', '(', 'a', ',', 'e', ')', '{', 'if', '(', 'e.isAllowed', '(', '``', 's1', \"''\", ')', ')', '{', 'a.addCollector', '(', '{', 'name', ':', \"''\", 'default', \"''\", ',', 'url', ':', \"''\", '//sa.bbc.co.uk/bbc/bbc/s', \"''\", ',', 'separator', ':', \"''\", '&', \"''\", '}', ')', ';', 'var', 's=', \"''\", 'news.world.asia.story.45069935.page', \"''\", ';', 'a.setCountername', '(', 's', ')', ',', 'window.istats_countername', '&', '&', 'a.setCountername', '(', 'window.istats_countername', ')', ',', 'a.addLabels', '(', '``', 'ml_name=webmodule', '&', 'ml_version=0.0.1-110.d64757f', '&', 'blq_e=orbit', '&', 'blq_r=orbit', '&', 'blq_s=orbit', '&', 'blq_v=default', '&', 'language=en', '&', 'pal_route=asset', '&', 'language=en-GB', '&', 'pal_webapp=tabloid', '&', 'prod_name=news', '&', 'app_name=news', '&', 'cps_asset_id=45069935', '&', 'page_type=Story', '&', 'section=', '%', '2Fnews', '%', '2Fworld', '%', '2Fasia', '&', 'first_pub=2018-08-04T14', '%', '3A55', '%', '3A42', '%', '2B00', '%', '3A00', '&', 'last_editorial_update=2018-08-04T18', '%', '3A14', '%', '3A08', '%', '2B00', '%', '3A00', '&', 'curie=71adf2ae-7703-be4c-bdc8-bd83d26bfa95', '&', 'title=Bangladesh+students+attacked+during+Dhaka+protest', '&', 'has_video=', '&', 'topic_names=Road+safety', '%', '21Dhaka', '%', '21Bangladesh', '&', 'topic_ids=cx250pek0xxt', '%', '21cp7ddeeyj5jt', '%', '21c77jz3md7grt', '&', 'for_nation=bd', '&', 'app_version=1.250.0', '&', 'app_type=responsive', '&', 'bbc_site=news', \"''\", ')', '}', '}', ')', ';', '/*', '<', '!', '[', 'CDATA', '[', '*/', 'var', 'map', '=', '{', '}', ';', 'if', '(', 'typeof', '(', 'map', '[', \"'jssignals-1\", \"'\", ']', ')', '==', \"'undefined\", \"'\", ')', '{', 'map', '[', \"'jssignals-1\", \"'\", ']', '=', \"'https\", ':', '//static.bbc.co.uk/frameworks/jssignals/0.3.6/modules/jssignals-1', \"'\", ';', '}', 'require', '(', '{', 'paths', ':', 'map', '}', ')', ';', '/*', ']', ']', '>', '*/', '(', 'function', '(', ')', '{', 'if', '(', '!', 'window.require', ')', '{', 'throw', 'new', 'Error', '(', \"'idcta\", ':', 'could', 'not', 'find', 'require', 'module', \"'\", ')', ';', '}', 'if', '(', 'typeof', '(', 'map', ')', '==', \"'undefined\", \"'\", ')', '{', 'var', 'map', '=', '{', '}', ';', '}', 'if', '(', '!', '!', 'document.createElementNS', '&', '&', '!', '!', 'document.createElementNS', '(', \"'http\", ':', '//www.w3.org/2000/svg', \"'\", ',', '``', 'svg', \"''\", ')', '.createSVGRect', ')', '{', 'document.documentElement.className', '+=', \"'\", 'id-svg', \"'\", ';', '}', 'var', 'ptrt', '=', 'RegExp', '(', '``', '[', '\\\\\\\\', '?', '&', ']', 'ptrt=', '(', '[', '^', '&', '#', ']', '*', ')', \"''\", ')', '.exec', '(', 'document.location.href', ')', ';', 'var', 'ENDPOINT_URL', '=', \"'//\", \"'\", '+', '(', '(', 'window.location.protocol', '==', '``', 'https', ':', \"''\", ')', '?', '(', \"'ssl.bbc.co.uk\", \"'\", ')', '.replace', '(', '``', 'www', '.', '``', ',', '``', 'ssl', '.', \"''\", ')', ':', '(', \"'ssl.bbc.co.uk\", \"'\", ')', '.replace', '(', '``', 'ssl', '.', '``', ',', '``', 'www', '.', '``', ')', ')', ';', 'var', 'ENDPOINT_CONFIG', '=', '(', \"'/idcta/config\", '?', 'callback', '&', 'amp', ';', 'locale=en-GB', '&', 'ptrt=', \"'\", '+', 'encodeURI', '(', '(', 'ptrt', '?', 'ptrt', '[', '1', ']', ':', 'document.location.href', ')', ')', ')', '.replace', '(', '/\\\\', '&', 'amp', ';', '/g', ',', \"'\", '&', \"'\", ')', ';', 'var', 'ENDPOINT_TRANSLATIONS', '=', \"'/idcta/translations\", '?', 'callback', '&', 'locale=en-GB', \"'\", ';', 'map', '[', \"'idapp-1\", \"'\", ']', '=', \"'//static.bbc.co.uk/idapp/0.72.58/modules/idapp/idapp-1\", \"'\", ';', 'map', '[', \"'idcta\", \"'\", ']', '=', \"'//static.bbc.co.uk/id/0.37.24/modules/idcta\", \"'\", ';', 'map', '[', \"'idcta/config\", \"'\", ']', '=', '[', 'ENDPOINT_URL', '+', 'ENDPOINT_CONFIG', ',', \"'//static.bbc.co.uk/id/0.37.24/modules/idcta/fallbackConfig\", \"'\", ']', ';', 'map', '[', \"'idcta/translations\", \"'\", ']', '=', '[', 'ENDPOINT_URL', '+', 'ENDPOINT_TRANSLATIONS', ',', \"'//static.bbc.co.uk/id/0.37.24/modules/idcta/fallbackTranslations\", \"'\", ']', ';', 'require', '(', '{', 'paths', ':', 'map', '}', ')', ';', '/*', '*', 'Temporary', 'code', '*', 'To', 'be', 'removed', 'when', 'old', 'id-statusbar-config', 'is', 'no', 'longer', 'supported', '*/', 'define', '(', \"'id-statusbar-config\", \"'\", ',', '[', \"'idcta/id-config\", \"'\", ']', ',', 'function', '(', 'conf', ')', '{', 'return', 'conf', ';', '}', ')', ';', 'define', '(', \"'idcta/id-statusbar-config\", \"'\", ',', '[', \"'idcta/id-config\", \"'\", ']', ',', 'function', '(', 'conf', ')', '{', 'return', 'conf', ';', '}', ')', ';', '}', ')', '(', ')', ';', '//', 'Globally', 'available', 'search', 'context', 'window.SEARCHBOX=', '{', '``', 'variant', \"''\", ':', \"''\", 'default', \"''\", ',', \"''\", 'locale', \"''\", ':', \"''\", 'en', \"''\", ',', \"''\", 'navSearchboxStaticPrefix', \"''\", ':', \"''\", '//nav.files.bbci.co.uk/searchbox/1.0.0-137', \"''\", ',', \"''\", 'searchboxAppStaticPrefix', \"''\", ':', \"''\", '//search.files.bbci.co.uk/searchbox-app/1.0.26', \"''\", ',', \"''\", 'searchFormHtml', \"''\", ':', \"''\", '<', 'div', 'tabindex=\\\\', \"''\", '-1\\\\', \"''\", 'data-reactid=\\\\', \"''\", '.1ytvatcpzi8\\\\', \"''\", 'data-react-checksum=\\\\', \"''\", '-876269487\\\\', \"''\", '>', '<', 'div', 'data-reactid=\\\\', \"''\", '.1ytvatcpzi8.0\\\\', \"''\", '>', '<', 'section', 'class=\\\\', \"''\", 'se-searchbox-panel\\\\', \"''\", 'data-reactid=\\\\', \"''\", '.1ytvatcpzi8.0.0\\\\', \"''\", '>', '<', 'div', 'class=\\\\', \"''\", 'se-g-wrap\\\\', \"''\", 'data-reactid=\\\\', \"''\", '.1ytvatcpzi8.0.0.0\\\\', \"''\", '>', '<', 'div', 'class=\\\\', \"''\", 'se-g-layout\\\\', \"''\", 'data-reactid=\\\\', \"''\", '.1ytvatcpzi8.0.0.0.0\\\\', \"''\", '>', '<', 'div', 'class=\\\\', \"''\", 'se-g-layout__item', 'se-searchbox-title\\\\', \"''\", 'aria-hidden=\\\\', \"''\", 'true\\\\', \"''\", 'data-reactid=\\\\', \"''\", '.1ytvatcpzi8.0.0.0.0.0\\\\', \"''\", '>', 'search', '<', '/div', '>', '<', 'div', 'class=\\\\', \"''\", 'se-g-layout__item', 'se-searchbox\\\\', \"''\", 'data-reactid=\\\\', \"''\", '.1ytvatcpzi8.0.0.0.0.1\\\\', \"''\", '>', '<', 'form', 'accept-charset=\\\\', \"''\", 'utf-8\\\\', \"''\", 'id=\\\\', \"''\", 'searchboxDrawerForm\\\\', \"''\", 'method=\\\\', \"''\", 'get\\\\', \"''\", 'action=\\\\', \"''\", 'https', ':', '//search.bbc.co.uk/search\\\\', \"''\", 'data-reactid=\\\\', \"''\", '.1ytvatcpzi8.0.0.0.0.1.0\\\\', \"''\", '>', '<', 'label', 'class=\\\\', \"''\", 'se-searchbox__input\\\\', \"''\", 'for=\\\\', \"''\", 'se-searchbox-input-field\\\\', \"''\", 'data-reactid=\\\\', \"''\", '.1ytvatcpzi8.0.0.0.0.1.0.0\\\\', \"''\", '>', '<', 'span', 'class=\\\\', \"''\", 'se-sr-only\\\\', \"''\", 'data-reactid=\\\\', \"''\", '.1ytvatcpzi8.0.0.0.0.1.0.0.0\\\\', \"''\", '>', 'Search', 'Term', '<', '/span', '>', '<', 'input', 'name=\\\\', \"''\", 'q\\\\', \"''\", 'type=\\\\', \"''\", 'text\\\\', \"''\", 'value=\\\\', \"''\", '\\\\', \"''\", 'id=\\\\', \"''\", 'se-searchbox-input-field\\\\', \"''\", 'class=\\\\', \"''\", 'se-searchbox__input__field\\\\', \"''\", 'maxlength=\\\\', \"''\", '512\\\\', \"''\", 'autocomplete=\\\\', \"''\", 'off\\\\', \"''\", 'autocorrect=\\\\', \"''\", 'off\\\\', \"''\", 'autocapitalize=\\\\', \"''\", 'off\\\\', \"''\", 'spellcheck=\\\\', \"''\", 'false\\\\', \"''\", 'tabindex=\\\\', \"''\", '0\\\\', \"''\", 'data-reactid=\\\\', \"''\", '.1ytvatcpzi8.0.0.0.0.1.0.0.1\\\\', \"''\", '/', '>', '<', '/label', '>', '<', 'input', 'type=\\\\', \"''\", 'hidden\\\\', \"''\", 'name=\\\\', \"''\", 'scope\\\\', \"''\", 'value=\\\\', \"''\", '\\\\', \"''\", 'data-reactid=\\\\', \"''\", '.1ytvatcpzi8.0.0.0.0.1.0.2\\\\', \"''\", '/', '>', '<', 'button', 'type=\\\\', \"''\", 'submit\\\\', \"''\", 'class=\\\\', \"''\", 'se-searchbox__submit\\\\', \"''\", 'tabindex=\\\\', \"''\", '0\\\\', \"''\", 'data-reactid=\\\\', \"''\", '.1ytvatcpzi8.0.0.0.0.1.0.3\\\\', \"''\", '>', 'Search', '<', '/button', '>', '<', 'button', 'type=\\\\', \"''\", 'button\\\\', \"''\", 'class=\\\\', \"''\", 'se-searchbox__clear', 'se-searchbox__clear', '--', 'visible\\\\', \"''\", 'tabindex=\\\\', \"''\", '0\\\\', \"''\", 'data-reactid=\\\\', \"''\", '.1ytvatcpzi8.0.0.0.0.1.0.4\\\\', \"''\", '>', 'Close', '<', '/button', '>', '<', '/form', '>', '<', '/div', '>', '<', '/div', '>', '<', '/div', '>', '<', '/section', '>', '<', 'div', 'aria-live=\\\\', \"''\", 'polite\\\\', \"''\", 'aria-atomic=\\\\', \"''\", 'true\\\\', \"''\", 'class=\\\\', \"''\", 'se-suggestions-container\\\\', \"''\", 'data-reactid=\\\\', \"''\", '.1ytvatcpzi8.0.1\\\\', \"''\", '>', '<', 'section', 'class=\\\\', \"''\", 'se-g-wrap\\\\', \"''\", 'data-reactid=\\\\', \"''\", '.1ytvatcpzi8.0.1.0\\\\', \"''\", '>', '<', '/section', '>', '<', '/div', '>', '<', '/div', '>', '<', '/div', '>', \"''\", ',', \"''\", 'searchScopePlaceholder', \"''\", ':', \"''\", '<', 'input', 'type=\\\\', \"''\", 'hidden\\\\', \"''\", 'name=\\\\', \"''\", 'scope\\\\', \"''\", 'id=\\\\', \"''\", 'orb-search-scope\\\\', \"''\", 'value=\\\\', \"''\", 'all\\\\', \"''\", '>', \"''\", ',', \"''\", 'searchScopeParam', \"''\", ':', \"''\", '?', 'scope=all', \"''\", ',', \"''\", 'searchScopeTemplate', \"''\", ':', \"''\", 'all', \"''\", ',', \"''\", 'searchPlaceholderWrapperStart', \"''\", ':', \"''\", \"''\", ',', \"''\", 'searchPlaceholderWrapperEnd', \"''\", ':', \"''\", \"''\", '}', ';', 'window.SEARCHBOX.suppress', '=', 'false', ';', 'window.SEARCHBOX.searchScope', '=', 'SEARCHBOX.searchScopeTemplate.split', '(', \"'-\", \"'\", ')', '[', '0', ']', ';', 'require.config', '(', '{', '``', 'paths', \"''\", ':', '{', '``', 'orb/async/_footerpromo', \"''\", ':', \"'https\", ':', \"//nav.files.bbci.co.uk/navpromo/2.0.0-19.a2716e4/js/async/_footerpromo'\", '}', '}', ')', ';', '/*', '<', '!', '[', 'CDATA', '[', '*/', 'var', '_sf_startpt', '=', '(', 'new', 'Date', '(', ')', ')', '.getTime', '(', ')', ';', '/*', ']', ']', '>', '*/.bbccom_display_none', '{', 'display', ':', 'none', ';', '}', '/*', '<', '!', '[', 'CDATA', '[', '*/', 'var', 'bbcdotcomConfig', ',', 'googletag', '=', 'googletag', '||', '{', '}', ';', 'googletag.cmd', '=', 'googletag.cmd', '||', '[', ']', ',', 'bbcdotcomScripts', '=', '[', ']', ';', 'var', 'bbcdotcom', '=', 'false', ';', '(', 'function', '(', ')', '{', 'if', '(', 'typeof', 'require', '!', '==', \"'undefined\", \"'\", ')', '{', 'require', '(', '{', 'paths', ':', '{', '``', 'bbcdotcom', \"''\", ':', \"''\", 'https', ':', '//static.bbc.co.uk/bbcdotcom/1.85.0/script', \"''\", '}', '}', ')', ';', '}', '}', ')', '(', ')', ';', '/*', ']', ']', '>', '*//*', '<', '!', '[', 'CDATA', '[', '*/', 'var', 'bbcdotcom', '=', '{', 'adverts', ':', '{', 'keyValues', ':', '{', 'set', ':', 'function', '(', ')', '{', '}', '}', '}', ',', 'advert', ':', '{', 'write', ':', 'function', '(', ')', '{', '}', ',', 'show', ':', 'function', '(', ')', '{', '}', ',', 'isActive', ':', 'function', '(', ')', '{', 'return', 'false', ';', '}', ',', 'layout', ':', 'function', '(', ')', '{', 'return', '{', 'reset', ':', 'function', '(', ')', '{', '}', '}', '}', '}', ',', 'config', ':', '{', 'init', ':', 'function', '(', ')', '{', '}', ',', 'isActive', ':', 'function', '(', ')', '{', '}', ',', 'setSections', ':', 'function', '(', ')', '{', '}', ',', 'isAdsEnabled', ':', 'function', '(', ')', '{', '}', ',', 'setAdsEnabled', ':', 'function', '(', ')', '{', '}', ',', 'isAnalyticsEnabled', ':', 'function', '(', ')', '{', '}', ',', 'setAnalyticsEnabled', ':', 'function', '(', ')', '{', '}', ',', 'setAssetPrefix', ':', 'function', '(', ')', '{', '}', ',', 'setVersion', ':', 'function', '(', ')', '{', '}', ',', 'setJsPrefix', ':', 'function', '(', ')', '{', '}', ',', 'setSwfPrefix', ':', 'function', '(', ')', '{', '}', ',', 'setCssPrefix', ':', 'function', '(', ')', '{', '}', ',', 'setConfig', ':', 'function', '(', ')', '{', '}', ',', 'getAssetPrefix', ':', 'function', '(', ')', '{', '}', ',', 'getJsPrefix', ':', 'function', '(', ')', '{', '}', ',', 'getSwfPrefix', ':', 'function', '(', ')', '{', '}', ',', 'getCssPrefix', ':', 'function', '(', ')', '{', '}', ',', 'isOptimizelyEnabled', ':', 'function', '(', ')', '{', '}', '}', ',', 'survey', ':', '{', 'init', ':', 'function', '(', ')', '{', 'return', 'false', ';', '}', '}', ',', 'data', ':', '{', '}', ',', 'init', ':', 'function', '(', ')', '{', '}', ',', 'objects', ':', 'function', '(', 'str', ')', '{', 'return', 'false', ';', '}', ',', 'locale', ':', '{', 'set', ':', 'function', '(', ')', '{', '}', ',', 'get', ':', 'function', '(', ')', '{', '}', '}', ',', 'setAdKeyValue', ':', 'function', '(', ')', '{', '}', ',', 'utils', ':', '{', 'addEvent', ':', 'function', '(', ')', '{', '}', ',', 'addHtmlTagClass', ':', 'function', '(', ')', '{', '}', ',', 'log', ':', 'function', '(', ')', '{', '}', '}', ',', 'addLoadEvent', ':', 'function', '(', ')', '{', '}', '}', ';', '/*', ']', ']', '>', '*//*', '<', '!', '[', 'CDATA', '[', '*/', '(', 'function', '(', ')', '{', 'if', '(', 'typeof', 'orb', '!', '==', \"'undefined\", \"'\", '&', '&', 'typeof', 'orb.fig', '===', \"'function\", \"'\", ')', '{', 'if', '(', 'orb.fig', '(', \"'ad\", \"'\", ')', '&', '&', 'orb.fig', '(', \"'uk\", \"'\", ')', '==', '0', ')', '{', 'bbcdotcom.data', '=', '{', 'ads', ':', '(', 'orb.fig', '(', \"'ad\", \"'\", ')', '?', '1', ':', '0', ')', ',', 'stats', ':', '(', 'orb.fig', '(', \"'uk\", \"'\", ')', '==', '0', '?', '1', ':', '0', ')', ',', 'statsProvider', ':', 'orb.fig', '(', \"'ap\", \"'\", ')', '}', ';', '}', '}', 'else', '{', 'document.write', '(', \"'\", '<', 'script', 'type=', \"''\", 'text/javascript', \"''\", 'src=', \"''\", \"'+\", '(', \"'https\", ':', \"'\", '==', 'document.location.protocol', '?', \"'https\", ':', '//www.bbc.com', \"'\", ':', \"'http\", ':', '//tps.bbc.com', \"'\", ')', \"+'/wwscripts/data\", \"''\", '>', '\\\\x3C/script', '>', \"'\", ')', ';', '}', '}', ')', '(', ')', ';', '/*', ']', ']', '>', '*//*', '<', '!', '[', 'CDATA', '[', '*/', '(', 'function', '(', ')', '{', 'if', '(', 'typeof', 'orb', '===', \"'undefined\", \"'\", '||', 'typeof', 'orb.fig', '!', '==', \"'function\", \"'\", ')', '{', 'bbcdotcom.data', '=', '{', 'ads', ':', 'bbcdotcom.data.a', ',', 'stats', ':', 'bbcdotcom.data.b', ',', 'statsProvider', ':', 'bbcdotcom.data.c', '}', ';', '}', 'if', '(', 'bbcdotcom.data.ads', '==', '1', ')', '{', 'document.write', '(', \"'\", '<', 'script', 'type=', \"''\", 'text/javascript', \"''\", 'src=', \"''\", \"'+\", '(', \"'https\", ':', \"'\", '==', 'document.location.protocol', '?', \"'https\", ':', '//www.bbc.com', \"'\", ':', \"'http\", ':', '//www.bbc.com', \"'\", ')', \"+'/wwscripts/flag\", \"''\", '>', '\\\\x3C/script', '>', \"'\", ')', ';', '}', '}', ')', '(', ')', ';', '/*', ']', ']', '>', '*//*', '<', '!', '[', 'CDATA', '[', '*/', '(', 'function', '(', ')', '{', 'if', '(', 'window.bbcdotcom', '&', '&', '(', 'typeof', 'bbcdotcom.flag', '==', \"'undefined\", \"'\", '||', '(', 'typeof', 'bbcdotcom.data.ads', '!', '==', \"'undefined\", \"'\", '&', '&', 'bbcdotcom.flag.a', '!', '=', '1', ')', ')', ')', '{', 'bbcdotcom.data.ads', '=', '0', ';', '}', 'if', '(', '/', '[', '?', '|', '&', ']', 'ads/.test', '(', 'window.location.href', ')', '||', '/', '(', '^|', ';', ')', 'ads=on', ';', '/.test', '(', 'document.cookie', ')', '||', '/', ';', 'ads=on', '(', ';', '|', '$', ')', '/.test', '(', 'document.cookie', ')', ')', '{', 'bbcdotcom.data.ads', '=', '1', ';', 'bbcdotcom.data.stats', '=', '1', ';', '}', 'if', '(', 'window.bbcdotcom', '&', '&', '(', 'bbcdotcom.data.ads', '==', '1', '||', 'bbcdotcom.data.stats', '==', '1', ')', ')', '{', 'bbcdotcom.assetPrefix', '=', '``', 'https', ':', '//static.bbc.co.uk/bbcdotcom/1.85.0/', \"''\", ';', 'if', '(', '/', '(', 'sandbox|int', ')', '(', '.dev', ')', '*.bbc.co*/.test', '(', 'window.location.href', ')', '||', '/', '[', '?', '|', '&', ']', 'ads-debug/.test', '(', 'window.location.href', ')', '||', 'document.cookie.indexOf', '(', \"'ads-debug=\", \"'\", ')', '!', '==', '-1', ')', '{', 'document.write', '(', \"'\", '<', 'script', 'type=', \"''\", 'text/javascript', \"''\", 'src=', \"''\", 'https', ':', '//static.bbc.co.uk/bbcdotcom/1.85.0/script/dist/bbcdotcom.dev.js', \"''\", '>', '\\\\x3C/script', '>', \"'\", ')', ';', '}', 'else', '{', 'document.write', '(', \"'\", '<', 'script', 'type=', \"''\", 'text/javascript', \"''\", 'src=', \"''\", 'https', ':', '//static.bbc.co.uk/bbcdotcom/1.85.0/script/dist/bbcdotcom.js', \"''\", '>', '\\\\x3C/script', '>', \"'\", ')', ';', '}', '}', '}', ')', '(', ')', ';', '/*', ']', ']', '>', '*/if', '(', 'window.bbcdotcom', '&', '&', 'bbcdotcom.data.stats', '==', '1', ')', '{', 'document.write', '(', \"'\", '<', 'link', 'rel=', \"''\", 'dns-prefetch', \"''\", 'href=', \"''\", '//secure-us.imrworldwide.com/', \"''\", '>', \"'\", ')', ';', 'document.write', '(', \"'\", '<', 'link', 'rel=', \"''\", 'dns-prefetch', \"''\", 'href=', \"''\", '//me-cdn.effectivemeasure.net/', \"''\", '>', \"'\", ')', ';', 'document.write', '(', \"'\", '<', 'link', 'rel=', \"''\", 'dns-prefetch', \"''\", 'href=', \"''\", '//ssc.api.bbc.com/', \"''\", '>', \"'\", ')', ';', '}', 'if', '(', 'window.bbcdotcom', '&', '&', 'bbcdotcom.data.ads', '==', '1', ')', '{', 'document.write', '(', \"'\", '<', 'link', 'rel=', \"''\", 'dns-prefetch', \"''\", 'href=', \"''\", '//www.googletagservices.com/', \"''\", '>', \"'\", ')', ';', 'document.write', '(', \"'\", '<', 'link', 'rel=', \"''\", 'dns-prefetch', \"''\", 'href=', \"''\", '//bbc.gscontxt.net/', \"''\", '>', \"'\", ')', ';', 'document.write', '(', \"'\", '<', 'link', 'rel=', \"''\", 'dns-prefetch', \"''\", 'href=', \"''\", '//tags.crwdcntrl.net/', \"''\", '>', \"'\", ')', ';', 'document.write', '(', \"'\", '<', 'link', 'rel=', \"''\", 'dns-prefetch', \"''\", 'href=', \"''\", '//ad.crwdcntrl.net/', \"''\", '>', \"'\", ')', ';', '}', 'if', '(', 'window.bbcdotcom', '&', '&', 'bbcdotcom.data.ads', '==', '1', ')', '{', 'document.write', '(', \"'\", '<', 'meta', 'name=', \"''\", 'google-site-verification', \"''\", 'content=', \"''\", 'auTeTTwSt_KBY_4iDoR00Lwb7-qzx1IgzJy6ztaWgEI', \"''\", '/', '>', \"'\", ')', ';', '}', '/*', '<', '!', '[', 'CDATA', '[', '*/', '(', 'function', '(', ')', '{', 'if', '(', 'window.bbcdotcom', '&', '&', '(', 'bbcdotcom.data.ads', '==', '1', '||', 'bbcdotcom.data.stats', '==', '1', ')', ')', '{', 'bbcdotcomConfig', '=', '{', '``', 'adFormat', \"''\", ':', \"''\", 'standard', \"''\", ',', \"''\", 'adKeyword', \"''\", ':', \"''\", \"''\", ',', \"''\", 'adMode', \"''\", ':', \"''\", 'smart', \"''\", ',', \"''\", 'adsEnabled', \"''\", ':', 'true', ',', \"''\", 'appAnalyticsSections', \"''\", ':', \"''\", \"''\", ',', \"''\", 'asyncEnabled', \"''\", ':', 'true', ',', \"''\", 'disableInitialLoad', \"''\", ':', 'false', ',', \"''\", 'advertInfoPageUrl', \"''\", ':', \"''\", 'http', ':', '\\\\/\\\\/www.bbc.com\\\\/privacy\\\\/cookies\\\\/international\\\\/', \"''\", ',', \"''\", 'advertisementText', \"''\", ':', \"''\", 'Advertisement', \"''\", ',', \"''\", 'analyticsEnabled', \"''\", ':', 'true', ',', \"''\", 'appName', \"''\", ':', \"''\", \"''\", ',', \"''\", 'assetPrefix', \"''\", ':', \"''\", 'https', ':', '\\\\/\\\\/static.bbc.co.uk\\\\/bbcdotcom\\\\/1.85.0\\\\/', \"''\", ',', \"''\", 'customAdParams', \"''\", ':', '[', ']', ',', \"''\", 'customStatsParams', \"''\", ':', '[', ']', ',', \"''\", 'headline', \"''\", ':', \"''\", \"''\", ',', \"''\", 'id', \"''\", ':', \"''\", \"''\", ',', \"''\", 'inAssociationWithText', \"''\", ':', \"''\", 'in', 'association', 'with', \"''\", ',', \"''\", 'keywords', \"''\", ':', \"''\", \"''\", ',', \"''\", 'language', \"''\", ':', \"''\", \"''\", ',', \"''\", 'orbTransitional', \"''\", ':', 'false', ',', \"''\", 'lotameWSEnabled', \"''\", ':', 'false', ',', \"''\", 'palEnv', \"''\", ':', \"''\", 'live', \"''\", ',', \"''\", 'productName', \"''\", ':', \"''\", \"''\", ',', \"''\", 'sections', \"''\", ':', '[', ']', ',', \"''\", 'comScoreEnabled', \"''\", ':', 'true', ',', \"''\", 'comscoreSite', \"''\", ':', \"''\", 'bbc', \"''\", ',', \"''\", 'comscoreID', \"''\", ':', \"''\", '19293874', \"''\", ',', \"''\", 'comscorePageName', \"''\", ':', \"''\", \"''\", ',', \"''\", 'slots', \"''\", ':', \"''\", \"''\", ',', \"''\", 'sponsoredByText', \"''\", ':', \"''\", 'is', 'sponsored', 'by', \"''\", ',', \"''\", 'adsByGoogleText', \"''\", ':', \"''\", 'Ads', 'by', 'Google', \"''\", ',', \"''\", 'summary', \"''\", ':', \"''\", \"''\", ',', \"''\", 'type', \"''\", ':', \"''\", \"''\", ',', \"''\", 'features', \"''\", ':', '{', '``', 'testfeature', \"''\", ':', '{', '``', 'name', \"''\", ':', \"''\", 'testfeature', \"''\", ',', \"''\", 'envs', \"''\", ':', '[', '``', 'sandbox', \"''\", ',', \"''\", 'int', \"''\", ',', \"''\", 'test', \"''\", ']', ',', \"''\", 'on', \"''\", ':', 'true', ',', \"''\", 'options', \"''\", ':', '{', '}', ',', \"''\", 'override', \"''\", ':', 'null', '}', ',', \"''\", 'lxadverts', \"''\", ':', '{', '``', 'name', \"''\", ':', \"''\", 'lxadverts', \"''\", ',', \"''\", 'envs', \"''\", ':', '[', ']', ',', \"''\", 'on', \"''\", ':', 'true', ',', \"''\", 'options', \"''\", ':', '{', '}', ',', \"''\", 'override', \"''\", ':', 'null', '}', '}', ',', \"''\", 'staticBase', \"''\", ':', \"''\", '\\\\/bbcdotcom', \"''\", ',', \"''\", 'staticHost', \"''\", ':', \"''\", 'https', ':', '\\\\/\\\\/static.bbc.co.uk', \"''\", ',', \"''\", 'staticVersion', \"''\", ':', \"''\", '1.85.0', \"''\", ',', \"''\", 'staticPrefix', \"''\", ':', \"''\", 'https', ':', '\\\\/\\\\/static.bbc.co.uk\\\\/bbcdotcom\\\\/1.85.0', \"''\", ',', \"''\", 'dataHttp', \"''\", ':', \"''\", 'tps.bbc.com', \"''\", ',', \"''\", 'dataHttps', \"''\", ':', \"''\", 'www.bbc.com', \"''\", ',', \"''\", 'flagHttp', \"''\", ':', \"''\", 'www.bbc.co.uk', \"''\", ',', \"''\", 'flagHttps', \"''\", ':', \"''\", 'www.bbc.co.uk', \"''\", ',', \"''\", 'analyticsHttp', \"''\", ':', \"''\", 'sa.bbc.com', \"''\", ',', \"''\", 'analyticsHttps', \"''\", ':', \"''\", 'ssa.bbc.com', \"''\", '}', ';', 'bbcdotcom.config.init', '(', 'bbcdotcomConfig', ',', 'bbcdotcom.data', ',', 'window.location', ',', 'window.document', ')', ';', 'bbcdotcom.config.setFlagpoles', '(', 'bbcdotcom.flag', ')', ';', 'bbcdotcom.config.setAssetPrefix', '(', '``', 'https', ':', '//static.bbc.co.uk/bbcdotcom/1.85.0/', \"''\", ')', ';', 'bbcdotcom.config.setVersion', '(', '``', '1.85.0', \"''\", ')', ';', 'document.write', '(', \"'\", '<', '!', '--', '[', 'if', 'IE', '7', ']', '>', '<', 'script', 'type=', \"''\", 'text/javascript', \"''\", '>', 'bbcdotcom.config.setIE7', '(', 'true', ')', ';', '\\\\x3C/script', '>', '<', '!', '[', 'endif', ']', '--', '>', \"'\", ')', ';', 'document.write', '(', \"'\", '<', '!', '--', '[', 'if', 'IE', '8', ']', '>', '<', 'script', 'type=', \"''\", 'text/javascript', \"''\", '>', 'bbcdotcom.config.setIE8', '(', 'true', ')', ';', '\\\\x3C/script', '>', '<', '!', '[', 'endif', ']', '--', '>', \"'\", ')', ';', 'document.write', '(', \"'\", '<', '!', '--', '[', 'if', 'IE', '9', ']', '>', '<', 'script', 'type=', \"''\", 'text/javascript', \"''\", '>', 'bbcdotcom.config.setIE9', '(', 'true', ')', ';', '\\\\x3C/script', '>', '<', '!', '[', 'endif', ']', '--', '>', \"'\", ')', ';', 'if', '(', '/', '[', '?', '|', '&', ']', 'ex-dp/.test', '(', 'window.location.href', ')', '||', 'document.cookie.indexOf', '(', \"'ex-dp=\", \"'\", ')', '!', '==', '-1', ')', '{', 'bbcdotcom.utils.addHtmlTagClass', '(', \"'bbcdotcom-ex-dp\", \"'\", ')', ';', '}', '}', '}', ')', '(', ')', ';', '/*', ']', ']', '>', '*/var', 'initOptimizely', '=', '(', 'function', '(', 'isEnabled', ')', '{', 'if', '(', '!', 'isEnabled', ')', 'return', ';', 'var', 'logger', '=', 'window.bbcdotcom.Logger', '(', \"'bbcdotcom\", ':', 'head', ':', 'optimizely', \"'\", ')', ';', '/*', 'Allow', 'Optimizely', 'in', 'these', 'paths', '*/', 'var', 'allowPaths', '=', '[', \"'/\", \"'\", ',', \"'/wwhp\", \"'\", ']', ';', '/*', 'Only', 'run', 'on', 'optimizely', 'on', 'homepage', '*/', 'if', '(', 'bbcdotcom.utils', '&', '&', 'allowPaths.indexOf', '(', 'window.location.pathname', ')', '!', '==', '-1', '&', '&', 'window.bbccookies', '&', '&', 'bbccookies.readPolicy', '(', \"'performance\", \"'\", ')', ')', '{', '/*', 'set', 'correct', 'OptimizelyURL', 'for', 'prod', 'or', 'sandbox', '*/', 'var', 'optimizelyURL', '=', '``', 'https', ':', '//cdn.optimizely.com/public/4621041136/s/bbccom_sandbox.js', \"''\", ';', 'if', '(', 'window.location.hostname', '===', \"'www.bbc.com\", \"'\", ')', '{', 'optimizelyURL', '=', '``', 'https', ':', '//cdn.optimizely.com/public/4621041136/s/bbccom_prod.js', \"''\", ';', '}', '/*', 'Set', 'cookie', 'to', '1', 'year', '*/', 'window', '[', \"'optimizely\", \"'\", ']', '=', 'window', '[', \"'optimizely\", \"'\", ']', '||', '[', ']', ';', 'window', '[', \"'optimizely\", \"'\", ']', '.push', '(', '{', '``', 'type', \"''\", ':', '``', 'cookieExpiration', \"''\", ',', '``', 'cookieExpirationDays', \"''\", ':', '365', '}', ')', ';', '/*', 'Require', 'Optimizely', 'script', 'and', 'initialize', 'tests', '*/', 'require', '(', '[', \"'jquery-1\", \"'\", ',', 'optimizelyURL', ']', ',', 'function', '(', '$', ')', '{', 'var', 'optimizely', '=', 'window', '[', \"'optimizely\", \"'\", ']', ';', '/*', 'Start', 'optimizely', 'experiments', '*/', '/*', 'End', 'optimizely', 'experiments', '*/', '}', ')', ';', '}', '}', ')', '(', 'bbcdotcom.config.isOptimizelyEnabled', '(', ')', ')', ';', '/*', '<', '!', '[', 'CDATA', '[', '*/', 'if', '(', 'window.bbcdotcom', '&', '&', 'bbcdotcom.data', '&', '&', 'bbcdotcom.data.ads', '&', '&', 'bbcdotcom.data.ads', '==', '1', '&', '&', 'bbcdotcom.config', '&', '&', 'bbcdotcom.config.isGrapeshotEnabled', '&', '&', 'bbcdotcom.config.isGrapeshotEnabled', '(', ')', '&', '&', 'bbcdotcom.config.isWorldService', '&', '&', '!', 'bbcdotcom.config.isWorldService', '(', ')', ')', '{', 'var', 'gs_channels=', \"''\", 'DEFAULT', \"''\", ';', '(', 'function', '(', ')', '{', 'var', 'gsurl', '=', 'window.location.href.split', '(', '``', '?', '``', ')', '[', '0', ']', ';', 'bbcdotcomScripts.push', '(', '{', 'src', ':', \"'https\", ':', '//bbc.gscontxt.net/', '?', \"url='+encodeURIComponent\", '(', 'gsurl', ')', '}', ')', ';', '}', ')', '(', ')', ';', '}', '/*', ']', ']', '>', '*//*', '<', '!', '[', 'CDATA', '[', '*/', 'if', '(', 'window.bbcdotcom', '&', '&', 'bbcdotcom.data', '&', '&', 'bbcdotcom.data.stats', '&', '&', 'bbcdotcom.data.stats', '==', '1', '&', '&', 'bbcdotcom.config', '&', '&', 'bbcdotcom.config.isLotameEnabled', '&', '&', 'bbcdotcom.config.isLotameEnabled', '(', ')', ')', '{', '(', 'function', '(', ')', '{', 'var', 'clientId', ',', 'lotameUrl', ',', 'lotameAudienceUrl', ';', 'clientId', '=', '(', 'bbcdotcom.config.isWorldService', '&', '&', 'bbcdotcom.config.isWorldService', '(', ')', ')', '?', \"'10826\", \"'\", ':', \"'10816\", \"'\", ';', 'lotameUrl', '=', \"'//tags.crwdcntrl.net/c/'+clientId+'/cc.js\", '?', \"ns='+clientId\", ';', 'lotameAudienceUrl', '=', \"'//ad.crwdcntrl.net/5/c=10815/pe=y/var=ccauds\", \"'\", ';', 'bbcdotcomScripts.push', '(', '{', 'src', ':', 'lotameUrl', ',', 'id', ':', \"''\", 'LOTCC', \"''\", '+clientId', '}', ')', ';', 'bbcdotcomScripts.push', '(', '{', 'src', ':', 'lotameAudienceUrl', '}', ')', ';', '}', ')', '(', ')', ';', '}', '/*', ']', ']', '>', '*//*', '<', '!', '[', 'CDATA', '[', '*/', '/**', '*', 'ASYNC', 'waits', 'to', 'make', 'any', 'gpt', 'requests', 'until', 'the', 'bottom', 'of', 'the', 'page', '*/', 'if', '(', 'window.bbcdotcom', '&', '&', 'bbcdotcom.data', '&', '&', 'bbcdotcom.data.ads', '&', '&', 'bbcdotcom.data.ads', '==', '1', '&', '&', 'bbcdotcom.config', '&', '&', 'bbcdotcom.config.isAsync', '&', '&', 'bbcdotcom.config.isAsync', '(', ')', ')', '{', '(', 'function', '(', ')', '{', 'bbcdotcomScripts.push', '(', '{', 'src', ':', \"'//www.googletagservices.com/tag/js/gpt.js\", \"'\", '}', ')', ';', '}', ')', '(', ')', ';', '}', '/*', ']', ']', '>', '*//*', '<', '!', '[', 'CDATA', '[', '*/', '/*', 'Load', 'Lotame', ',', 'Grapeshot', 'and', 'GPT', 'without', 'blocking', 'rendering', 'but', 'executing', 'in', 'order', '*/', 'if', '(', 'bbcdotcomScripts', '&', '&', 'bbcdotcomScripts.length', '>', '0', ')', '{', '(', 'function', '(', ')', '{', 'bbcdotcomScripts.forEach', '(', 'function', '(', 'item', ')', '{', 'var', 'script', '=', 'document.createElement', '(', \"'script\", \"'\", ')', ';', 'script.async', '=', 'false', ';', 'if', '(', 'item.id', ')', 'script.id', '=', 'item.id', ';', 'script.src', '=', 'item.src', ';', 'document.head.appendChild', '(', 'script', ')', ';', '}', ')', ';', '}', ')', '(', ')', ';', '}', '/*', ']', ']', '>', '*//*', '<', '!', '[', 'CDATA', '[', '*/', 'if', '(', 'window.bbcdotcom', '&', '&', 'bbcdotcom.data', '&', '&', 'bbcdotcom.data.stats', '&', '&', 'bbcdotcom.data.stats', '==', '1', '&', '&', 'bbcdotcom.config', '&', '&', 'bbcdotcom.config.isLotameEnabled', '&', '&', 'bbcdotcom.config.isLotameEnabled', '(', ')', '&', '&', 'bbcdotcom.lotame', ')', '{', '(', 'function', '(', ')', '{', 'bbcdotcom.lotame.callback', '(', ')', ';', '}', ')', '(', ')', ';', '}', '/*', ']', ']', '>', '*//*', '<', '!', '[', 'CDATA', '[', '*/', '(', 'function', '(', ')', '{', 'window.bbcdotcom.head', '=', 'true', ';', '}', '(', ')', ')', ';', '/*', ']', ']', '>', '*//*', '<', '!', '[', 'CDATA', '[', '*/', 'bbcpage.loadModule', '(', '[', \"'orb/cookies\", \"'\", ']', ')', '.then', '(', 'function', '(', 'bbccookies', ')', '{', 'require', '(', '[', \"'istats-1\", \"'\", ',', \"'orb/fig\", \"'\", ']', ',', 'function', '(', 'istats', ',', 'orbFig', ')', '{', 'istats.addLabels', '(', '{', \"'bbc_mc\", \"'\", ':', 'bbccookies.analyticsPolicyString', '(', ')', '}', ')', ';', 'var', 'domesticBlqV', '=', 'istats._getLabels', '(', ')', '.blq_v', ';', 'var', 'worldwideBlqV', '=', 'istats._getLabels', '(', ')', '.blq_v', '+', \"'-ww\", \"'\", ';', 'function', 'setBlqVLabel', '(', 'fig', ')', '{', 'if', '(', 'fig.geo.isUK', '(', ')', ')', '{', 'istats.addLabels', '(', '{', \"'blq_v\", \"'\", ':', 'domesticBlqV', '}', ')', ';', '}', 'else', '{', 'istats.addLabels', '(', '{', \"'blq_v\", \"'\", ':', 'worldwideBlqV', '}', ')', ';', '}', '}', '//', 'Guess', 'with', 'synchronous', 'API', 'first', '(', 'might', 'be', 'cached', 'and', 'the', 'async', 'version', 'might', 'be', 'too', 'slow', ')', 'setBlqVLabel', '(', 'orbFig', ')', ';', 'orbFig.load', '(', 'function', '(', 'fig', ')', '{', 'setBlqVLabel', '(', 'fig', ')', ';', '}', ')', ';', '}', ')', ';', '}', ')', ';', '/*', ']', ']', '>', '*/', 'if', '(', 'document.getElementById', '(', '``', 'responsive-news', \"''\", ')', ')', '{', 'window.bbcNewsResponsive', '=', 'true', ';', '}', 'var', 'isIE', '=', '(', 'function', '(', ')', '{', 'var', 'undef', ',', 'v', '=', '3', ',', 'div', '=', 'document.createElement', '(', \"'div\", \"'\", ')', ',', 'all', '=', 'div.getElementsByTagName', '(', \"'i\", \"'\", ')', ';', 'while', '(', 'div.innerHTML', '=', \"'\", '<', '!', '--', '[', 'if', 'gt', 'IE', \"'\", '+', '(', '++v', ')', '+', \"'\", ']', '>', '<', 'i', '>', '<', '/i', '>', '<', '!', '[', 'endif', ']', '--', '>', \"'\", ',', 'all', '[', '0', ']', ')', ';', 'return', 'v', '>', '4', '?', 'v', ':', 'undef', ';', '}', '(', ')', ')', ';', 'var', 'modernDevice', '=', \"'querySelector\", \"'\", 'in', 'document', '&', '&', \"'localStorage\", \"'\", 'in', 'window', '&', '&', \"'addEventListener\", \"'\", 'in', 'window', ',', 'forceCore', '=', 'document.cookie.indexOf', '(', \"'ckps_force_core\", \"'\", ')', '!', '==', '-1', ';', 'window.cutsTheMustard', '=', 'modernDevice', '&', '&', '!', 'forceCore', ';', 'if', '(', 'window.cutsTheMustard', ')', '{', 'document.documentElement.className', '+=', \"'\", 'ctm', \"'\", ';', 'var', 'insertPoint', '=', 'document.getElementById', '(', \"'news-loader\", \"'\", ')', ',', 'config', '=', '{', '``', 'asset', \"''\", ':', '{', '``', 'asset_id', \"''\", ':', \"''\", '45069935', \"''\", ',', \"''\", 'asset_locator', \"''\", ':', \"''\", 'urn', ':', 'bbc', ':', 'cps', ':', 'asset:45069935', \"''\", ',', \"''\", 'asset_uri', \"''\", ':', \"''\", '\\\\/news\\\\/world-asia-45069935', \"''\", ',', \"''\", 'original_asset_uri', \"''\", ':', 'null', ',', \"''\", 'first_created', \"''\", ':', '{', '``', 'date', \"''\", ':', \"''\", '2018-08-04', '15:55:42', \"''\", ',', \"''\", 'timezone_type', \"''\", ':3', ',', \"''\", 'timezone', \"''\", ':', \"''\", 'Europe\\\\/London', \"''\", '}', ',', \"''\", 'first_published', \"''\", ':', '{', '``', 'date', \"''\", ':', \"''\", '2018-08-04', '16:20:04', \"''\", ',', \"''\", 'timezone_type', \"''\", ':3', ',', \"''\", 'timezone', \"''\", ':', \"''\", 'Europe\\\\/London', \"''\", '}', ',', \"''\", 'last_updated', \"''\", ':', '{', '``', 'date', \"''\", ':', \"''\", '2018-08-04', '19:14:08', \"''\", ',', \"''\", 'timezone_type', \"''\", ':3', ',', \"''\", 'timezone', \"''\", ':', \"''\", 'Europe\\\\/London', \"''\", '}', ',', \"''\", 'options', \"''\", ':', '{', '``', 'allowRightHandSide', \"''\", ':', 'true', ',', \"''\", 'allowRelatedStoriesBox', \"''\", ':', 'true', ',', \"''\", 'includeComments', \"''\", ':', 'false', ',', \"''\", 'isIgorSeoTagsEnabled', \"''\", ':', 'false', ',', \"''\", 'hasNewsTracker', \"''\", ':', 'false', ',', \"''\", 'isFactCheck', \"''\", ':', 'false', ',', \"''\", 'allowAdvertising', \"''\", ':', 'true', ',', \"''\", 'hasContentWarning', \"''\", ':', 'false', ',', \"''\", 'allowDateStamp', \"''\", ':', 'true', ',', \"''\", 'allowHeadline', \"''\", ':', 'true', ',', \"''\", 'isKeyContent', \"''\", ':', 'false', ',', \"''\", 'allowPrintingSharingLinks', \"''\", ':', 'true', ',', \"''\", 'isBreakingNews', \"''\", ':', 'false', ',', \"''\", 'suitableForSyndication', \"''\", ':', 'true', '}', ',', \"''\", 'section', \"''\", ':', '{', '``', 'name', \"''\", ':', \"''\", 'Asia', \"''\", ',', \"''\", 'id', \"''\", ':', \"''\", '101360', \"''\", ',', \"''\", 'uri', \"''\", ':', \"''\", '\\\\/news\\\\/world\\\\/asia', \"''\", ',', \"''\", 'urlIdentifier', \"''\", ':', \"''\", '\\\\/news\\\\/world\\\\/asia', \"''\", '}', ',', \"''\", 'language', \"''\", ':', \"''\", 'en-gb', \"''\", ',', \"''\", 'edition', \"''\", ':', \"''\", 'Domestic', \"''\", ',', \"''\", 'audience', \"''\", ':', 'null', ',', \"''\", 'iStats_counter_name', \"''\", ':', \"''\", 'news.world.asia.story.45069935.page', \"''\", ',', \"''\", 'type', \"''\", ':', \"''\", 'STY', \"''\", ',', \"''\", 'curie', \"''\", ':', \"''\", 'asset:71adf2ae-7703-be4c-bdc8-bd83d26bfa95', \"''\", ',', \"''\", 'length', \"''\", ':2547', ',', \"''\", 'byline', \"''\", ':', '{', '}', ',', \"''\", 'headline', \"''\", ':', \"''\", 'Bangladesh', 'students', 'attacked', 'during', 'Dhaka', 'protest', \"''\", ',', \"''\", 'mediaType', \"''\", ':', 'null', ',', \"''\", 'topicTags', \"''\", ':', 'null', '}', ',', \"''\", 'smpBrand', \"''\", ':', 'null', ',', \"''\", 'staticHost', \"''\", ':', \"''\", 'https', ':', '\\\\/\\\\/static.bbc.co.uk', \"''\", ',', \"''\", 'environment', \"''\", ':', \"''\", 'live', \"''\", ',', \"''\", 'locatorVersion', \"''\", ':', \"''\", '0.46.3', \"''\", ',', \"''\", 'pathPrefix', \"''\", ':', \"''\", '\\\\/news', \"''\", ',', \"''\", 'staticPrefix', \"''\", ':', \"''\", 'https', ':', '\\\\/\\\\/static.bbc.co.uk\\\\/news\\\\/1.250.02825', \"''\", ',', \"''\", 'jsPath', \"''\", ':', \"''\", 'https', ':', '\\\\/\\\\/static.bbc.co.uk\\\\/news\\\\/1.250.02825\\\\/js', \"''\", ',', \"''\", 'cssPath', \"''\", ':', \"''\", 'https', ':', '\\\\/\\\\/static.bbc.co.uk\\\\/news\\\\/1.250.02825\\\\/stylesheets\\\\/services\\\\/news', \"''\", ',', \"''\", 'cssPostfix', \"''\", ':', \"''\", \"''\", ',', \"''\", 'dynamic', \"''\", ':', 'null', ',', \"''\", 'features', \"''\", ':', '{', '``', 'localnews', \"''\", ':', 'true', ',', \"''\", 'video', \"''\", ':', 'true', ',', \"''\", 'liveeventcomponent', \"''\", ':', 'true', ',', \"''\", 'mediaassetpage', \"''\", ':', 'true', ',', \"''\", 'gallery', \"''\", ':', 'true', ',', \"''\", 'rollingnews', \"''\", ':', 'true', ',', \"''\", 'sportstories', \"''\", ':', 'true', ',', \"''\", 'radiopromo', \"''\", ':', 'true', ',', \"''\", 'fromothernewssites', \"''\", ':', 'true', ',', \"''\", 'locallive', \"''\", ':', 'true', ',', \"''\", 'weather', \"''\", ':', 'true', '}', ',', \"''\", 'features2', \"''\", ':', '{', '``', 'svg_brand', \"''\", ':', 'true', ',', \"''\", 'waf_deprecation_notice', \"''\", ':', 'true', ',', \"''\", 'chartbeat', \"''\", ':', 'true', ',', \"''\", 'connected_stream', \"''\", ':', 'true', ',', \"''\", 'connected_stream_promo', \"''\", ':', 'true', ',', \"''\", 'dynatrace_beacon', \"''\", ':', 'true', ',', \"''\", 'nav', \"''\", ':', 'true', ',', \"''\", 'pulse_survey', \"''\", ':', 'false', ',', \"''\", 'local_survey', \"''\", ':', 'true', ',', \"''\", 'correspondents', \"''\", ':', 'true', ',', \"''\", 'blogs', \"''\", ':', 'true', ',', \"''\", 'open_graph', \"''\", ':', 'true', ',', \"''\", 'follow_us', \"''\", ':', 'true', ',', \"''\", 'marketdata_markets', \"''\", ':', 'true', ',', \"''\", 'marketdata_shares', \"''\", ':', 'true', ',', \"''\", 'nations_pseudo_nav', \"''\", ':', 'true', ',', \"''\", 'politics_election2015_topic_pages', \"''\", ':', 'true', ',', \"''\", 'responsive_breaking_news', \"''\", ':', 'true', ',', \"''\", 'live_event', \"''\", ':', 'true', ',', \"''\", 'most_popular', \"''\", ':', 'true', ',', \"''\", 'most_popular_tabs', \"''\", ':', 'true', ',', \"''\", 'most_popular_by_day', \"''\", ':', 'false', ',', \"''\", 'routing', \"''\", ':', 'true', ',', \"''\", 'radiopromonownext', \"''\", ':', 'true', ',', \"''\", 'config_based_layout', \"''\", ':', 'true', ',', \"''\", 'orbit', \"''\", ':', 'true', ',', \"''\", 'map_most_watched', \"''\", ':', 'true', ',', \"''\", 'top_stories_promo', \"''\", ':', 'true', ',', \"''\", 'features_and_analysis', \"''\", ':', 'true', ',', \"''\", 'section_labels', \"''\", ':', 'true', ',', \"''\", 'index_title', \"''\", ':', 'true', ',', \"''\", 'share_tools', \"''\", ':', 'true', ',', \"''\", 'extracted_share_tools', \"''\", ':', 'true', ',', \"''\", 'local_live_promo', \"''\", ':', 'true', ',', \"''\", 'adverts', \"''\", ':', 'true', ',', \"''\", 'adverts_async', \"''\", ':', 'true', ',', \"''\", 'adexpert', \"''\", ':', 'true', ',', \"''\", 'igor_geo_redirect', \"''\", ':', 'true', ',', \"''\", 'igor_device_redirect', \"''\", ':', 'true', ',', \"''\", 'live', \"''\", ':', 'true', ',', \"''\", 'comscore_mmx', \"''\", ':', 'true', ',', \"''\", 'find_local_news', \"''\", ':', 'true', ',', \"''\", 'comments', \"''\", ':', 'true', ',', \"''\", 'comments_enhanced', \"''\", ':', 'true', ',', \"''\", 'browser_notify', \"''\", ':', 'true', ',', \"''\", 'stream_grid_promo', \"''\", ':', 'true', ',', \"''\", 'breaking_news', \"''\", ':', 'false', ',', \"''\", 'top_stories_max_volume', \"''\", ':', 'true', ',', \"''\", 'contact_form', \"''\", ':', 'true', ',', \"''\", 'channel_page', \"''\", ':', 'true', ',', \"''\", 'portlet_global_variants', \"''\", ':', 'true', ',', \"''\", 'suppress_lep_timezone', \"''\", ':', 'true', ',', \"''\", 'story_sticky_player', \"''\", ':', 'true', ',', \"''\", 'story_end_slate', \"''\", ':', 'true', ',', \"''\", 'story_smp_preview', \"''\", ':', 'true', ',', \"''\", 'embed_player_pid', \"''\", ':', 'true', ',', \"''\", 'cedexis', \"''\", ':', 'true', ',', \"''\", 'mpulse', \"''\", ':', 'true', ',', \"''\", 'story_single_column_layout', \"''\", ':', 'true', ',', \"''\", 'story_image_copyright_labels', \"''\", ':', 'true', ',', \"''\", 'ovp_resolve_primary_media_vpids', \"''\", ':', 'false', ',', \"''\", 'media_player', \"''\", ':', 'true', ',', \"''\", 'services_bar', \"''\", ':', 'true', ',', \"''\", 'live_v2_stream', \"''\", ':', 'true', ',', \"''\", 'ldp_tag_augmentation', \"''\", ':', 'true', ',', \"''\", 'map_related_topic_tags', \"''\", ':', 'true', ',', \"''\", 'olympics_tables', \"''\", ':', 'true', ',', \"''\", 'embedephant-social-embeds', \"''\", ':', 'true', ',', \"''\", 'interactive-social-embeds', \"''\", ':', 'true', ',', \"''\", 'social-embeds', \"''\", ':', 'true', ',', \"''\", 'amp_link', \"''\", ':', 'true', ',', \"''\", 'https_redirect', \"''\", ':', 'true', ',', \"''\", 'preload_fig', \"''\", ':', 'true', ',', \"''\", 'preconnect_oftused_domains', \"''\", ':', 'true', '}', ',', \"''\", 'configuration', \"''\", ':', '{', '``', 'showtimestamp', \"''\", ':', \"''\", '1', \"''\", ',', \"''\", 'showweather', \"''\", ':', \"''\", '1', \"''\", ',', \"''\", 'showsport', \"''\", ':', \"''\", '1', \"''\", ',', \"''\", 'showolympics', \"''\", ':', \"''\", '1', \"''\", ',', \"''\", 'showfeaturemain', \"''\", ':', \"''\", '1', \"''\", ',', \"''\", 'candyplatform', \"''\", ':', \"''\", 'EnhancedMobile', \"''\", ',', \"''\", 'showwatchlisten', \"''\", ':', \"''\", '1', \"''\", ',', \"''\", 'showspecialreports', \"''\", ':', \"''\", \"''\", ',', \"''\", 'videotopiccandyid', \"''\", ':', \"''\", \"''\", ',', \"''\", 'showvideofeedsections', \"''\", ':', \"''\", '1', \"''\", ',', \"''\", 'showstorytopstories', \"''\", ':', \"''\", \"''\", ',', \"''\", 'showstoryfeaturesandanalysis', \"''\", ':', \"''\", '1', \"''\", ',', \"''\", 'showstorymostpopular', \"''\", ':', \"''\", \"''\", ',', \"''\", 'showgallery', \"''\", ':', \"''\", '1', \"''\", ',', \"''\", 'cms', \"''\", ':', \"''\", 'cps', \"''\", ',', \"''\", 'channelpagecandyid', \"''\", ':', \"''\", '10318089', \"''\", '}', ',', \"''\", 'pollingHost', \"''\", ':', \"''\", 'https', ':', '\\\\/\\\\/polling.bbc.co.uk', \"''\", ',', \"''\", 'service', \"''\", ':', \"''\", 'news', \"''\", ',', \"''\", 'locale', \"''\", ':', \"''\", 'en-GB', \"''\", ',', \"''\", 'locatorHost', \"''\", ':', 'null', ',', \"''\", 'locatorFlagPole', \"''\", ':', 'true', ',', \"''\", 'local', \"''\", ':', '{', '``', 'allowLocationLookup', \"''\", ':', 'true', '}', ',', \"''\", 'isWorldService', \"''\", ':', 'false', ',', \"''\", 'isChannelPage', \"''\", ':', 'false', ',', \"''\", 'languageVariant', \"''\", ':', \"''\", \"''\", ',', \"''\", 'commentsHost', \"''\", ':', \"''\", 'https', ':', '\\\\/\\\\/www.bbc.co.uk', \"''\", ',', \"''\", 'search', \"''\", ':', 'null', ',', \"''\", 'comscoreAnalytics', \"''\", ':', 'null', '}', ';', 'config.configuration', '[', \"'get\", \"'\", ']', '=', 'function', '(', 'key', ')', '{', 'return', 'this', '[', 'key.toLowerCase', '(', ')', ']', ';', '}', ';', 'var', 'bootstrapUI=function', '(', ')', '{', 'var', 'e=function', '(', ')', '{', 'if', '(', 'navigator.userAgent.match', '(', '/', '(', 'Android', '(', '2.0|2.1', ')', ')', '|', '(', 'Nokia', ')', '|', '(', 'OSRE\\\\/', ')', '|', '(', 'Opera', '(', 'Mini|Mobi', ')', ')', '|', '(', 'w', '(', 'eb', ')', '?', 'OSBrowser', ')', '|', '(', 'UCWEB', ')', '|', '(', 'Windows', 'Phone', ')', '|', '(', 'XBLWP', ')', '|', '(', 'ZuneWP', ')', '/', ')', ')', 'return', '!', '1', ';', 'if', '(', 'navigator.userAgent.match', '(', '/MSIE', '10.0/', ')', ')', 'return', '!', '0', ';', 'var', 'e', ',', 't=document', ',', 'n=t.head||t.getElementsByTagName', '(', '``', 'head', \"''\", ')', '[', '0', ']', ',', 'r=t.createElement', '(', '``', 'style', \"''\", ')', ',', 's=t.implementation||', '{', 'hasFeature', ':', 'function', '(', ')', '{', 'return', '!', '1', '}', '}', ';', 'r.type=', \"''\", 'text/css', \"''\", ',', 'n.insertBefore', '(', 'r', ',', 'n.firstChild', ')', ',', 'e=r.sheet||r.styleSheet', ';', 'var', 'i=s.hasFeature', '(', '``', 'CSS2', \"''\", ',', \"''\", \"''\", ')', '?', 'function', '(', 't', ')', '{', 'if', '(', '!', 'e||', '!', 't', ')', 'return', '!', '1', ';', 'var', 'n=', '!', '1', ';', 'try', '{', 'e.insertRule', '(', 't,0', ')', ',', 'n=', '!', '/unknown/i.test', '(', 'e.cssRules', '[', '0', ']', '.cssText', ')', ',', 'e.deleteRule', '(', 'e.cssRules.length-1', ')', '}', 'catch', '(', 'r', ')', '{', '}', 'return', 'n', '}', ':', 'function', '(', 't', ')', '{', 'return', 'e', '&', '&', 't', '?', '(', 'e.cssText=t,0', '!', '==e.cssText.length', '&', '&', '!', '/unknown/i.test', '(', 'e.cssText', ')', '&', '&', '0===e.cssText.replace', '(', '/\\\\r+|\\\\n+/g', ',', \"''\", \"''\", ')', '.indexOf', '(', 't.split', '(', '``', '``', ')', '[', '0', ']', ')', ')', ':', '!', '1', '}', ';', 'return', 'i', '(', \"'\", '@', 'font-face', '{', 'font-family', ':', \"''\", 'font', \"''\", ';', 'src', ':', \"''\", 'font.ttf', \"''\", ';', '}', \"'\", ')', '}', '(', ')', ';', 'e', '&', '&', '(', 'document.getElementsByTagName', '(', '``', 'html', \"''\", ')', '[', '0', ']', '.className+=', \"''\", 'ff', \"''\", ')', ',', 'function', '(', ')', '{', 'var', 'e=document.documentElement.style', ';', '(', '``', 'flexBasis', \"''\", 'in', 'e||', \"''\", 'WebkitFlexBasis', \"''\", 'in', 'e||', \"''\", 'msFlexBasis', \"''\", 'in', 'e', ')', '&', '&', '(', 'document.documentElement.className+=', \"''\", 'flex', \"''\", ')', '}', '(', ')', ';', 'var', 't', ',', 'n', ',', 'r', ',', 's', ',', 'i', ',', 'a=', '{', '}', ',', 'o=function', '(', ')', '{', 'var', 'e=document.documentElement.clientWidth', ',', 'n=window.innerWidth', ',', 'r=n', '>', '1.5*e', ';', 't=r', '?', 'e', ':', 'n', '}', ',', 'u=function', '(', 'e', ')', '{', 'var', 't=document.createElement', '(', '``', 'link', \"''\", ')', ';', 't.setAttribute', '(', '``', 'rel', \"''\", ',', \"''\", 'stylesheet', \"''\", ')', ',', 't.setAttribute', '(', '``', 'type', \"''\", ',', \"''\", 'text/css', \"''\", ')', ',', 't.setAttribute', '(', '``', 'href', \"''\", ',', 'n+e+r+', \"''\", '.css', \"''\", ')', ',', 't.setAttribute', '(', '``', 'media', \"''\", ',', 'i', '[', 'e', ']', ')', ',', 's.parentNode.insertBefore', '(', 't', ',', 's', ')', ',', 'delete', 'i', '[', 'e', ']', '}', ',', 'c=function', '(', 'e', ',', 'n', ',', 'r', ')', '{', 'n', '&', '&', '!', 'r', '&', '&', 't', '>', '=n', '&', '&', 'u', '(', 'e', ')', ',', 'r', '&', '&', '!', 'n', '&', '&', 'r', '>', '=t', '&', '&', 'u', '(', 'e', ')', ',', 'n', '&', '&', 'r', '&', '&', 't', '>', '=n', '&', '&', 'r', '>', '=t', '&', '&', 'u', '(', 'e', ')', '}', ',', 'l=function', '(', 'e', ')', '{', 'if', '(', 'a', '[', 'e', ']', ')', 'return', 'a', '[', 'e', ']', ';', 'var', 't=e.match', '(', '/\\\\', '(', 'min\\\\-width', ':', '[', '\\\\s', ']', '*', '(', '[', '\\\\s', ']', '*', '[', '0-9\\\\.', ']', '+', ')', '(', 'px|em', ')', '[', '\\\\s', ']', '*\\\\', ')', '/', ')', ',', 'n=e.match', '(', '/\\\\', '(', 'max\\\\-width', ':', '[', '\\\\s', ']', '*', '(', '[', '\\\\s', ']', '*', '[', '0-9\\\\', '.', ']', '+', ')', '(', 'px|em', ')', '[', '\\\\s', ']', '*\\\\', ')', '/', ')', ',', 'r=t', '&', '&', 'parseFloat', '(', 't', '[', '1', ']', ')', '||null', ',', 's=n', '&', '&', 'parseFloat', '(', 'n', '[', '1', ']', ')', '||null', ';', 'return', 'a', '[', 'e', ']', '=', '[', 'r', ',', 's', ']', ',', 'a', '[', 'e', ']', '}', ',', 'f=function', '(', ')', '{', 'var', 'e=0', ';', 'for', '(', 'var', 't', 'in', 'i', ')', 'e++', ';', 'return', 'e', '}', ',', 'm=function', '(', ')', '{', 'f', '(', ')', '||window.removeEventListener', '(', '``', 'resize', \"''\", ',', 'd', ',', '!', '1', ')', ';', 'for', '(', 'var', 'e', 'in', 'i', ')', '{', 'var', 't=i', '[', 'e', ']', ',', 'n=l', '(', 't', ')', ';', 'c', '(', 'e', ',', 'n', '[', '0', ']', ',', 'n', '[', '1', ']', ')', '}', '}', ',', 'd=function', '(', ')', '{', 'o', '(', ')', ',', 'm', '(', ')', '}', ',', 'h=function', '(', 'e', ',', 't', ')', '{', 'i=e', ',', 'n=t.path+', '(', '``', '/', \"''\", '!', '==t.path.substr', '(', '-1', ')', '?', '``', '/', \"''\", ':', \"''\", \"''\", ')', ',', 'r=t.postfix', ',', 's=t.insertBefore', ',', 'o', '(', ')', ',', 'm', '(', ')', ',', 'window.addEventListener', '(', '``', 'resize', \"''\", ',', 'd', ',', '!', '1', ')', '}', ';', 'return', '{', 'stylesheetLoaderInit', ':', 'h', '}', '}', '(', ')', ';', 'var', 'stylesheets', '=', '{', '``', 'compact', \"''\", ':', \"''\", '(', 'max-width', ':', '599px', ')', \"''\", ',', \"''\", 'tablet', \"''\", ':', \"''\", '(', 'min-width', ':', '600px', ')', 'and', '(', 'max-width', ':', '1007px', ')', \"''\", ',', \"''\", 'wide', \"''\", ':', \"''\", '(', 'min-width', ':', '1008px', ')', \"''\", '}', ';', 'bootstrapUI.stylesheetLoaderInit', '(', 'stylesheets', ',', '{', 'path', ':', \"'https\", ':', '//static.bbc.co.uk/news/1.250.02825/stylesheets/services/news', \"'\", ',', 'postfix', ':', '``', ',', 'insertBefore', ':', 'insertPoint', '}', ')', ';', 'var', 'loadRequire', '=', 'function', '(', ')', '{', 'var', 'js_paths', '=', '{', '``', 'jquery-1.9', \"''\", ':', \"''\", 'vendor\\\\/jquery-1\\\\/jquery', \"''\", ',', \"''\", 'jquery-1', \"''\", ':', \"''\", 'https', ':', '\\\\/\\\\/static.bbc.co.uk\\\\/frameworks\\\\/jquery\\\\/0.4.1\\\\/sharedmodules\\\\/jquery-1.7.2', \"''\", ',', \"''\", 'demi-1', \"''\", ':', \"''\", 'https', ':', '\\\\/\\\\/static.bbc.co.uk\\\\/frameworks\\\\/demi\\\\/0.10.1\\\\/sharedmodules\\\\/demi-1', \"''\", ',', \"''\", 'swfobject-2', \"''\", ':', \"''\", 'https', ':', '\\\\/\\\\/static.bbc.co.uk\\\\/frameworks\\\\/swfobject\\\\/0.1.10\\\\/sharedmodules\\\\/swfobject-2', \"''\", ',', \"''\", 'jquery', \"''\", ':', \"''\", 'vendor\\\\/jquery-2\\\\/jquery.min', \"''\", ',', \"''\", 'domReady', \"''\", ':', \"''\", 'vendor\\\\/require\\\\/domReady', \"''\", ',', \"''\", 'translation', \"''\", ':', \"''\", 'module\\\\/translations\\\\/en-GB', \"''\", ',', \"''\", 'bump-3', \"''\", ':', \"''\", '\\\\/\\\\/emp.bbci.co.uk\\\\/emp\\\\/bump-3\\\\/bump-3', \"''\", '}', ';', 'js_paths.navigation', '=', \"'module/nav/navManager\", \"'\", ';', 'require.config', '(', '{', 'baseUrl', ':', \"'https\", ':', '//static.bbc.co.uk/news/1.250.02825/js', \"'\", ',', 'map', ':', '{', \"'vendor/locator\", \"'\", ':', '{', \"'module/bootstrap\", \"'\", ':', \"'vendor/locator/bootstrap\", \"'\", ',', \"'locator/stats\", \"'\", ':', \"'vendor/locator/stats\", \"'\", ',', \"'locator/locatorView\", \"'\", ':', \"'vendor/locator/locatorView\", \"'\", '}', '}', ',', 'paths', ':', 'js_paths', ',', 'waitSeconds', ':', '30', '}', ')', ';', 'define', '(', \"'config\", \"'\", ',', 'function', '(', ')', '{', 'return', 'config', ';', '}', ')', ';', 'require', '(', '[', '``', 'compiled\\\\/all', \"''\", ']', ',', 'function', '(', ')', '{', 'require', '(', '[', \"'domReady\", \"'\", ']', ',', 'function', '(', 'domReady', ')', '{', 'domReady', '(', 'function', '(', ')', '{', 'require', '(', '[', '``', 'module\\\\/dotcom\\\\/handlerAdapter', \"''\", ',', \"''\", 'module\\\\/stats\\\\/statsSubscriberAdapter', \"''\", ',', \"''\", 'module\\\\/alternativeJsStrategy\\\\/controller', \"''\", ',', \"''\", 'module\\\\/iconLoaderAdapter', \"''\", ',', \"''\", 'module\\\\/polyfill\\\\/location.origin', \"''\", ',', \"''\", 'module\\\\/components\\\\/breakingNewsAdapter', \"''\", ',', \"''\", 'module\\\\/indexTitleAdaptor', \"''\", ',', \"''\", 'module\\\\/navigation\\\\/handlerAdaptor', \"''\", ',', \"''\", 'module\\\\/noTouchDetectionForCss', \"''\", ',', \"''\", 'module\\\\/components\\\\/stickyPlayer\\\\/mainAdapter', \"''\", ',', \"''\", 'module\\\\/components\\\\/responsiveImage', \"''\", ',', \"''\", 'module\\\\/components\\\\/timestampAdaptor', \"''\", ',', \"''\", 'module\\\\/components\\\\/twiteAdapter', \"''\", ',', \"''\", 'module\\\\/tableScrollAdapter', \"''\", ',', \"''\", 'module\\\\/userScrollAdapter', \"''\", ',', \"''\", 'module\\\\/components\\\\/mediaPlayer\\\\/mainAdapter', \"''\", ',', \"''\", 'module\\\\/endSlateAdaptor', \"''\", ',', \"''\", 'module\\\\/components\\\\/fauxBlockLink', \"''\", ']', ',', 'function', '(', ')', '{', 'require', '(', '[', '``', 'module\\\\/strategiserAdaptor', \"''\", ']', ')', ';', '}', ')', ';', '}', ')', ';', '}', ')', ';', '}', ')', ';', '}', ';', 'loadRequire', '(', ')', ';', '}', 'else', '{', 'var', 'l', '=', 'document.createElement', '(', \"'link\", \"'\", ')', ';', 'l.href', '=', \"'https\", ':', '//static.bbc.co.uk/news/1.250.02825/icons/generated/icons.fallback.css', \"'\", ';', 'l.rel', '=', \"'stylesheet\", \"'\", ';', 'document.getElementsByTagName', '(', \"'head\", \"'\", ')', '[', '0', ']', '.appendChild', '(', 'l', ')', ';', '}', '/*', '<', '!', '[', 'CDATA', '[', '*/', 'bbcdotcom.init', '(', '{', 'adsToDisplay', ':', '[', \"'leaderboard\", \"'\", ',', \"'sponsor_section\", \"'\", ',', \"'mpu\", \"'\", ',', \"'infeed_news_story\", \"'\", ',', \"'outbrain_ar_5\", \"'\", ',', \"'outbrain_ar_7\", \"'\", ',', \"'outbrain_ar_8\", \"'\", ',', \"'outbrain_ar_9\", \"'\", ',', \"'native\", \"'\", ',', \"'mpu_bottom\", \"'\", ',', \"'adsense\", \"'\", ',', \"'inread\", \"'\", ']', ',', 'asyncEnabled', ':', 'true', '}', ')', ';', '/*', ']', ']', '>', '*/', '/*', '<', '!', '[', 'CDATA', '[', '*/', '(', 'function', '(', ')', '{', 'if', '(', 'window.bbcdotcom', '&', '&', 'bbcdotcom.config.isActive', '(', \"'ads\", \"'\", ')', ')', '{', 'googletag.cmd.push', '(', 'function', '(', ')', '{', 'googletag.display', '(', \"'bbccom_interstitial\", \"'\", ')', ';', '}', ')', ';', '}', '}', '(', ')', ')', ';', '/*', ']', ']', '>', '*//*', '<', '!', '[', 'CDATA', '[', '*/', '(', 'function', '(', ')', '{', 'var', 'wallpaper', ';', 'if', '(', 'window.bbcdotcom', '&', '&', 'bbcdotcom.config.isActive', '(', \"'ads\", \"'\", ')', ')', '{', 'if', '(', 'bbcdotcom.config.isAsync', '(', ')', ')', '{', 'googletag.cmd.push', '(', 'function', '(', ')', '{', 'googletag.display', '(', \"'bbccom_wallpaper\", \"'\", ')', ';', '}', ')', ';', '}', 'else', 'if', '(', 'typeof', 'googletag', '!', '==', '``', 'undefined', \"''\", '&', '&', 'typeof', 'googletag.display', '===', '``', 'function', \"''\", ')', '{', 'googletag.display', '(', '``', 'wallpaper', \"''\", ')', ';', '}', 'wallpaper', '=', 'bbcdotcom.adverts.adRegister.getAd', '(', \"'wallpaper\", \"'\", ')', ';', '}', '}', '(', ')', ')', ';', '/*', ']', ']', '>', '*//*', '<', '!', '[', 'CDATA', '[', '*/', '(', 'function', '(', ')', '{', 'if', '(', 'window.bbcdotcom', '&', '&', 'bbcdotcom.config.isActive', '(', \"'ads\", \"'\", ')', ')', '{', 'document.write', '(', 'unescape', '(', \"'\", '%', '3Cscript', 'id=', \"''\", 'gnlAdsEnabled', \"''\", 'class=', \"''\", 'bbccom_display_none', \"''\", '%', '3E', '%', '3C/script', '%', '3E', \"'\", ')', ')', ';', '}', 'if', '(', 'window.bbcdotcom', '&', '&', 'bbcdotcom.config.isActive', '(', \"'analytics\", \"'\", ')', ')', '{', 'document.write', '(', 'unescape', '(', \"'\", '%', '3Cscript', 'id=', \"''\", 'gnlAnalyticsEnabled', \"''\", 'class=', \"''\", 'bbccom_display_none', \"''\", '%', '3E', '%', '3C/script', '%', '3E', \"'\", ')', ')', ';', '}', '}', '(', ')', ')', ';', '/*', ']', ']', '>', '*//*', '<', '!', '[', 'CDATA', '[', '*/', '(', 'function', '(', ')', '{', 'window.bbcdotcom.bodyFirst', '=', 'true', ';', '}', '(', ')', ')', ';', '/*', ']', ']', '>', '*/HomepageAccessibility', 'linksSkip', 'to', 'contentAccessibility', 'HelpBBC', 'iDrequire', '(', '[', \"'idcta/statusbar\", \"'\", ']', ',', 'function', '(', 'statusbar', ')', '{', 'new', 'statusbar.Statusbar', '(', '{', '``', 'id', \"''\", ':', \"''\", 'idcta-statusbar', \"''\", ',', \"''\", 'publiclyCacheable', \"''\", ':', 'true', '}', ')', ';', '}', ')', ';', 'NotificationsHomeNewsSportWeatheriPlayerTVRadioCBBCCBeebiesFoodBitesizeMusicEarthArtsMake', 'It', 'DigitalTasterLocalTomorrow', \"'s\", 'WorldMenuSearchSearch', 'the', 'BBCSearch', 'the', 'BBC', 'News', 'BBC', 'News', 'Navigation', 'Sections', 'Home', 'UK', 'World', 'selected', 'Business', 'Politics', 'Tech', 'Science', 'Health', 'Family', '&', 'Education', 'Entertainment', '&', 'Arts', 'Stories', 'Video', '&', 'Audio', 'In', 'Pictures', 'Newsbeat', 'Reality', 'Check', 'Special', 'Reports', 'Explainers', 'The', 'Reporters', 'Have', 'Your', 'Say', 'Disability', 'Asia', 'selected', 'China', 'India', '/*', '<', '!', '[', 'CDATA', '[', '*/', '(', 'function', '(', ')', '{', 'if', '(', 'window.bbcdotcom', '&', '&', 'bbcdotcom.adverts', '&', '&', 'bbcdotcom.adverts.slotAsync', ')', '{', 'bbcdotcom.adverts.slotAsync', '(', \"'leaderboard\", \"'\", ',', '[', '1,2,3,4', ']', ')', ';', '}', '}', ')', '(', ')', ';', '/*', ']', ']', '>', '*/', 'Asia', '/*', '<', '!', '[', 'CDATA', '[', '*/', '(', 'function', '(', ')', '{', 'if', '(', 'window.bbcdotcom', '&', '&', 'bbcdotcom.adverts', '&', '&', 'bbcdotcom.adverts.slotAsync', ')', '{', 'bbcdotcom.adverts.slotAsync', '(', \"'sponsor_section\", \"'\", ',', '[', '1,2,3,4', ']', ')', ';', '}', '}', ')', '(', ')', ';', '/*', ']', ']', '>', '*/', 'Asia', '/*', '<', '!', '[', 'CDATA', '[', '*/', '(', 'function', '(', ')', '{', 'if', '(', 'window.bbcdotcom', '&', '&', 'bbcdotcom.adverts', '&', '&', 'bbcdotcom.adverts.slotAsync', ')', '{', 'bbcdotcom.adverts.slotAsync', '(', \"'sponsor_section\", \"'\", ',', '[', '1,2,3,4', ']', ')', ';', '}', '}', ')', '(', ')', ';', '/*', ']', ']', '>', '*/', 'Bangladesh', 'students', 'attacked', 'during', 'Dhaka', 'protest', '4', 'August', '2018', 'Share', 'this', 'with', 'Facebook', 'Share', 'this', 'with', 'Messenger', 'Share', 'this', 'with', 'Twitter', 'Share', 'this', 'with', 'Email', 'Share', 'this', 'with', 'Facebook', 'Share', 'this', 'with', 'WhatsApp', 'Share', 'this', 'with', 'Messenger', 'Share', 'this', 'with', 'Twitter', 'Share', 'Share', 'this', 'with', 'These', 'are', 'external', 'links', 'and', 'will', 'open', 'in', 'a', 'new', 'window', 'Email', 'Share', 'this', 'with', 'Email', 'Facebook', 'Share', 'this', 'with', 'Facebook', 'Messenger', 'Share', 'this', 'with', 'Messenger', 'Messenger', 'Share', 'this', 'with', 'Messenger', 'Twitter', 'Share', 'this', 'with', 'Twitter', 'Pinterest', 'Share', 'this', 'with', 'Pinterest', 'WhatsApp', 'Share', 'this', 'with', 'WhatsApp', 'LinkedIn', 'Share', 'this', 'with', 'LinkedIn', 'Copy', 'this', 'link', 'https', ':', '//www.bbc.co.uk/news/world-asia-45069935', 'Read', 'more', 'about', 'sharing', '.', 'These', 'are', 'external', 'links', 'and', 'will', 'open', 'in', 'a', 'new', 'window', 'Close', 'share', 'panel', 'Image', 'copyright', 'EPA', 'Image', 'caption', 'The', 'students', 'are', 'demanding', 'improved', 'road', 'safety', 'and', 'stricter', 'enforcement', 'of', 'traffic', 'laws', 'About', '25', 'students', 'have', 'been', 'injured', 'in', 'clashes', 'in', 'Bangladesh', \"'s\", 'capital', 'on', 'the', 'seventh', 'day', 'of', 'a', 'youth', 'protest', 'about', 'road', 'safety', ',', 'reports', 'say.Thousands', 'of', 'pupils', 'have', 'been', 'out', 'on', 'Dhaka', \"'s\", 'roads', 'stopping', 'traffic', 'and', 'checking', 'vehicles', 'and', 'drivers.It', 'is', 'not', 'clear', 'who', 'attacked', 'them', 'but', 'local', 'media', 'blamed', 'a', 'student', 'group', 'linked', 'to', 'the', 'ruling', 'party.The', 'protesters', 'want', 'improved', 'road', 'safety', 'after', 'a', 'boy', 'and', 'girl', 'were', 'killed', 'by', 'a', 'speeding', 'bus', 'last', 'Sunday.The', 'government', 'has', 'blocked', 'mobile', 'internet', 'access', 'for', '24', 'hours', 'in', 'response', 'to', 'the', 'protests', '.', '/**/', '(', 'function', '(', ')', '{', 'if', '(', 'window.bbcdotcom', '&', '&', 'bbcdotcom.adverts', '&', '&', 'bbcdotcom.adverts.slotAsync', ')', '{', 'bbcdotcom.adverts.slotAsync', '(', \"'mpu\", \"'\", ',', '[', '1,2,3', ']', ')', ';', '}', '}', ')', '(', ')', ';', '/**/', 'Transport', 'workers', 'have', 'in', 'recent', 'days', 'staged', 'their', 'own', 'strike', ',', 'while', 'the', 'government', 'has', 'urged', 'students', 'to', 'return', 'to', 'their', 'classrooms.A', 'government', 'minister', 'previously', 'accused', 'the', 'students', 'of', 'hypocrisy', ',', 'sparking', 'further', 'uproar', '.', 'He', 'later', 'apologised', '.', 'Image', 'copyright', 'Reuters', 'Image', 'caption', 'Unconfirmed', 'reports', 'say', 'the', 'protesters', 'were', 'attacked', 'by', 'pro-government', 'students', 'Reports', 'said', 'police', 'used', 'tear', 'gas', 'and', 'rubber', 'bullets', 'as', 'they', 'tried', 'to', 'control', 'the', 'crowds', 'on', 'Saturday', ',', 'though', 'police', 'denied', 'this.A', 'doctor', 'and', 'witnesses', 'quoted', 'by', 'AFP', 'news', 'agency', 'said', 'the', 'number', 'of', 'injured', 'was', 'much', 'higher', ',', 'at', 'more', 'than', '100.Doctor', 'Abdus', 'Shabbir', 'told', 'the', 'agency', 'a', 'few', 'of', 'the', 'injured', 'were', '``', 'in', 'a', 'very', 'bad', 'condition', \"''\", 'and', 'some', 'had', 'rubber', 'bullet', 'injuries', '.', 'Image', 'copyright', 'Reuters', 'Image', 'caption', 'Students', 'chant', 'slogans', 'during', 'the', 'demonstration', 'Local', 'journalists', 'told', 'the', 'BBC', 'they', 'were', 'among', 'those', 'beaten', 'up', 'by', 'members', 'of', 'the', 'Bangladesh', 'Chhatra', 'League', ',', 'a', 'student', 'organisation', 'currently', 'linked', 'to', 'the', 'ruling', 'Awami', 'League', 'and', 'opposed', 'to', 'the', 'protests.The', 'journalists', 'reported', 'having', 'their', 'camera', 'equipment', 'destroyed.Bangladesh', 'profileAmid', 'reports', 'of', 'sexual', 'assaults', 'in', 'the', 'streets', ',', 'a', 'female', 'reporter', 'alleged', 'on', 'social', 'media', 'that', 'she', 'had', 'been', '``', 'molested', \"''\", 'while', 'trying', 'to', 'film', 'the', 'clashes', '.', 'Chanting', '``', 'We', 'want', 'justice', \"''\", ',', 'students', 'have', 'been', 'calling', 'for', 'stricter', 'enforcement', 'of', 'traffic', 'laws', ',', 'and', 'have', 'blocked', 'major', 'intersections', 'in', 'the', 'capital', 'for', 'seven', 'consecutive', 'days', '.', 'Image', 'copyright', 'AFP', 'Image', 'caption', 'The', 'students', 'said', 'they', 'would', 'not', 'leave', 'the', 'roads', 'until', 'their', 'demands', 'were', 'met', '``', 'We', 'wo', \"n't\", 'leave', 'the', 'roads', 'until', 'our', 'demands', 'are', 'met', '.', 'We', 'want', 'safe', 'roads', 'and', 'safe', 'drivers', ',', \"''\", 'said', 'protester', 'Al', 'Miran', 'to', 'AFP', 'news', 'agency', '.', 'Teens', 'as', 'young', 'as', '13', 'have', 'been', 'seen', 'on', 'Dhaka', \"'s\", 'notoriously', 'clogged', 'streets', ',', 'checking', 'drivers', 'have', 'valid', 'licences', 'and', 'that', 'cars', 'and', 'buses', 'are', 'in', 'roadworthy', 'conditions', 'before', 'letting', 'them', 'drive', 'on', '.', 'Related', 'TopicsRoad', 'safetyDhakaBangladesh', 'Share', 'this', 'story', 'About', 'sharing', 'Email', 'Facebook', 'Messenger', 'Messenger', 'Twitter', 'Pinterest', 'WhatsApp', 'LinkedIn', 'More', 'on', 'this', 'story', 'Bangladesh', 'teenagers', 'demanding', 'road', 'safety', 'paralyse', 'Dhaka', '2', 'August', '2018', '/*', '<', '!', '[', 'CDATA', '[', '*/', '(', 'function', '(', ')', '{', 'if', '(', 'window.bbcdotcom', '&', '&', 'bbcdotcom.adverts', '&', '&', 'bbcdotcom.adverts.slotAsync', ')', '{', 'bbcdotcom.adverts.slotAsync', '(', \"'outbrain_ar_5\", \"'\", ',', '[', '1,2,3,4', ']', ')', ';', '}', '}', ')', '(', ')', ';', '/*', ']', ']', '>', '*/', '/*', '<', '!', '[', 'CDATA', '[', '*/', '(', 'function', '(', ')', '{', 'if', '(', 'window.bbcdotcom', '&', '&', 'bbcdotcom.adverts', '&', '&', 'bbcdotcom.adverts.slotAsync', ')', '{', 'bbcdotcom.adverts.slotAsync', '(', \"'outbrain_ar_7\", \"'\", ',', '[', '1,2,3,4', ']', ')', ';', '}', '}', ')', '(', ')', ';', '/*', ']', ']', '>', '*/', '/*', '<', '!', '[', 'CDATA', '[', '*/', '(', 'function', '(', ')', '{', 'if', '(', 'window.bbcdotcom', '&', '&', 'bbcdotcom.adverts', '&', '&', 'bbcdotcom.adverts.slotAsync', ')', '{', 'bbcdotcom.adverts.slotAsync', '(', \"'outbrain_ar_8\", \"'\", ',', '[', '1,2,3,4', ']', ')', ';', '}', '}', ')', '(', ')', ';', '/*', ']', ']', '>', '*/', 'Top', 'Stories', 'Venezuela', 'leader', \"'survives\", 'drone', \"attack'\", 'President', 'Nicolás', 'Maduro', 'says', 'explosive', 'drones', 'went', 'off', 'as', 'he', 'was', 'giving', 'a', 'live', 'televised', 'speech', '.', '5', 'August', '2018', 'Soldiers', 'seen', 'running', 'after', \"'drone\", \"attack'\", '5', 'August', '2018', 'Entertainer', 'Barry', 'Chuckle', 'dies', 'at', '73', '5', 'August', '2018', '/*', '<', '!', '[', 'CDATA', '[', '*/', '(', 'function', '(', ')', '{', 'if', '(', 'window.bbcdotcom', '&', '&', 'bbcdotcom.adverts', '&', '&', 'bbcdotcom.adverts.slotAsync', ')', '{', 'bbcdotcom.adverts.slotAsync', '(', \"'mpu\", \"'\", ',', '[', '4', ']', ')', ';', '}', '}', ')', '(', ')', ';', '/*', ']', ']', '>', '*/', 'Features', \"'I\", \"'m\", '18', 'and', 'travelling', 'Europe', 'for', \"free'\", 'Barry', 'Chuckle', \"'s\", 'life', 'in', 'pictures', 'Can', 'Italy', 'trust', 'this', 'man', '?', '/*', '<', '!', '[', 'CDATA', '[', '*/', '(', 'function', '(', ')', '{', 'if', '(', 'window.bbcdotcom', '&', '&', 'bbcdotcom.adverts', '&', '&', 'bbcdotcom.adverts.slotAsync', ')', '{', 'bbcdotcom.adverts.slotAsync', '(', \"'infeed_news_story\", \"'\", ',', '[', '1,2,3,4,5', ']', ')', ';', '}', '}', ')', '(', ')', ';', '/*', ']', ']', '>', '*/', 'Dre', 'Skull', 'on', 'making', 'dancehall', 'emotional', 'Video', 'What', \"'s\", 'life', 'as', 'a', 'YouTube', 'child', 'star', 'really', 'like', '?', 'Your', 'pictures', 'on', 'the', 'theme', 'of', \"'splash\", 'of', \"colour'\", 'Video', 'Books', \"'open\", 'blind', 'boy', \"'s\", 'eyes', 'to', \"world'\", 'What', 'will', 'become', 'of', 'France', \"'s\", \"'IS\", 'children', \"'\", '?', 'Video', 'See', 'some', 'of', 'the', 'world', \"'s\", 'earliest', 'photographs', '/*', '<', '!', '[', 'CDATA', '[', '*/', '(', 'function', '(', ')', '{', 'if', '(', 'window.bbcdotcom', '&', '&', 'bbcdotcom.adverts', '&', '&', 'bbcdotcom.adverts.slotAsync', ')', '{', 'bbcdotcom.adverts.slotAsync', '(', \"'native\", \"'\", ',', '[', '1,2,3,4', ']', ')', ';', '}', '}', ')', '(', ')', ';', '/*', ']', ']', '>', '*/', 'Elsewhere', 'on', 'the', 'BBC', 'Feeling', 'tired', '?', 'Five', 'reasons', 'you', 'need', 'to', 'sleep', 'more', 'Full', 'article', 'Feeling', 'tired', '?', 'Daily', 'news', 'briefing', 'direct', 'to', 'your', 'inbox', 'Sign', 'up', 'for', 'our', 'newsletter', 'Full', 'article', 'Daily', 'news', 'briefing', 'direct', 'to', 'your', 'inbox', '/*', '<', '!', '[', 'CDATA', '[', '*/', '(', 'function', '(', ')', '{', 'if', '(', 'window.bbcdotcom', '&', '&', 'bbcdotcom.adverts', '&', '&', 'bbcdotcom.adverts.slotAsync', ')', '{', 'bbcdotcom.adverts.slotAsync', '(', \"'mpu_bottom\", \"'\", ',', '[', '1,2,3,4', ']', ')', ';', '}', '}', ')', '(', ')', ';', '/*', ']', ']', '>', '*/', '/*', '<', '!', '[', 'CDATA', '[', '*/', '(', 'function', '(', ')', '{', 'if', '(', 'window.bbcdotcom', '&', '&', 'bbcdotcom.adverts', '&', '&', 'bbcdotcom.adverts.slotAsync', ')', '{', 'bbcdotcom.adverts.slotAsync', '(', \"'outbrain_ar_9\", \"'\", ',', '[', '1,2,3,4', ']', ')', ';', '}', '}', ')', '(', ')', ';', '/*', ']', ']', '>', '*/', '/*', '<', '!', '[', 'CDATA', '[', '*/', '(', 'function', '(', ')', '{', 'if', '(', 'window.bbcdotcom', '&', '&', 'bbcdotcom.adverts', '&', '&', 'bbcdotcom.adverts.slotAsync', ')', '{', 'bbcdotcom.adverts.slotAsync', '(', \"'adsense\", \"'\", ',', '[', '1,2,3,4', ']', ')', ';', '}', '}', ')', '(', ')', ';', '/*', ']', ']', '>', '*/', '/*', '<', '!', '[', 'CDATA', '[', '*/', '(', 'function', '(', ')', '{', 'if', '(', 'window.bbcdotcom', '&', '&', 'bbcdotcom.adverts', '&', '&', 'bbcdotcom.adverts.slotAsync', ')', '{', 'bbcdotcom.adverts.slotAsync', '(', \"'inread\", \"'\", ',', '[', '1,2,3,4', ']', ')', ';', '}', '}', ')', '(', ')', ';', '/*', ']', ']', '>', '*/', 'Why', 'you', 'can', 'trust', 'BBC', 'News', 'BBC', 'News', 'Navigation', 'Asia', 'Sections', 'Asia', 'China', 'India', 'Home', 'UK', 'UK', 'Home', 'England', 'N.', 'Ireland', 'Scotland', 'Alba', 'Wales', 'Cymru', 'Local', 'News', 'World', 'selected', 'World', 'Home', 'Africa', 'Asia', 'selected', 'Australia', 'Europe', 'Latin', 'America', 'Middle', 'East', 'US', '&', 'Canada', 'Business', 'Business', 'Home', 'Your', 'Money', 'Market', 'Data', 'Companies', 'Economy', 'Politics', 'Politics', 'Home', 'Parliaments', 'Brexit', 'Tech', 'Science', 'Health', 'Family', '&', 'Education', 'Family', '&', 'Education', 'Home', 'School', 'Report', 'Global', 'Education', 'Entertainment', '&', 'Arts', 'Stories', 'Video', '&', 'Audio', 'In', 'Pictures', 'Newsbeat', 'Reality', 'Check', 'Special', 'Reports', 'Explainers', 'The', 'Reporters', 'Have', 'Your', 'Say', 'Disability', 'BBC', 'News', 'Services', 'On', 'your', 'mobile', 'On', 'your', 'connected', 'tv', 'Get', 'news', 'alerts', 'Contact', 'BBC', 'News', 'Explore', 'the', 'BBCHomeNewsSportWeatheriPlayerTVRadioCBBCCBeebiesFoodBitesizeMusicEarthArtsMake', 'It', 'DigitalTasterLocalTomorrow', \"'s\", 'Worldwindow.orb.worldwideFooterlinks', '=', \"'\", '<', 'li', 'class=', \"''\", 'orb-footer-ads', \"''\", '>', '<', 'a', 'href=', \"''\", 'https', ':', '//advertising.bbcworldwide.com/', \"''\", '>', 'Advertise', 'with', 'us', '<', \"'+'/a\", '>', '<', \"'+'/li\", '>', '<', 'li', 'class=', \"''\", 'orb-footer-adchoices', \"''\", '>', '<', 'a', 'href=', \"''\", 'http', ':', '//www.bbc.com/usingthebbc/cookies/what-is-online-behavioural-advertising/', \"''\", '>', 'Ad', 'choices', '<', \"'+'/a\", '>', '<', \"'+'/li\", '>', \"'\", ';', 'Terms', 'of', 'UseAbout', 'the', 'BBCPrivacy', 'PolicyCookiesAccessibility', 'HelpParental', 'GuidanceContact', 'the', 'BBCGet', 'Personalised', 'NewslettersCopyright', '©', '2018', 'BBC', '.', 'The', 'BBC', 'is', 'not', 'responsible', 'for', 'the', 'content', 'of', 'external', 'sites', '.', 'Read', 'about', 'our', 'approach', 'to', 'external', 'linking.require', '(', '[', \"'orb/lib/_\", '$', \"'\", ']', ',', 'function', '(', '$', ')', '{', '$', '.ready', '(', 'function', '(', ')', '{', 'initialiseFooter', '(', ')', ';', '}', ')', ';', 'var', 'scrollCheckTimer', ';', 'var', 'didScroll', ';', 'var', 'previousPosition', '=', '0', ';', 'var', 'delta', '=', '5', ';', 'var', 'PROMO_SHOW_BREAKPOINT', '=', '1500', ';', 'var', 'pageLength', '=', '0', ';', 'function', 'initialiseFooter', '(', ')', '{', '//', 'Suppress', 'this', 'feature', 'on', 'browsers', 'we', 'no', 'longer', 'test', 'var', 'myNav', '=', 'navigator.userAgent.toLowerCase', '(', ')', ';', 'var', 'oldIE', '=', '(', 'myNav.indexOf', '(', \"'msie\", \"'\", ')', '!', '==', '-1', ')', '&', '&', 'parseInt', '(', 'myNav.split', '(', \"'msie\", \"'\", ')', '[', '1', ']', ',', '10', ')', '<', '=', '10', ';', 'if', '(', '!', 'oldIE', ')', '{', 'require', '(', '[', \"'orb/cookies\", \"'\", ']', ',', 'function', '(', 'bbccookies', ')', '{', 'var', 'disabledByCookie', '=', '(', 'parseInt', '(', 'bbccookies.get', '(', \"'ckns_nav_promofail\", \"'\", ')', ')', '||', '0', ')', '>', '=', '3', ';', 'if', '(', '!', 'disabledByCookie', ')', '{', 'require', '(', '[', \"'orb/fig\", \"'\", ']', ',', 'function', '(', 'orbFig', ')', '{', 'orbFig.load', '(', 'function', '(', 'fig', ')', '{', 'if', '(', 'fig.geo.isUK', '(', ')', ')', '{', 'setUpLazyLoading', '(', ')', ';', '}', '}', ')', ';', '}', ')', ';', '}', '}', ')', ';', '}', '}', 'function', 'setUpLazyLoading', '(', ')', '{', '//', 'offsetHeight', 'is', 'expensive', 'to', 'calculate', ',', 'only', 'do', 'it', 'once', '.', 'pageLength', '=', 'Math.abs', '(', 'document.body.offsetHeight', ')', ';', 'if', '(', 'pageLength', '<', 'getViewportHeight', '(', ')', '+', '300', '||', 'pageLength', '-', 'getCurrentPosition', '(', ')', '<', 'PROMO_SHOW_BREAKPOINT', ')', '{', 'loadPromo', '(', ')', ';', '}', 'else', '{', 'window.onscroll', '=', 'function', '(', ')', '{', 'didScroll', '=', 'true', ';', '}', ';', 'scrollCheckTimer', '=', 'setInterval', '(', 'function', '(', ')', '{', 'if', '(', 'didScroll', ')', '{', 'hasScrolled', '(', ')', ';', 'didScroll', '=', 'false', ';', '}', '}', ',', '250', ')', ';', '}', '}', 'function', 'loadPromo', '(', ')', '{', 'clearInterval', '(', 'scrollCheckTimer', ')', ';', 'require', '(', '[', \"'orb/async/_footerpromo\", \"'\", ']', ',', 'function', '(', 'promo', ')', '{', 'promo.init', '(', \"'https\", ':', '//navpromo.api.bbci.co.uk', \"'\", ',', '``', ')', ';', '}', ')', ';', '}', 'function', 'getViewportHeight', '(', ')', '{', 'return', 'window.innerHeight', ';', '}', 'function', 'getCurrentPosition', '(', ')', '{', 'return', 'Math.abs', '(', 'window.scrollY', '||', 'document.body.scrollTop', '||', 'document.documentElement.scrollTop', ')', ';', '}', 'function', 'hasScrolled', '(', ')', '{', 'var', 'currentPosition', '=', 'getCurrentPosition', '(', ')', ';', 'if', '(', 'Math.abs', '(', 'previousPosition', '-', 'currentPosition', ')', '<', '=', 'delta', ')', '{', 'return', ';', '}', 'if', '(', 'currentPosition', '>', 'previousPosition', ')', '{', 'if', '(', '(', 'pageLength', '-', 'currentPosition', ')', '<', '=', 'PROMO_SHOW_BREAKPOINT', ')', '{', 'loadPromo', '(', ')', ';', '}', '}', 'previousPosition', '=', 'currentPosition', ';', '}', '}', ')', '/*', '<', '!', '[', 'CDATA', '[', '*/', 'require', '(', '[', \"'orb/fig\", \"'\", ',', \"'orb/nav\", \"'\", ']', ',', 'function', '(', 'fig', ',', 'nav', ')', '{', 'fig.load', '(', 'function', '(', 'fig', ')', '{', 'if', '(', 'fig.geo.isUK', '(', ')', ')', '{', 'nav.loadJs', '(', \"'https\", ':', '//nav.files.bbci.co.uk/orbit/2.0.0-261.ad737ae/js/edr.min.js', \"'\", ')', ';', '}', '}', ')', ';', '}', ')', ';', '/*', ']', ']', '>', '*/require', '(', '[', '``', 'istats-1', \"''\", ',', \"''\", 'orb/cookies', \"''\", ']', ',', 'function', '(', 'o', ',', 't', ')', '{', 'if', '(', 't.isAllowed', '(', '``', 's1', \"''\", ')', ')', 'try', '{', 'if', '(', '!', 'require.s.contexts._.config.paths.idcta', ')', 'return', 'void', 'i', '(', ')', ';', 'require', '(', '[', '``', 'idcta/idcta-1', \"''\", ']', ',', 'function', '(', 't', ')', '{', 't', '&', '&', \"''\", 'function', \"''\", '==typeof', 't.getIStatsLabels', '&', '&', 'o.addLabels', '(', 't.getIStatsLabels', '(', ')', ')', ',', 'i', '(', ')', '}', ',', 'function', '(', 't', ')', '{', 'throw', 't', '}', ')', '}', 'catch', '(', 't', ')', '{', 'console', '&', '&', \"''\", 'function', \"''\", '==typeof', 'console.log', '&', '&', 'console.log', '(', '``', 'an', 'exception', 'occurred', 'while', 'adding', 'idcta', 'labels', 'to', 'istats', ',', 'invoking', 'istats', 'without', 'them', \"''\", ',', 't', ')', ',', 'i', '(', ')', '}', 'function', 'i', '(', ')', '{', 'o.invoke', '(', ')', '}', '}', ')', ';', 'require.config', '(', '{', 'paths', ':', '{', '``', 'mybbc/templates', \"''\", ':', \"'//mybbc.files.bbci.co.uk/notification-ui/3.9.5/templates\", \"'\", ',', '``', 'mybbc/notifications', \"''\", ':', \"'//mybbc.files.bbci.co.uk/notification-ui/3.9.5/js'\", '}', '}', ')', ';', 'require', '(', '[', \"'mybbc/notifications/NotificationsMain\", \"'\", ',', \"'idcta/idcta-1\", \"'\", ']', ',', 'function', '(', 'NotificationsMain', ',', 'idcta', ')', '{', 'var', 'loadNotifications', '=', 'function', '(', 'isUK', ')', '{', 'if', '(', 'isUK', ')', '{', 'window.bbcpage.loadCSS', '(', \"'//mybbc.files.bbci.co.uk/notification-ui/3.9.5/css/main.min.css\", \"'\", ')', '.then', '(', 'function', '(', ')', '{', 'NotificationsMain.run', '(', 'idcta', ',', \"'//mybbc.files.bbci.co.uk/notification-ui/3.9.5/\", \"'\", ')', ';', '}', ')', ';', '}', '}', ';', 'if', '(', 'window.bbcuser', '&', '&', 'window.bbcuser.isUKCombined', '&', '&', 'typeof', '(', 'window.bbcuser.isUKCombined', ')', '===', \"'function\", \"'\", ')', '{', '//', 'Use', 'new', 'API', 'from', 'Orbit', 'if', 'available', 'window.bbcuser.isUKCombined', '(', ')', '.then', '(', 'function', '(', 'isUK', ')', '{', 'loadNotifications', '(', 'isUK', ')', ';', '}', ')', ';', '}', 'else', '{', '//', 'Fallback', 'to', 'fig', '(', 'ORB', 'support', ')', 'var', 'orbFig', '=', 'window.orb.fig', ';', 'loadNotifications', '(', 'orbFig.geo.isUK', '(', ')', ')', ';', '}', '}', ')', ';', 'if', '(', 'window.SEARCHBOX.suppress', '===', 'false', '&', '&', 'window.SEARCHBOX.locale', '&', '&', '/^en-', '?', '.', '*', '?', '/.test', '(', 'window.SEARCHBOX.locale', ')', ')', '{', 'require.config', '(', '{', 'paths', ':', '{', '``', 'search/searchbox', \"''\", ':', 'window.SEARCHBOX.searchboxAppStaticPrefix', ',', '``', 'disco-layer', \"''\", ':', '``', '//nav.files.bbci.co.uk/discovery-layer/0.0.1-272.f146f82/app', \"''\", '}', '}', ')', ';', 'var', 'orbFig', '=', 'window.orb.fig', ';', 'var', 'loadSearchSuggest', '=', 'function', '(', 'fig', ')', '{', 'if', '(', 'fig.geo.isUK', '(', ')', ')', '{', 'require', '(', '[', \"'search/searchbox/searchboxDrawer\", \"'\", ']', ',', 'function', '(', 'SearchboxDrawer', ')', '{', 'SearchboxDrawer.run', '(', 'window.SEARCHBOX', ')', ';', '}', ')', ';', '}', '}', ';', 'if', '(', 'typeof', 'orbFig.load', '===', \"'function\", \"'\", ')', '{', '//', 'Use', 'new', 'async', 'API', 'from', 'Orbit', '//', 'In', 'event', 'of', 'fig', 'failure', 'provide', 'search', 'suggest', 'functionality', 'by', 'default', 'orbFig.load', '(', 'loadSearchSuggest', ',', 'loadSearchSuggest', ')', ';', '}', 'else', '{', '//', 'Use', 'old', 'sync-only', 'API', 'from', 'PAL', 'orbfig', 'project', 'loadSearchSuggest', '(', 'orbFig', ')', ';', '}', 'var', 'loadDiscoveryLayer', '=', 'function', '(', 'fig', ')', '{', 'if', '(', 'fig.geo.isUK', '(', ')', ')', '{', 'require', '(', '[', \"'disco-layer\", \"'\", ']', ',', 'function', '(', 'discoLayer', ')', '{', 'discoLayer.run', '(', '``', '//nav.files.bbci.co.uk/discovery-layer/content/', \"''\", ',', '``', '//nav.files.bbci.co.uk/discovery-layer/0.0.1-272.f146f82/main.css', \"''\", ')', ';', '}', ')', ';', '}', '}', ';', 'if', '(', 'typeof', 'orbFig.load', '===', \"'function\", \"'\", ')', '{', 'orbFig.load', '(', 'loadDiscoveryLayer', ')', ';', '}', 'else', '{', 'loadDiscoveryLayer', '(', 'orbFig', ')', ';', '}', '}', '/*', '<', '!', '[', 'CDATA', '[', '*/', 'if', '(', 'window.bbcdotcom', '&', '&', 'window.bbcdotcom.analytics', '&', '&', 'bbcdotcom.config', '&', '&', '!', 'bbcdotcom.config.isSportApp', '(', ')', ')', '{', 'bbcdotcom.analytics.page', '(', ')', ';', '}', '/*', ']', ']', '>', '*//*', '<', '!', '[', 'CDATA', '[', '*/', 'if', '(', 'window.bbcdotcom', '&', '&', 'bbcdotcom.currencyProviders', ')', '{', 'bbcdotcom.currencyProviders.write', '(', ')', ';', '}', '/*', ']', ']', '>', '*//*', '<', '!', '[', 'CDATA', '[', '*/', 'if', '(', 'window.bbcdotcom', '&', '&', 'bbcdotcom.currencyProviders', ')', '{', 'bbcdotcom.currencyProviders.postWrite', '(', ')', ';', '}', '/*', ']', ']', '>', '*//*', '<', '!', '[', 'CDATA', '[', '*/', 'if', '(', 'window.bbcdotcom', '&', '&', 'bbcdotcom.data', '&', '&', 'bbcdotcom.data.stats', '&', '&', 'bbcdotcom.data.stats', '===', '1', '&', '&', 'bbcdotcom.utils', '&', '&', 'window.location.pathname', '===', \"'/\", \"'\", '&', '&', 'window.bbccookies', '&', '&', 'bbccookies.readPolicy', '(', \"'performance\", \"'\", ')', ')', '{', 'var', 'wwhpEdition', '=', 'bbcdotcom.utils.getMetaPropertyContent', '(', \"'wwhp-edition\", \"'\", ')', ';', 'var', '_sf_async_config=', '{', '}', ';', '/**', 'CONFIGURATION', 'START', '**/', '_sf_async_config.uid', '=', '50924', ';', '_sf_async_config.domain', '=', '``', 'bbc.co.uk', \"''\", ';', '_sf_async_config.title', '=', '``', 'Homepage', \"''\", '+', '(', 'wwhpEdition', '!', '==', '``', '?', \"'\", '-', \"'+wwhpEdition\", ':', '``', ')', ';', '_sf_async_config.sections', '=', '``', 'Homepage', \"''\", '+', '(', 'wwhpEdition', '!', '==', '``', '?', \"'\", ',', 'Homepage', '-', \"'+wwhpEdition\", ':', '``', ')', ';', '_sf_async_config.region', '=', 'wwhpEdition', ';', '_sf_async_config.path', '=', '``', '/', \"''\", '+', '(', 'wwhpEdition', '!', '==', '``', '?', \"'\", '?', \"'+wwhpEdition\", ':', '``', ')', ';', '/**', 'CONFIGURATION', 'END', '**/', '(', 'function', '(', ')', '{', 'function', 'loadChartbeat', '(', ')', '{', 'window._sf_endpt=', '(', 'new', 'Date', '(', ')', ')', '.getTime', '(', ')', ';', 'var', 'e', '=', 'document.createElement', '(', '``', 'script', \"''\", ')', ';', 'e.setAttribute', '(', '``', 'language', \"''\", ',', '``', 'javascript', \"''\", ')', ';', 'e.setAttribute', '(', '``', 'type', \"''\", ',', '``', 'text/javascript', \"''\", ')', ';', 'e.setAttribute', '(', \"'src\", \"'\", ',', \"'//static.chartbeat.com/js/chartbeat.js\", \"'\", ')', ';', 'document.body.appendChild', '(', 'e', ')', ';', '}', 'var', 'oldonload', '=', 'window.onload', ';', 'window.onload', '=', '(', 'typeof', 'window.onload', '!', '=', '``', 'function', \"''\", ')', '?', 'loadChartbeat', ':', 'function', '(', ')', '{', 'oldonload', '(', ')', ';', 'loadChartbeat', '(', ')', ';', '}', ';', '}', ')', '(', ')', ';', '}', '/*', ']', ']', '>', '*//*', '<', '!', '[', 'CDATA', '[', '*/', '(', 'function', '(', ')', '{', 'window.bbcdotcom.bodyLast', '=', 'true', ';', '}', '(', ')', ')', ';', '/*', ']', ']', '>', '*/', \"''\", 'use', 'strict', \"''\", ';', 'define', '(', '``', 'orb/cookies-adapter', \"''\", ',', '[', '``', 'orb/cookies', \"''\", ']', ',', 'function', '(', 'c', ')', '{', 'return', '{', 'isOrbitEnvironment', ':', 'function', '(', ')', '{', 'return', \"''\", 'object', \"''\", '==typeof', 'bbccookies', '&', '&', \"''\", 'function', \"''\", '!', '=typeof', 'bbccookies._getCookieName', '}', ',', 'set', ':', 'function', '(', 'e', ',', 'n', ')', '{', 'var', 'o=new', 'Date', ';', 'if', '(', 'o.setYear', '(', 'o.getFullYear', '(', ')', '+1', ')', ',', 'this.isOrbitEnvironment', '(', ')', ')', 'return', 'c.set', '(', 'e', ',', 'n', ',', '{', 'domain', ':', 'c._getCurrentDomain', '(', ')', ',', 'path', ':', \"''\", '/', \"''\", ',', 'expires', ':', 'o', '}', ')', ';', 'var', 'i=window.location.host.match', '(', '/', '(', '.bbc', '(', '?', ':', '\\\\.co\\\\.uk', ')', ')', '(', ':', '\\\\d+', ')', '?', '(', '\\\\/.*', ')', '?', '$', '/i', ')', ',', 't=e+', \"''\", '=', \"''\", '+n+', \"''\", ';', 'domain=', \"''\", '+', '(', 'i', '&', '&', \"''\", '.bbc.co.uk', \"''\", '===i', '[', '1', ']', '?', '``', '.bbc.co.uk', \"''\", ':', \"''\", '.bbc.com', \"''\", ')', '+', \"''\", ';', 'path=/', ';', 'expires=', \"''\", '+o.toUTCString', '(', ')', '+', \"''\", ';', \"''\", ';', 'return', 'c.set', '(', 't', ')', '}', ',', 'get', ':', 'function', '(', 'e', ')', '{', 'return', 'this.isOrbitEnvironment', '(', ')', '?', 'c.get', '(', 'e', ')', ':', 'c.getCrumb', '(', 'e', ')', '}', ',', 'copyPolicyCookiesCrossDomain', ':', 'function', '(', 'e', ')', '{', 'if', '(', 'this.isOrbitEnvironment', '(', ')', ')', 'return', 'c.copyPolicyCookiesCrossDomain', '(', 'e', ')', ';', 'e', '(', ')', '}', ',', 'setDefaultCookiesSingleDomain', ':', 'function', '(', ')', '{', 'return', 'this.isOrbitEnvironment', '(', ')', '?', 'c.setDefaultCookiesSingleDomain', '(', ')', ':', 'c._setPolicy', '(', ')', '}', ',', 'setDefaultCookiesCrossDomain', ':', 'function', '(', ')', '{', 'return', 'this.isOrbitEnvironment', '(', ')', '?', 'c.setDefaultCookiesCrossDomain', '(', ')', ':', 'c._setPolicy', '(', ')', '}', ',', 'isCookiePolicySet', ':', 'function', '(', ')', '{', 'return', 'this.isOrbitEnvironment', '(', ')', '?', 'c.isCookiePolicySet', '(', ')', ':', 'null', '!', '==this.get', '(', '``', 'ckns_policy', \"''\", ')', '}', '}', '}', ')', ',', 'require', '(', '[', '``', 'orb/lib/_script', \"''\", ',', \"''\", 'orb/cookies-adapter', \"''\", ']', ',', 'function', '(', 'r', ',', 's', ')', '{', 'var', 'a=', \"''\", 'ckns_privacy', \"''\", ',', 'b=', \"''\", 'ckns_explicit', \"''\", ',', 'l=', \"''\", '1', \"''\", ';', 'function', 'i', '(', ')', '{', 'var', 'e=s.get', '(', 'b', ')', ';', 'return', 'null', '!', '==e', '&', '&', 'e===l', '}', 'function', 'u', '(', 'e', ',', 'n', ')', '{', 'e.style.display=', \"''\", 'none', \"''\", ',', 'n.style.display=', \"''\", 'none', \"''\", '}', 'function', 'k', '(', 'e', ',', 'n', ')', '{', 'i', '(', ')', '||', '(', 'e.style.display=', \"''\", 'none', \"''\", ',', 'n.style.display=', \"''\", 'block', \"''\", ',', 'window.bbcpage.trackRegion', '(', 'n', ',', '{', 'linkLocation', ':', \"''\", 'nav-banner-cookies', \"''\", '}', ')', ',', 'window.bbcuser.logEvent', '(', '``', 'view', \"''\", ',', \"''\", 'nav-banner-cookies', \"''\", ')', ')', '}', 'function', 't', '(', ')', '{', 'var', 'e=document.getElementById', '(', '``', 'bbcprivacy', \"''\", ')', ',', 'n=document.getElementById', '(', '``', 'bbccookies', \"''\", ')', ';', 'document.getElementById', '(', '``', 'bbcprivacy-continue-button', \"''\", ')', '.addEventListener', '(', '``', 'click', \"''\", ',', 'function', '(', ')', '{', 'u', '(', 'e', ',', 'n', ')', ',', 'k', '(', 'e', ',', 'n', ')', ',', 'window.bbcuser.logEvent', '(', '``', 'click-cta', \"''\", ',', \"''\", 'nav-banner-privacy', \"''\", ')', '}', ')', ',', 'document.getElementById', '(', '``', 'bbccookies-continue-button', \"''\", ')', '.addEventListener', '(', '``', 'click', \"''\", ',', 'function', '(', ')', '{', 'u', '(', 'e', ',', 'n', ')', ',', 'window.bbcuser.logEvent', '(', '``', 'click-continue', \"''\", ',', \"''\", 'nav-banner-cookies', \"''\", ')', ',', 's.setDefaultCookiesCrossDomain', '(', ')', ',', 's.set', '(', 'b', ',', 'l', ')', '}', ')', ';', 'var', 'o', ',', 'i', ',', 't', ',', 'c=document.getElementById', '(', '``', 'bbccookies-settings', \"''\", ')', '.getElementsByTagName', '(', '``', 'a', \"''\", ')', '[', '0', ']', ';', 'c.addEventListener', '(', '``', 'click', \"''\", ',', '(', 'o=', '!', '1', ',', 'function', '(', 'e', ')', '{', 'o||', '(', 's.copyPolicyCookiesCrossDomain', '(', 'function', '(', ')', '{', 'o=', '!', '0', ',', 'c.click', '(', ')', '}', ')', ',', 's.set', '(', 'b', ',', 'l', ')', ',', 'e.preventDefault', '(', ')', ')', '}', ')', ')', ',', 'null', '!', '==s.get', '(', 'a', ')', '?', 'k', '(', 'e', ',', 'n', ')', ':', '(', 't=n', ',', '(', 'i=e', ')', '.style.display=', \"''\", 'block', \"''\", ',', 't.style.display=', \"''\", 'none', \"''\", ',', 'window.bbcpage.trackRegion', '(', 'i', ',', '{', 'linkLocation', ':', \"''\", 'nav-banner-privacy', \"''\", '}', ')', ',', 'window.bbcuser.logEvent', '(', '``', 'view', \"''\", ',', \"''\", 'nav-banner-privacy', \"''\", ')', ',', 's.set', '(', 'a', ',', \"''\", '1', \"''\", ')', ')', '}', 'function', 'c', '(', 'e', ',', 'o', ')', '{', 'var', 'n', ',', 'i', ',', 't=', \"''\", 'https', ':', '//nav.files.bbci.co.uk/orbit-webmodules/0.0.1-110.d64757f/cookie-banner/cookie-prompt/', \"''\", ',', 'c=t+', '(', 'i=', \"''\", 'en', \"''\", ',', \"''\", 'string', \"''\", '==typeof', '(', 'n=e', ')', '&', '&', '2', '<', '=n.length', '&', '&', '(', 'i=n.trim', '(', ')', '.substring', '(', '0,2', ')', '.toLowerCase', '(', ')', ')', ',', '-1', '!', '==', '[', '``', 'en', \"''\", ',', \"''\", 'cy', \"''\", ',', \"''\", 'gd', \"''\", ',', \"''\", 'ga', \"''\", ']', '.indexOf', '(', 'i', ')', '?', 'i', ':', \"''\", 'en', \"''\", ')', '+', \"''\", '.js', \"''\", ';', 'window.bbcpage.loadCSS', '(', '``', 'https', ':', '//nav.files.bbci.co.uk/orbit-webmodules/0.0.1-110.d64757f/cookie-banner/cookie-prompt/bbccookies.min.css', \"''\", ')', '.then', '(', 'function', '(', ')', '{', 'r.jsonp', '(', 'c', ',', 'function', '(', 'e', ')', '{', 'var', 'n=e.replace', '(', '/', '<', '<', 'bbcUrlPrefix', '>', '>', '/g', ',', 'function', '(', ')', '{', 'if', '(', 'window.orb.bbcUrlPrefix', ')', '{', 'var', 'e=window.orb.bbcUrlPrefix+', \"''\", 'bbc.com', \"''\", ',', 'n=window.location.host.match', '(', '/', '(', 'bbc', '(', '?', ':', '\\\\.co\\\\.uk', ')', ')', '(', ':', '\\\\d+', ')', '?', '(', '\\\\/', '.', '*', ')', '?', '$', '/i', ')', ';', 'return', 'n', '&', '&', \"''\", 'bbc.co.uk', \"''\", '===n', '[', '1', ']', '&', '&', '(', 'e=e.replace', '(', '``', 'bbc.com', \"''\", ',', \"''\", 'bbc.co.uk', \"''\", ')', ')', ',', 'e', '}', 'return', \"''\", \"''\", '}', '(', ')', ')', ';', 'document.getElementById', '(', '``', 'cookiePrompt', \"''\", ')', '.innerHTML=n', ',', 'o', '(', ')', '}', ',', '{', 'callbackName', ':', \"''\", 'cookiePrompt', \"''\", '}', ')', '}', ')', '}', 'Promise.all', '(', '[', 'window.bbcuser.isUKCombined', '(', ')', ',', 'window.bbcuser.isEU', '(', ')', ',', 'window.bbcpage.getLanguage', '(', ')', ']', ')', '.then', '(', 'function', '(', 'e', ')', '{', 'var', 'n=e', '[', '0', ']', ';', 'if', '(', 'e', '[', '1', ']', '||n', ')', '{', 'var', 'o=null', '!', '==s.get', '(', 'a', ')', ';', 'if', '(', '!', '(', 's.isCookiePolicySet', '(', ')', '&', '&', 'i', '(', ')', '&', '&', 'o', ')', ')', 'i', '(', ')', '||s.set', '(', 'b', ',', \"''\", '0', \"''\", ')', ',', 's.isCookiePolicySet', '(', ')', '||s.setDefaultCookiesSingleDomain', '(', ')', ',', 'c', '(', 'e', '[', '2', ']', ',', 't', ')', '}', '}', ')', '.catch', '(', 'function', '(', ')', '{', 'c', '(', '``', 'en', \"''\", ',', 't', ')', '}', ')', '}', ')', ';', 'window.old_onload', '=', 'window.onload', ';', 'window.onload', '=', 'function', '(', ')', '{', 'if', '(', 'window.old_onload', ')', '{', 'window.old_onload', '(', ')', ';', '}', 'window.loaded', '=', 'true', ';', '}', ';', '/**', 'CONFIGURATION', 'START', '**/', 'var', '_sf_async_config', '=', '{', '}', ';', '_sf_async_config.uid', '=', '``', '50924', \"''\", ';', '_sf_async_config.domain', '=', '``', 'www.bbc.co.uk', \"''\", ';', '_sf_async_config.sections', '=', '``', 'News', ',', 'News', '-', 'asia', ',', 'News', '-', 'STY', ',', 'News', '-', 'asia', '-', 'STY', ',', 'News', '-', 'news-category', \"''\", ';', '<', '!', '--', 'if', 'page', 'is', 'an', 'index', ',', 'add', 'the', 'edition', 'to', 'the', 'path', '--', '>', '_sf_async_config.path', '=', '``', 'bbc.co.uk/news/world-asia-45069935', \"''\", ';', '(', 'function', '(', ')', '{', 'var', 'noCookies', '=', 'true', ';', 'var', 'cookiePrefix', '=', \"'_chartbeat\", \"'\", ';', 'if', '(', '``', 'object', \"''\", '===', 'typeof', 'bbccookies', '&', '&', 'typeof', 'bbccookies.readPolicy', '==', \"'function\", \"'\", ')', '{', 'noCookies', '=', '!', 'bbccookies.readPolicy', '(', ')', '.performance', ';', '}', 'if', '(', 'noCookies', '&', '&', 'document.cookie.indexOf', '(', 'cookiePrefix', ')', '!', '==', '-1', ')', '{', '//Find', 'and', 'remove', 'cookies', 'whose', 'names', 'begin', 'with', \"'_chartbeat'\", 'var', 'cookieSplit', '=', 'document.cookie.split', '(', \"'\", ';', \"'\", ')', ';', 'var', 'cookieLength', '=', 'cookieSplit.length', ';', 'while', '(', 'cookieLength', '--', ')', '{', 'var', 'cookie', '=', 'cookieSplit', '[', 'cookieLength', ']', '.replace', '(', '/^\\\\s+|\\\\s+', '$', '/g', ',', '``', ')', ';', 'var', 'cookieName', '=', 'cookie.split', '(', \"'=\", \"'\", ')', '[', '0', ']', ';', 'if', '(', 'cookieName.indexOf', '(', 'cookiePrefix', ')', '===', '0', ')', '{', 'document.cookie', '=', 'cookieName', '+', \"'=\", ';', 'expires=Thu', ',', '01', 'Jan', '1970', '00:00:00', 'GMT', ';', 'path=/', ';', \"'\", ';', '}', '}', '}', '_sf_async_config.noCookies', '=', 'noCookies', ';', '}', '(', ')', ')', ';', '(', 'function', '(', ')', '{', 'var', 'cookiePrefix', '=', \"'ckpf_sylphid\", \"'\", ';', '_sf_async_config.idSync', '=', '_sf_async_config.idSync', '||', '{', '}', ';', 'if', '(', '``', 'object', \"''\", '===', 'typeof', 'bbccookies', '&', '&', 'typeof', 'bbccookies.readPolicy', '==', \"'function\", \"'\", '&', '&', 'bbccookies.readPolicy', '(', ')', '.performance', '&', '&', 'document.cookie.indexOf', '(', 'cookiePrefix', ')', '!', '==', '-1', ')', '{', 'var', 'cookieSplit', '=', 'document.cookie.split', '(', \"'\", ';', \"'\", ')', ';', 'var', 'cookieLength', '=', 'cookieSplit.length', ';', 'while', '(', 'cookieLength', '--', ')', '{', 'var', 'cookie', '=', 'cookieSplit', '[', 'cookieLength', ']', '.replace', '(', '/^\\\\s+|\\\\s+', '$', '/g', ',', '``', ')', ';', 'var', 'cookieName', '=', 'cookie.split', '(', \"'=\", \"'\", ')', '[', '0', ']', ';', 'if', '(', 'cookieName.indexOf', '(', 'cookiePrefix', ')', '===', '0', ')', '{', '_sf_async_config.idSync.bbc_hid', '=', 'cookieSplit', '[', 'cookieLength', ']', '.split', '(', \"'=\", \"'\", ')', '[', '1', ']', ';', 'break', ';', '}', '}', '}', '}', '(', ')', ')', ';', '/**', 'CONFIGURATION', 'END', '**/', '(', 'function', '(', ')', '{', 'function', 'loadChartbeat', '(', ')', '{', 'window._sf_endpt=', '(', 'new', 'Date', '(', ')', ')', '.getTime', '(', ')', ';', 'var', 'e', '=', 'document.createElement', '(', '``', 'script', \"''\", ')', ';', 'e.setAttribute', '(', '``', 'language', \"''\", ',', '``', 'javascript', \"''\", ')', ';', 'e.setAttribute', '(', '``', 'type', \"''\", ',', '``', 'text/javascript', \"''\", ')', ';', 'e.setAttribute', '(', \"'src\", \"'\", ',', \"'//static.chartbeat.com/js/chartbeat.js\", \"'\", ')', ';', 'document.body.appendChild', '(', 'e', ')', ';', '}', 'var', 'oldonload', '=', 'window.onload', ';', 'window.onload', '=', '(', 'typeof', 'window.onload', '!', '=', '``', 'function', \"''\", ')', '?', 'loadChartbeat', ':', 'function', '(', ')', '{', 'oldonload', '(', ')', ';', 'loadChartbeat', '(', ')', ';', '}', ';', '}', '(', ')', ')', ';', 'var', '_comscore', '=', '_comscore', '||', '[', ']', ';', '_comscore.push', '(', '{', 'c1', ':', '``', '2', \"''\", ',', 'c2', ':', '``', '17986528', \"''\", '}', ')', ';', '(', 'function', '(', ')', '{', 'if', '(', \"'object\", \"'\", '===', 'typeof', 'bbccookies', '&', '&', 'bbccookies.cookiesEnabled', '(', ')', '&', '&', 'bbccookies.readPolicy', '(', \"'performance\", \"'\", ')', ')', '{', 'var', 's', '=', 'document.createElement', '(', '``', 'script', \"''\", ')', ';', 'var', 'el', '=', 'document.getElementsByTagName', '(', '``', 'script', \"''\", ')', '[', '0', ']', ';', 's.async', '=', 'true', ';', 's.src', '=', '(', 'document.location.protocol', '==', '``', 'https', ':', \"''\", '?', '``', 'https', ':', '//sb', \"''\", ':', '``', 'http', ':', '//b', \"''\", ')', '+', '``', '.scorecardresearch.com/beacon.js', \"''\", ';', 'el.parentNode.insertBefore', '(', 's', ',', 'el', ')', ';', '}', '}', ')', '(', ')', ';']\n"
     ]
    }
   ],
   "source": [
    "raw=BeautifulSoup(html).get_text()\n",
    "tokens=word_tokenize(raw)\n",
    "print(tokens)"
   ]
  },
  {
   "cell_type": "code",
   "execution_count": 13,
   "metadata": {
    "collapsed": false
   },
   "outputs": [],
   "source": [
    "text=nltk.Text(tokens)"
   ]
  },
  {
   "cell_type": "code",
   "execution_count": 15,
   "metadata": {
    "collapsed": false
   },
   "outputs": [
    {
     "name": "stdout",
     "output_type": "stream",
     "text": [
      "Displaying 7 of 7 matches:\n",
      " Bangladesh students attacked during Dhaka pro\n",
      ":08+01:00 '' , '' headline '' : '' Bangladesh teens attacked during protest '' ,\n",
      "ine '' : { } , '' headline '' : '' Bangladesh students attacked during Dhaka pro\n",
      ",3,4 ] ) ; } } ) ( ) ; /* ] ] > */ Bangladesh students attacked during Dhaka pro\n",
      "ts have been injured in clashes in Bangladesh 's capital on the seventh day of a\n",
      " those beaten up by members of the Bangladesh Chhatra League , a student organis\n",
      "atsApp LinkedIn More on this story Bangladesh teenagers demanding road safety pa\n"
     ]
    }
   ],
   "source": [
    "text.concordance('Bangladesh')"
   ]
  },
  {
   "cell_type": "code",
   "execution_count": 16,
   "metadata": {
    "collapsed": false
   },
   "outputs": [
    {
     "name": "stdout",
     "output_type": "stream",
     "text": [
      "Displaying 2 of 2 matches:\n",
      "acked them but local media blamed a student group linked to the ruling party.Th\n",
      "f the Bangladesh Chhatra League , a student organisation currently linked to th\n"
     ]
    }
   ],
   "source": [
    "text.concordance('student')"
   ]
  },
  {
   "cell_type": "markdown",
   "metadata": {},
   "source": [
    "## Regular Expression"
   ]
  },
  {
   "cell_type": "code",
   "execution_count": 17,
   "metadata": {
    "collapsed": true
   },
   "outputs": [],
   "source": [
    "import re\n",
    "wordlist=[w for w in nltk.corpus.words.words('en') if w.lower()]"
   ]
  },
  {
   "cell_type": "code",
   "execution_count": 18,
   "metadata": {
    "collapsed": false
   },
   "outputs": [
    {
     "data": {
      "text/plain": [
       "['Arkansas', 'cossas', 'dipsas']"
      ]
     },
     "execution_count": 18,
     "metadata": {},
     "output_type": "execute_result"
    }
   ],
   "source": [
    "#search for words ending with 'sas'\n",
    "[w for w in wordlist if re.search('sas$',w)]"
   ]
  },
  {
   "cell_type": "code",
   "execution_count": 20,
   "metadata": {
    "collapsed": false
   },
   "outputs": [
    {
     "data": {
      "text/plain": [
       "['adroop',\n",
       " 'apoop',\n",
       " 'armhoop',\n",
       " 'astoop',\n",
       " 'bloop',\n",
       " 'canhoop',\n",
       " 'choop',\n",
       " 'cloop',\n",
       " 'coop',\n",
       " 'droop',\n",
       " 'encoop',\n",
       " 'foreloop',\n",
       " 'Goop',\n",
       " 'groop',\n",
       " 'hencoop',\n",
       " 'hoop',\n",
       " 'interloop',\n",
       " 'loop',\n",
       " 'moop',\n",
       " 'nincompoop',\n",
       " 'noop',\n",
       " 'overdroop',\n",
       " 'overstoop',\n",
       " 'paratroop',\n",
       " 'poop',\n",
       " 'redhoop',\n",
       " 'rehoop',\n",
       " 'saloop',\n",
       " 'schloop',\n",
       " 'scoop',\n",
       " 'scroop',\n",
       " 'shoop',\n",
       " 'sloop',\n",
       " 'snoop',\n",
       " 'stoop',\n",
       " 'swoop',\n",
       " 'tonyhoop',\n",
       " 'toop',\n",
       " 'troop',\n",
       " 'uncoop',\n",
       " 'underscoop',\n",
       " 'unhoop',\n",
       " 'unloop',\n",
       " 'uploop',\n",
       " 'whisterpoop',\n",
       " 'whoop',\n",
       " 'yoop']"
      ]
     },
     "execution_count": 20,
     "metadata": {},
     "output_type": "execute_result"
    }
   ],
   "source": [
    "#search for words ending with 'oop'\n",
    "[w for w in wordlist if re.search('oop$',w)]"
   ]
  },
  {
   "cell_type": "markdown",
   "metadata": {},
   "source": [
    "#### ^ means start of string , \\$ means end of string , ... means each character, Finally, the ? symbol specifies that the previous character is optional. Thus «^e-?mail$» will match both email and e-mail. "
   ]
  },
  {
   "cell_type": "code",
   "execution_count": 22,
   "metadata": {
    "collapsed": false
   },
   "outputs": [
    {
     "data": {
      "text/plain": [
       "['leaning', 'meaning', 'moaning', 'spaning']"
      ]
     },
     "execution_count": 22,
     "metadata": {},
     "output_type": "execute_result"
    }
   ],
   "source": [
    "[w for w in wordlist if re.search('^..aning$',w)]"
   ]
  },
  {
   "cell_type": "markdown",
   "metadata": {},
   "source": [
    "#### text sequesnces: [xyzs] only one of xyxz is choosed\n",
    "ranges can be used to find words typed by number sequence in phones, like with button 2, we can type a,b,c etc"
   ]
  },
  {
   "cell_type": "code",
   "execution_count": 26,
   "metadata": {
    "collapsed": false
   },
   "outputs": [
    {
     "data": {
      "text/plain": [
       "['zoea']"
      ]
     },
     "execution_count": 26,
     "metadata": {},
     "output_type": "execute_result"
    }
   ],
   "source": [
    "#for the number 9632\n",
    "[w for w in wordlist if re.search('^[wxyz][mno][def][abc]$',w)]"
   ]
  },
  {
   "cell_type": "markdown",
   "metadata": {},
   "source": [
    "```\n",
    "+ simply means \"one or more instances of the preceding item\", which could be an individual character like m, a set like [fed] or a range like [d-f]. Now let's replace + with *, which means \"zero or more instances of the preceding item\". The regular expression ^m*i*n*e*$ will match everything that we found using ^m+i+n+e+$, but also words where some of the letters don't appear at all, e.g. me, min, and mmmmm. Note that the + and * symbols are sometimes referred to as Kleene closures, or simply closures.\n",
    "```"
   ]
  },
  {
   "cell_type": "code",
   "execution_count": 27,
   "metadata": {
    "collapsed": false
   },
   "outputs": [
    {
     "data": {
      "text/plain": [
       "['g',\n",
       " 'ghoom',\n",
       " 'gig',\n",
       " 'giggling',\n",
       " 'gigolo',\n",
       " 'gilim',\n",
       " 'gill',\n",
       " 'gilling',\n",
       " 'gilo',\n",
       " 'gim',\n",
       " 'gin',\n",
       " 'ging',\n",
       " 'gingili',\n",
       " 'gink',\n",
       " 'ginkgo',\n",
       " 'ginning',\n",
       " 'gio',\n",
       " 'glink',\n",
       " 'glom',\n",
       " 'glonoin',\n",
       " 'gloom',\n",
       " 'glooming',\n",
       " 'gnomon',\n",
       " 'go',\n",
       " 'gog',\n",
       " 'gogo',\n",
       " 'goi',\n",
       " 'going',\n",
       " 'gol',\n",
       " 'goli',\n",
       " 'gon',\n",
       " 'gong',\n",
       " 'gonion',\n",
       " 'goo',\n",
       " 'googol',\n",
       " 'gook',\n",
       " 'gool',\n",
       " 'goon',\n",
       " 'h',\n",
       " 'hi',\n",
       " 'high',\n",
       " 'hill',\n",
       " 'him',\n",
       " 'hin',\n",
       " 'hing',\n",
       " 'hinoki',\n",
       " 'ho',\n",
       " 'hog',\n",
       " 'hoggin',\n",
       " 'hogling',\n",
       " 'hoi',\n",
       " 'hoin',\n",
       " 'holing',\n",
       " 'holl',\n",
       " 'hollin',\n",
       " 'hollo',\n",
       " 'hollong',\n",
       " 'holm',\n",
       " 'homo',\n",
       " 'homologon',\n",
       " 'hong',\n",
       " 'honk',\n",
       " 'hook',\n",
       " 'hoon',\n",
       " 'i',\n",
       " 'igloo',\n",
       " 'ihi',\n",
       " 'ilk',\n",
       " 'ill',\n",
       " 'imi',\n",
       " 'imino',\n",
       " 'immi',\n",
       " 'in',\n",
       " 'ing',\n",
       " 'ingoing',\n",
       " 'inion',\n",
       " 'ink',\n",
       " 'inkling',\n",
       " 'inlook',\n",
       " 'inn',\n",
       " 'inning',\n",
       " 'io',\n",
       " 'ion',\n",
       " 'j',\n",
       " 'jhool',\n",
       " 'jig',\n",
       " 'jing',\n",
       " 'jingling',\n",
       " 'jingo',\n",
       " 'jinjili',\n",
       " 'jink',\n",
       " 'jinn',\n",
       " 'jinni',\n",
       " 'jo',\n",
       " 'jog',\n",
       " 'johnin',\n",
       " 'join',\n",
       " 'joining',\n",
       " 'joll',\n",
       " 'joom',\n",
       " 'k',\n",
       " 'kiki',\n",
       " 'kil',\n",
       " 'kilhig',\n",
       " 'kilim',\n",
       " 'kill',\n",
       " 'killing',\n",
       " 'kiln',\n",
       " 'kilo',\n",
       " 'kim',\n",
       " 'kimono',\n",
       " 'kin',\n",
       " 'king',\n",
       " 'kingling',\n",
       " 'kink',\n",
       " 'kino',\n",
       " 'klom',\n",
       " 'knoll',\n",
       " 'ko',\n",
       " 'kohl',\n",
       " 'koi',\n",
       " 'koil',\n",
       " 'koilon',\n",
       " 'koinon',\n",
       " 'kokil',\n",
       " 'kokio',\n",
       " 'koko',\n",
       " 'kokoon',\n",
       " 'kolo',\n",
       " 'kolokolo',\n",
       " 'kon',\n",
       " 'kongoni',\n",
       " 'konini',\n",
       " 'l',\n",
       " 'li',\n",
       " 'lignin',\n",
       " 'liin',\n",
       " 'likin',\n",
       " 'liking',\n",
       " 'liknon',\n",
       " 'lill',\n",
       " 'lim',\n",
       " 'liming',\n",
       " 'limn',\n",
       " 'limonin',\n",
       " 'lin',\n",
       " 'ling',\n",
       " 'lingo',\n",
       " 'linin',\n",
       " 'lining',\n",
       " 'link',\n",
       " 'linking',\n",
       " 'linn',\n",
       " 'lino',\n",
       " 'linolin',\n",
       " 'linon',\n",
       " 'lion',\n",
       " 'lo',\n",
       " 'log',\n",
       " 'loggin',\n",
       " 'logging',\n",
       " 'login',\n",
       " 'logion',\n",
       " 'logoi',\n",
       " 'loin',\n",
       " 'loll',\n",
       " 'long',\n",
       " 'longing',\n",
       " 'loo',\n",
       " 'look',\n",
       " 'looking',\n",
       " 'loom',\n",
       " 'looming',\n",
       " 'loon',\n",
       " 'm',\n",
       " 'mho',\n",
       " 'mi',\n",
       " 'mig',\n",
       " 'miglio',\n",
       " 'mignon',\n",
       " 'mijl',\n",
       " 'mil',\n",
       " 'milk',\n",
       " 'milking',\n",
       " 'mill',\n",
       " 'milling',\n",
       " 'million',\n",
       " 'milo',\n",
       " 'mim',\n",
       " 'min',\n",
       " 'ming',\n",
       " 'minikin',\n",
       " 'minim',\n",
       " 'mining',\n",
       " 'minion',\n",
       " 'mink',\n",
       " 'minning',\n",
       " 'mino',\n",
       " 'mo',\n",
       " 'mog',\n",
       " 'mogo',\n",
       " 'moho',\n",
       " 'moil',\n",
       " 'moiling',\n",
       " 'moio',\n",
       " 'mojo',\n",
       " 'moki',\n",
       " 'moko',\n",
       " 'momo',\n",
       " 'mon',\n",
       " 'mong',\n",
       " 'monk',\n",
       " 'mono',\n",
       " 'moo',\n",
       " 'mooing',\n",
       " 'mool',\n",
       " 'moon',\n",
       " 'mooning',\n",
       " 'n',\n",
       " 'ni',\n",
       " 'nig',\n",
       " 'niggling',\n",
       " 'nigh',\n",
       " 'nil',\n",
       " 'nim',\n",
       " 'ninon',\n",
       " 'niog',\n",
       " 'no',\n",
       " 'nog',\n",
       " 'noggin',\n",
       " 'nogging',\n",
       " 'noil',\n",
       " 'noll',\n",
       " 'nolo',\n",
       " 'non',\n",
       " 'nonillion',\n",
       " 'nonion',\n",
       " 'nook',\n",
       " 'nooking',\n",
       " 'noon',\n",
       " 'nooning',\n",
       " 'o',\n",
       " 'oh',\n",
       " 'ohm',\n",
       " 'oho',\n",
       " 'oii',\n",
       " 'oil',\n",
       " 'oki',\n",
       " 'olio',\n",
       " 'olm',\n",
       " 'om',\n",
       " 'on',\n",
       " 'ongoing',\n",
       " 'onion',\n",
       " 'onlook',\n",
       " 'onlooking',\n",
       " 'oolong']"
      ]
     },
     "execution_count": 27,
     "metadata": {},
     "output_type": "execute_result"
    }
   ],
   "source": [
    "[w for w in wordlist if re.search('^[g-o]+$', w)]"
   ]
  },
  {
   "cell_type": "code",
   "execution_count": 28,
   "metadata": {
    "collapsed": false
   },
   "outputs": [
    {
     "data": {
      "text/plain": [
       "['a',\n",
       " 'aa',\n",
       " 'ah',\n",
       " 'aha',\n",
       " 'as',\n",
       " 'ash',\n",
       " 'ashy',\n",
       " 'ass',\n",
       " 'assay',\n",
       " 'ay',\n",
       " 'ayah',\n",
       " 'h',\n",
       " 'ha',\n",
       " 'hah',\n",
       " 'hash',\n",
       " 'hashy',\n",
       " 'hay',\n",
       " 'haya',\n",
       " 's',\n",
       " 'sa',\n",
       " 'saa',\n",
       " 'sah',\n",
       " 'sahh',\n",
       " 'sasa',\n",
       " 'sash',\n",
       " 'sashay',\n",
       " 'sassy',\n",
       " 'say',\n",
       " 'saya',\n",
       " 'sh',\n",
       " 'sha',\n",
       " 'shah',\n",
       " 'shay',\n",
       " 'shy',\n",
       " 'y',\n",
       " 'ya',\n",
       " 'yah',\n",
       " 'yas',\n",
       " 'yaya']"
      ]
     },
     "execution_count": 28,
     "metadata": {},
     "output_type": "execute_result"
    }
   ],
   "source": [
    "[w for w in wordlist if re.search('^[aysha]+$', w)]"
   ]
  },
  {
   "cell_type": "markdown",
   "metadata": {},
   "source": [
    "#### The ^ operator has another function when it appears as the first character inside square brackets. For example «[^aeiouAEIOU]» matches any character other than a vowel."
   ]
  },
  {
   "cell_type": "code",
   "execution_count": 33,
   "metadata": {
    "collapsed": false
   },
   "outputs": [
    {
     "data": {
      "text/plain": [
       "['miiiiiiiiiiiiinnnnnnnnnnneeeeeeeeee',\n",
       " 'miiiiiinnnnnnnnnneeeeeeee',\n",
       " 'mine',\n",
       " 'mmmmmmmmiiiiiiiiinnnnnnnnneeeeeeee']"
      ]
     },
     "execution_count": 33,
     "metadata": {},
     "output_type": "execute_result"
    }
   ],
   "source": [
    "chat_words=sorted(set(nltk.corpus.nps_chat.words()))\n",
    "[w for w in chat_words if re.search('^m+i+n+e+$',w)]"
   ]
  },
  {
   "cell_type": "code",
   "execution_count": 34,
   "metadata": {
    "collapsed": false
   },
   "outputs": [
    {
     "data": {
      "text/plain": [
       "['ae']"
      ]
     },
     "execution_count": 34,
     "metadata": {},
     "output_type": "execute_result"
    }
   ],
   "source": [
    "[w for w in chat_words if re.search('^m*i*(ae)+n*e*$', w)]\n",
    "#0 or more m, 0 or more i, 1 ae, then 0 or more of n and e"
   ]
  },
  {
   "cell_type": "code",
   "execution_count": 35,
   "metadata": {
    "collapsed": false
   },
   "outputs": [
    {
     "data": {
      "text/plain": [
       "['',\n",
       " 'e',\n",
       " 'i',\n",
       " 'in',\n",
       " 'm',\n",
       " 'me',\n",
       " 'meeeeeeeeeeeee',\n",
       " 'mi',\n",
       " 'miiiiiiiiiiiiinnnnnnnnnnneeeeeeeeee',\n",
       " 'miiiiiinnnnnnnnnneeeeeeee',\n",
       " 'min',\n",
       " 'mine',\n",
       " 'mm',\n",
       " 'mmm',\n",
       " 'mmmm',\n",
       " 'mmmmm',\n",
       " 'mmmmmm',\n",
       " 'mmmmmmmmiiiiiiiiinnnnnnnnneeeeeeee',\n",
       " 'mmmmmmmmmm',\n",
       " 'mmmmmmmmmmmmm',\n",
       " 'mmmmmmmmmmmmmm',\n",
       " 'n',\n",
       " 'ne']"
      ]
     },
     "execution_count": 35,
     "metadata": {},
     "output_type": "execute_result"
    }
   ],
   "source": [
    "[w for w in chat_words if re.search('^m*i*n*e*$', w)]"
   ]
  },
  {
   "cell_type": "markdown",
   "metadata": {},
   "source": [
    "#### more examples\n",
    "```\n",
    ">>> wsj = sorted(set(nltk.corpus.treebank.words()))\n",
    ">>> [w for w in wsj if re.search('^[0-9]+\\.[0-9]+$', w)]\n",
    "['0.0085', '0.05', '0.1', '0.16', '0.2', '0.25', '0.28', '0.3', '0.4', '0.5',\n",
    "'0.50', '0.54', '0.56', '0.60', '0.7', '0.82', '0.84', '0.9', '0.95', '0.99',\n",
    "'1.01', '1.1', '1.125', '1.14', '1.1650', '1.17', '1.18', '1.19', '1.2', ...]\n",
    ">>> [w for w in wsj if re.search('^[A-Z]+\\$$', w)]\n",
    "['C$', 'US$']\n",
    ">>> [w for w in wsj if re.search('^[0-9]{4}$', w)]\n",
    "['1614', '1637', '1787', '1901', '1903', '1917', '1925', '1929', '1933', ...]\n",
    ">>> [w for w in wsj if re.search('^[0-9]+-[a-z]{3,5}$', w)]\n",
    "['10-day', '10-lap', '10-year', '100-share', '12-point', '12-year', ...]\n",
    ">>> [w for w in wsj if re.search('^[a-z]{5,}-[a-z]{2,3}-[a-z]{,6}$', w)]\n",
    "['black-and-white', 'bread-and-butter', 'father-in-law', 'machine-gun-toting',\n",
    "'savings-and-loan']\n",
    ">>> [w for w in wsj if re.search('(ed|ing)$', w)]\n",
    "['62%-owned', 'Absorbed', 'According', 'Adopting', 'Advanced', 'Advancing', ...]\n",
    "\n",
    "\n",
    "You probably worked out that a backslash means that the following character is deprived of its special powers and must literally match a specific character in the word. Thus, while . is special, \\. only matches a period. The braced expressions, like {3,5}, specify the number of repeats of the previous item. The pipe character indicates a choice between the material on its left or its right. Parentheses indicate the scope of an operator: they can be used together with the pipe (or disjunction) symbol like this: «w(i|e|ai|oo)t», matching wit, wet, wait, and woot. It is instructive to see what happens when you omit the parentheses from the last expression above, and search for «ed|ing$»\n",
    "```"
   ]
  },
  {
   "cell_type": "markdown",
   "metadata": {},
   "source": [
    "### BRIEF\n",
    "```\n",
    "Operator\t                     Behavior\n",
    "\n",
    ".\t               Wildcard, matches any character\n",
    "^abc\t           Matches some pattern abc at the start of a string\n",
    "abc$\t           Matches some pattern abc at the end of a string\n",
    "[abc]\t           Matches one of a set of characters\n",
    "[A-Z0-9]\t       Matches one of a range of characters\n",
    "ed|ing|s           Matches one of the specified strings (disjunction)\n",
    "*\t               Zero or more of previous item, e.g. a*, [a-z]* (also known as Kleene Closure)\n",
    "+\t               One or more of previous item, e.g. a+, [a-z]+\n",
    "?\t               Zero or one of the previous item (i.e. optional), e.g. a?, [a-z]?\n",
    "{n}\t               Exactly n repeats where n is a non-negative integer\n",
    "{n,}\t           At least n repeats\n",
    "{,n}\t           No more than n repeats\n",
    "{m,n}\t           At least m and no more than n repeats\n",
    "a(b|c)+\t           Parentheses that indicate the scope of the operators\n",
    "```"
   ]
  },
  {
   "cell_type": "code",
   "execution_count": 63,
   "metadata": {
    "collapsed": false
   },
   "outputs": [
    {
     "name": "stdout",
     "output_type": "stream",
     "text": [
      "nope{le}{le}\n"
     ]
    }
   ],
   "source": [
    "nltk.re_show('le*',\"nopelele\",left='{', right='}')"
   ]
  },
  {
   "cell_type": "markdown",
   "metadata": {},
   "source": [
    "#### list comprehension exercise\n",
    "```\n",
    "☼ Rewrite the following loop as a list comprehension:\n",
    "\n",
    " \t\n",
    ">>> sent = ['The', 'dog', 'gave', 'John', 'the', 'newspaper']\n",
    ">>> result = []\n",
    ">>> for word in sent:\n",
    "...     word_len = (word, len(word))\n",
    "...     result.append(word_len)\n",
    ">>> result\n",
    "[('The', 3), ('dog', 3), ('gave', 4), ('John', 4), ('the', 3), ('newspaper', 9)]\n",
    "```"
   ]
  },
  {
   "cell_type": "code",
   "execution_count": 64,
   "metadata": {
    "collapsed": false
   },
   "outputs": [
    {
     "data": {
      "text/plain": [
       "[('The', 3),\n",
       " ('dog', 3),\n",
       " ('gave', 4),\n",
       " ('John', 4),\n",
       " ('the', 3),\n",
       " ('newspaper', 9)]"
      ]
     },
     "execution_count": 64,
     "metadata": {},
     "output_type": "execute_result"
    }
   ],
   "source": [
    "sent = ['The', 'dog', 'gave', 'John', 'the', 'newspaper']\n",
    "[(word,len(word)) for word in sent]"
   ]
  },
  {
   "cell_type": "markdown",
   "metadata": {},
   "source": [
    "# Tokenization and splitting\n",
    "Tokenization is the task of cutting a string into identifiable linguistic units that constitute a piece of language data."
   ]
  },
  {
   "cell_type": "code",
   "execution_count": 68,
   "metadata": {
    "collapsed": false
   },
   "outputs": [
    {
     "name": "stdout",
     "output_type": "stream",
     "text": [
      "*** Introductory Examples for the NLTK Book ***\n",
      "Loading text1, ..., text9 and sent1, ..., sent9\n",
      "Type the name of the text or sentence to view it.\n",
      "Type: 'texts()' or 'sents()' to list the materials.\n",
      "text1: Moby Dick by Herman Melville 1851\n",
      "text2: Sense and Sensibility by Jane Austen 1811\n",
      "text3: The Book of Genesis\n",
      "text4: Inaugural Address Corpus\n",
      "text5: Chat Corpus\n",
      "text6: Monty Python and the Holy Grail\n",
      "text7: Wall Street Journal\n",
      "text8: Personals Corpus\n",
      "text9: The Man Who Was Thursday by G . K . Chesterton 1908\n"
     ]
    }
   ],
   "source": [
    "from nltk.book import *"
   ]
  },
  {
   "cell_type": "code",
   "execution_count": 76,
   "metadata": {
    "collapsed": false
   },
   "outputs": [
    {
     "name": "stdout",
     "output_type": "stream",
     "text": [
      "'When I'M a Duchess,' she said to herself, (not in a very hopeful tone\n",
      "though), 'I won't have any pepper in my kitchen AT ALL. Soup does very\n",
      "well without--Maybe it's always pepper that makes people hot-tempered,'...\n"
     ]
    }
   ],
   "source": [
    "raw= \"\"\"'When I'M a Duchess,' she said to herself, (not in a very hopeful tone\n",
    "... though), 'I won't have any pepper in my kitchen AT ALL. Soup does very\n",
    "... well without--Maybe it's always pepper that makes people hot-tempered,'...\"\"\"\n",
    "print(raw)"
   ]
  },
  {
   "cell_type": "code",
   "execution_count": 77,
   "metadata": {
    "collapsed": false
   },
   "outputs": [
    {
     "data": {
      "text/plain": [
       "[\"'When\",\n",
       " \"I'M\",\n",
       " 'a',\n",
       " \"Duchess,'\",\n",
       " 'she',\n",
       " 'said',\n",
       " 'to',\n",
       " 'herself,',\n",
       " '(not',\n",
       " 'in',\n",
       " 'a',\n",
       " 'very',\n",
       " 'hopeful',\n",
       " 'tone\\nthough),',\n",
       " \"'I\",\n",
       " \"won't\",\n",
       " 'have',\n",
       " 'any',\n",
       " 'pepper',\n",
       " 'in',\n",
       " 'my',\n",
       " 'kitchen',\n",
       " 'AT',\n",
       " 'ALL.',\n",
       " 'Soup',\n",
       " 'does',\n",
       " 'very\\nwell',\n",
       " 'without--Maybe',\n",
       " \"it's\",\n",
       " 'always',\n",
       " 'pepper',\n",
       " 'that',\n",
       " 'makes',\n",
       " 'people',\n",
       " \"hot-tempered,'...\"]"
      ]
     },
     "execution_count": 77,
     "metadata": {},
     "output_type": "execute_result"
    }
   ],
   "source": [
    "re.split(r' ', raw)"
   ]
  },
  {
   "cell_type": "markdown",
   "metadata": {},
   "source": [
    "The regular expression «[ \\t\\n]+» matches one or more space, tab (\\t) or newline (\\n). Other whitespace characters, such as carriage-return and form-feed should really be included too. Instead, we will use a built-in re abbreviation, \\s, which means any whitespace character. The above statement can be rewritten as re.split(r'\\s+', raw)."
   ]
  },
  {
   "cell_type": "code",
   "execution_count": 79,
   "metadata": {
    "collapsed": false
   },
   "outputs": [
    {
     "data": {
      "text/plain": [
       "[\"'When\",\n",
       " \"I'M\",\n",
       " 'a',\n",
       " \"Duchess,'\",\n",
       " 'she',\n",
       " 'said',\n",
       " 'to',\n",
       " 'herself,',\n",
       " '(not',\n",
       " 'in',\n",
       " 'a',\n",
       " 'very',\n",
       " 'hopeful',\n",
       " 'tone',\n",
       " 'though),',\n",
       " \"'I\",\n",
       " \"won't\",\n",
       " 'have',\n",
       " 'any',\n",
       " 'pepper',\n",
       " 'in',\n",
       " 'my',\n",
       " 'kitchen',\n",
       " 'AT',\n",
       " 'ALL.',\n",
       " 'Soup',\n",
       " 'does',\n",
       " 'very',\n",
       " 'well',\n",
       " 'without--Maybe',\n",
       " \"it's\",\n",
       " 'always',\n",
       " 'pepper',\n",
       " 'that',\n",
       " 'makes',\n",
       " 'people',\n",
       " \"hot-tempered,'...\"]"
      ]
     },
     "execution_count": 79,
     "metadata": {},
     "output_type": "execute_result"
    }
   ],
   "source": [
    "re.split(r'[\\s]+', raw)"
   ]
  },
  {
   "cell_type": "markdown",
   "metadata": {},
   "source": [
    "Splitting on whitespace gives us tokens like '(not' and 'herself,'. An alternative is to use the fact that Python provides us with a character class \\w for word characters, equivalent to [a-zA-Z0-9_]. It also defines the complement of this class \\W, i.e. all characters other than letters, digits or underscore. We can use \\W in a simple regular expression to split the input on anything other than a word character:"
   ]
  },
  {
   "cell_type": "code",
   "execution_count": 92,
   "metadata": {
    "collapsed": false
   },
   "outputs": [
    {
     "data": {
      "text/plain": [
       "['',\n",
       " 'When',\n",
       " 'I',\n",
       " 'M',\n",
       " 'a',\n",
       " 'Duchess',\n",
       " '',\n",
       " '',\n",
       " 'she',\n",
       " 'said',\n",
       " 'to',\n",
       " 'herself',\n",
       " '',\n",
       " '',\n",
       " 'not',\n",
       " 'in',\n",
       " 'a',\n",
       " 'very',\n",
       " 'hopeful',\n",
       " 'tone',\n",
       " 'though',\n",
       " '',\n",
       " '',\n",
       " '',\n",
       " 'I',\n",
       " 'won',\n",
       " 't',\n",
       " 'have',\n",
       " 'any',\n",
       " 'pepper',\n",
       " 'in',\n",
       " 'my',\n",
       " 'kitchen',\n",
       " 'AT',\n",
       " 'ALL',\n",
       " '',\n",
       " 'Soup',\n",
       " 'does',\n",
       " 'very',\n",
       " 'well',\n",
       " 'without',\n",
       " '',\n",
       " 'Maybe',\n",
       " 'it',\n",
       " 's',\n",
       " 'always',\n",
       " 'pepper',\n",
       " 'that',\n",
       " 'makes',\n",
       " 'people',\n",
       " 'hot',\n",
       " 'tempered',\n",
       " '',\n",
       " '',\n",
       " '',\n",
       " '',\n",
       " '']"
      ]
     },
     "execution_count": 92,
     "metadata": {},
     "output_type": "execute_result"
    }
   ],
   "source": [
    "re.split(r'\\W', raw)"
   ]
  },
  {
   "cell_type": "markdown",
   "metadata": {},
   "source": [
    "```\n",
    "Regular Expression Symbols\n",
    "\n",
    "Symbol\tFunction\n",
    "\\b\tWord boundary (zero width)\n",
    "\\d\tAny decimal digit (equivalent to [0-9])\n",
    "\\D\tAny non-digit character (equivalent to [^0-9])\n",
    "\\s\tAny whitespace character (equivalent to [ \\t\\n\\r\\f\\v])\n",
    "\\S\tAny non-whitespace character (equivalent to [^ \\t\\n\\r\\f\\v])\n",
    "\\w\tAny alphanumeric character (equivalent to [a-zA-Z0-9_])\n",
    "\\W\tAny non-alphanumeric character (equivalent to [^a-zA-Z0-9_])\n",
    "\\t\tThe tab character\n",
    "\\n\tThe newline character\n",
    "```"
   ]
  },
  {
   "cell_type": "markdown",
   "metadata": {},
   "source": [
    "The function nltk.regexp_tokenize() is similar to re.findall() (as we've been using it for tokenization). However, nltk.regexp_tokenize() is more efficient for this task, and avoids the need for special treatment of parentheses. For readability we break up the regular expression over several lines and add a comment about each line. The special (?x) \"verbose flag\" tells Python to strip out the embedded whitespace and comments."
   ]
  },
  {
   "cell_type": "markdown",
   "metadata": {},
   "source": [
    "https://stackoverflow.com/questions/35118596/python-regular-expression-not-working-properly"
   ]
  },
  {
   "cell_type": "code",
   "execution_count": 104,
   "metadata": {
    "collapsed": false
   },
   "outputs": [
    {
     "data": {
      "text/plain": [
       "['That',\n",
       " 'U.S.A.',\n",
       " 'poster-print',\n",
       " 'costs',\n",
       " '12.40',\n",
       " '100%',\n",
       " 'true',\n",
       " 'lol',\n",
       " \"isn't\",\n",
       " 'it']"
      ]
     },
     "execution_count": 104,
     "metadata": {},
     "output_type": "execute_result"
    }
   ],
   "source": [
    "text = 'That U.S.A. poster-print costs $12.40...100% true,lol,isn\\'t it?'\n",
    "pattern =r\"\"\"(?x)                   # set flag to allow verbose regexps\n",
    "              (?:[A-Z]\\.)+           # abbreviations, e.g. U.S.A.\n",
    "              |\\d+(?:\\.\\d+)?%?       # numbers, incl. currency and percentages\n",
    "              |\\w+(?:[-']\\w+)*       # words w/ optional internal hyphens/apostrophe\n",
    "              |(?:[+/\\-@&*])         # special characters with meanings\n",
    "            \"\"\"\n",
    "nltk.regexp_tokenize(text, pattern)"
   ]
  },
  {
   "cell_type": "code",
   "execution_count": 98,
   "metadata": {
    "collapsed": false
   },
   "outputs": [
    {
     "data": {
      "text/plain": [
       "'3.3'"
      ]
     },
     "execution_count": 98,
     "metadata": {},
     "output_type": "execute_result"
    }
   ],
   "source": [
    "nltk.__version__"
   ]
  },
  {
   "cell_type": "markdown",
   "metadata": {},
   "source": [
    "## todo:(can skip)unicode and ***file input/output"
   ]
  }
 ],
 "metadata": {
  "kernelspec": {
   "display_name": "Python 3",
   "language": "python",
   "name": "python3"
  },
  "language_info": {
   "codemirror_mode": {
    "name": "ipython",
    "version": 3
   },
   "file_extension": ".py",
   "mimetype": "text/x-python",
   "name": "python",
   "nbconvert_exporter": "python",
   "pygments_lexer": "ipython3",
   "version": "3.7.0"
  }
 },
 "nbformat": 4,
 "nbformat_minor": 0
}
